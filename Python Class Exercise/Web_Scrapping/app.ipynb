{
 "cells": [
  {
   "cell_type": "code",
   "execution_count": 2,
   "metadata": {},
   "outputs": [],
   "source": [
    "import pandas as pd\n"
   ]
  },
  {
   "cell_type": "code",
   "execution_count": 3,
   "metadata": {},
   "outputs": [],
   "source": [
    "url = 'http://en.wikipedia.org/wiki/List_of_national_capitals'"
   ]
  },
  {
   "cell_type": "code",
   "execution_count": 4,
   "metadata": {},
   "outputs": [],
   "source": [
    "tables = pd.read_html(url)"
   ]
  },
  {
   "cell_type": "code",
   "execution_count": 10,
   "metadata": {},
   "outputs": [
    {
     "data": {
      "application/vnd.microsoft.datawrangler.viewer.v0+json": {
       "columns": [
        {
         "name": "index",
         "rawType": "int64",
         "type": "integer"
        },
        {
         "name": "City/Town",
         "rawType": "object",
         "type": "string"
        },
        {
         "name": "Country/Territory",
         "rawType": "object",
         "type": "string"
        },
        {
         "name": "Continent",
         "rawType": "object",
         "type": "unknown"
        },
        {
         "name": "Notes",
         "rawType": "object",
         "type": "unknown"
        }
       ],
       "conversionMethod": "pd.DataFrame",
       "ref": "372555bb-af22-48ce-afbf-1e2c0ad78023",
       "rows": [
        [
         "0",
         "Abidjan (former capital; still hosts some government offices)",
         "Ivory Coast (Côte d'Ivoire)",
         "Africa",
         "Abidjan is the largest city in Ivory Coast and is officially designated as the economic capital."
        ],
        [
         "1",
         "Yamoussoukro (de jure)",
         "Ivory Coast (Côte d'Ivoire)",
         "Africa",
         "Abidjan is the largest city in Ivory Coast and is officially designated as the economic capital."
        ],
        [
         "2",
         "Abu Dhabi",
         "United Arab Emirates",
         "Asia",
         null
        ],
        [
         "3",
         "Abuja",
         "Nigeria",
         "Africa",
         "Lagos was the capital from 1914 to 1991."
        ],
        [
         "4",
         "Accra",
         "Ghana",
         "Africa",
         null
        ],
        [
         "5",
         "Adamstown",
         "Pitcairn Islands",
         "Oceania",
         "British Overseas Territory."
        ],
        [
         "6",
         "Addis Ababa",
         "Ethiopia",
         "Africa",
         null
        ],
        [
         "7",
         "Aden (de facto, temporary)",
         "Yemen",
         "Asia",
         "Yemen is in a state of civil war, and Sanaa has been occupied by Houthi rebels since September 2014. Aden, the former capital of South Yemen, is Yemen's acting capital."
        ],
        [
         "8",
         "Sanaa (de jure)",
         "Yemen",
         "Asia",
         "Yemen is in a state of civil war, and Sanaa has been occupied by Houthi rebels since September 2014. Aden, the former capital of South Yemen, is Yemen's acting capital."
        ],
        [
         "9",
         "Episkopi Cantonment",
         "Akrotiri and Dhekelia",
         "Asia",
         "British Overseas Territory."
        ],
        [
         "10",
         "Algiers",
         "Algeria",
         "Africa",
         null
        ],
        [
         "11",
         "Alofi",
         "Niue",
         "Oceania",
         "Self-governing in free association with New Zealand. Government offices are spread across both Alofi North and Alofi South."
        ],
        [
         "12",
         "Amman",
         "Jordan",
         "Asia",
         null
        ],
        [
         "13",
         "Amsterdam (official)",
         "Netherlands",
         "Europe",
         "The Hague hosts the monarch, government ministries, judiciary and diplomatic missions. See also Capital of the Netherlands."
        ],
        [
         "14",
         "The Hague (de facto)",
         "Netherlands",
         "Europe",
         "The Hague hosts the monarch, government ministries, judiciary and diplomatic missions. See also Capital of the Netherlands."
        ],
        [
         "15",
         "Andorra la Vella",
         "Andorra",
         "Europe",
         null
        ],
        [
         "16",
         "Ankara",
         "Turkey",
         "Asia",
         "Ankara became capital of the newly-formed Republic of Turkey in 1923, after the Turkish War of Independence. The capital of Turkey's predecessor, the Ottoman Empire, was Constantinople."
        ],
        [
         "17",
         "Antananarivo",
         "Madagascar",
         "Africa",
         null
        ],
        [
         "18",
         "Apia",
         "Samoa",
         "Oceania",
         null
        ],
        [
         "19",
         "Ashgabat",
         "Turkmenistan",
         "Asia",
         null
        ],
        [
         "20",
         "Asmara",
         "Eritrea",
         "Africa",
         null
        ],
        [
         "21",
         "Astana",
         "Kazakhstan",
         "Asia",
         "Astana was named Nur-Sultan from 2019 to 2022. Almaty was the capital of Kazakhstan from 1991 to 1997 and its predecessor the Kazakh SSR from 1929 to 1991."
        ],
        [
         "22",
         "Asunción",
         "Paraguay",
         "South America",
         null
        ],
        [
         "23",
         "Atafu (atoll administration)",
         "Tokelau",
         "Oceania",
         "Most populous city and smallest atoll. New Zealand owns Tokelau."
        ],
        [
         "24",
         "Nukunonu (atoll administration)",
         "Tokelau",
         "Oceania",
         "Largest atoll. the population of people living there is 531."
        ],
        [
         "25",
         "Fakaofo (atoll administration)",
         "Tokelau",
         "Oceania",
         "Most populous city in this atoll is Fale, Tokelau"
        ],
        [
         "26",
         "Athens",
         "Greece",
         "Europe",
         null
        ],
        [
         "27",
         "Avarua",
         "Cook Islands",
         "Oceania",
         "Self-governing in free association with New Zealand. The capital is sometimes incorrectly stated as Rarotonga, the island on which Avarua is located."
        ],
        [
         "28",
         "Baghdad",
         "Iraq",
         "Asia",
         null
        ],
        [
         "29",
         "Baku",
         "Azerbaijan",
         "Asia/Europe",
         null
        ],
        [
         "30",
         "Bamako",
         "Mali",
         "Africa",
         null
        ],
        [
         "31",
         "Bandar Seri Begawan",
         "Brunei",
         "Asia",
         null
        ],
        [
         "32",
         "Bangkok",
         "Thailand",
         "Asia",
         null
        ],
        [
         "33",
         "Bangui",
         "Central African Republic",
         "Africa",
         null
        ],
        [
         "34",
         "Banjul",
         "Gambia",
         "Africa",
         null
        ],
        [
         "35",
         "Basseterre",
         "Saint Kitts and Nevis",
         "North America",
         null
        ],
        [
         "36",
         "Beijing",
         "China",
         "Asia",
         "See also: Historical capitals of China."
        ],
        [
         "37",
         "Beirut",
         "Lebanon",
         "Asia",
         null
        ],
        [
         "38",
         "Belgrade",
         "Serbia",
         "Europe",
         null
        ],
        [
         "39",
         "Belmopan",
         "Belize",
         "North America",
         "Belize City was the capital of Belize's predecessor, British Honduras."
        ],
        [
         "40",
         "Berlin",
         "Germany",
         "Europe",
         "Bonn was the capital of West Germany and remained the seat of government for reunified Germany until 1999, and is still the primary seat of six ministries. See also Capital of Germany."
        ],
        [
         "41",
         "Bern (de facto)",
         "Switzerland",
         "Europe",
         null
        ],
        [
         "42",
         "Bishkek",
         "Kyrgyzstan",
         "Asia",
         null
        ],
        [
         "43",
         "Bissau",
         "Guinea-Bissau",
         "Africa",
         null
        ],
        [
         "44",
         "Bloemfontein (judicial)",
         "South Africa",
         "Africa",
         null
        ],
        [
         "45",
         "Cape Town (legislative)",
         "South Africa",
         "Africa",
         null
        ],
        [
         "46",
         "Pretoria (executive)",
         "South Africa",
         "Africa",
         null
        ],
        [
         "47",
         "Bogotá",
         "Colombia",
         "South America",
         null
        ],
        [
         "48",
         "Brades (de facto)",
         "Montserrat",
         "North America",
         "British Overseas Territory. Plymouth was abandoned after the Soufrière Hills volcano erupted in 1997. Since then, government offices have been moved to Brades, which is in northwestern Montserrat. A new capital, Little Bay, is currently under construction."
        ],
        [
         "49",
         "Plymouth (de jure)",
         "Montserrat",
         "North America",
         "British Overseas Territory. Plymouth was abandoned after the Soufrière Hills volcano erupted in 1997. Since then, government offices have been moved to Brades, which is in northwestern Montserrat. A new capital, Little Bay, is currently under construction."
        ]
       ],
       "shape": {
        "columns": 4,
        "rows": 266
       }
      },
      "text/html": [
       "<div>\n",
       "<style scoped>\n",
       "    .dataframe tbody tr th:only-of-type {\n",
       "        vertical-align: middle;\n",
       "    }\n",
       "\n",
       "    .dataframe tbody tr th {\n",
       "        vertical-align: top;\n",
       "    }\n",
       "\n",
       "    .dataframe thead th {\n",
       "        text-align: right;\n",
       "    }\n",
       "</style>\n",
       "<table border=\"1\" class=\"dataframe\">\n",
       "  <thead>\n",
       "    <tr style=\"text-align: right;\">\n",
       "      <th></th>\n",
       "      <th>City/Town</th>\n",
       "      <th>Country/Territory</th>\n",
       "      <th>Continent</th>\n",
       "      <th>Notes</th>\n",
       "    </tr>\n",
       "  </thead>\n",
       "  <tbody>\n",
       "    <tr>\n",
       "      <th>0</th>\n",
       "      <td>Abidjan (former capital; still hosts some gove...</td>\n",
       "      <td>Ivory Coast (Côte d'Ivoire)</td>\n",
       "      <td>Africa</td>\n",
       "      <td>Abidjan is the largest city in Ivory Coast and...</td>\n",
       "    </tr>\n",
       "    <tr>\n",
       "      <th>1</th>\n",
       "      <td>Yamoussoukro (de jure)</td>\n",
       "      <td>Ivory Coast (Côte d'Ivoire)</td>\n",
       "      <td>Africa</td>\n",
       "      <td>Abidjan is the largest city in Ivory Coast and...</td>\n",
       "    </tr>\n",
       "    <tr>\n",
       "      <th>2</th>\n",
       "      <td>Abu Dhabi</td>\n",
       "      <td>United Arab Emirates</td>\n",
       "      <td>Asia</td>\n",
       "      <td>NaN</td>\n",
       "    </tr>\n",
       "    <tr>\n",
       "      <th>3</th>\n",
       "      <td>Abuja</td>\n",
       "      <td>Nigeria</td>\n",
       "      <td>Africa</td>\n",
       "      <td>Lagos was the capital from 1914 to 1991.</td>\n",
       "    </tr>\n",
       "    <tr>\n",
       "      <th>4</th>\n",
       "      <td>Accra</td>\n",
       "      <td>Ghana</td>\n",
       "      <td>Africa</td>\n",
       "      <td>NaN</td>\n",
       "    </tr>\n",
       "    <tr>\n",
       "      <th>...</th>\n",
       "      <td>...</td>\n",
       "      <td>...</td>\n",
       "      <td>...</td>\n",
       "      <td>...</td>\n",
       "    </tr>\n",
       "    <tr>\n",
       "      <th>261</th>\n",
       "      <td>Windhoek</td>\n",
       "      <td>Namibia</td>\n",
       "      <td>Africa</td>\n",
       "      <td>NaN</td>\n",
       "    </tr>\n",
       "    <tr>\n",
       "      <th>262</th>\n",
       "      <td>Yaoundé</td>\n",
       "      <td>Cameroon</td>\n",
       "      <td>Africa</td>\n",
       "      <td>NaN</td>\n",
       "    </tr>\n",
       "    <tr>\n",
       "      <th>263</th>\n",
       "      <td>Yaren (de facto)</td>\n",
       "      <td>Nauru</td>\n",
       "      <td>Oceania</td>\n",
       "      <td>Nauru has no official capital, nor cities; the...</td>\n",
       "    </tr>\n",
       "    <tr>\n",
       "      <th>264</th>\n",
       "      <td>Yerevan</td>\n",
       "      <td>Armenia</td>\n",
       "      <td>Asia/Europe</td>\n",
       "      <td>NaN</td>\n",
       "    </tr>\n",
       "    <tr>\n",
       "      <th>265</th>\n",
       "      <td>Zagreb</td>\n",
       "      <td>Croatia</td>\n",
       "      <td>Europe</td>\n",
       "      <td>NaN</td>\n",
       "    </tr>\n",
       "  </tbody>\n",
       "</table>\n",
       "<p>266 rows × 4 columns</p>\n",
       "</div>"
      ],
      "text/plain": [
       "                                             City/Town  \\\n",
       "0    Abidjan (former capital; still hosts some gove...   \n",
       "1                               Yamoussoukro (de jure)   \n",
       "2                                            Abu Dhabi   \n",
       "3                                                Abuja   \n",
       "4                                                Accra   \n",
       "..                                                 ...   \n",
       "261                                           Windhoek   \n",
       "262                                            Yaoundé   \n",
       "263                                   Yaren (de facto)   \n",
       "264                                            Yerevan   \n",
       "265                                             Zagreb   \n",
       "\n",
       "               Country/Territory    Continent  \\\n",
       "0    Ivory Coast (Côte d'Ivoire)       Africa   \n",
       "1    Ivory Coast (Côte d'Ivoire)       Africa   \n",
       "2           United Arab Emirates         Asia   \n",
       "3                        Nigeria       Africa   \n",
       "4                          Ghana       Africa   \n",
       "..                           ...          ...   \n",
       "261                      Namibia       Africa   \n",
       "262                     Cameroon       Africa   \n",
       "263                        Nauru      Oceania   \n",
       "264                      Armenia  Asia/Europe   \n",
       "265                      Croatia       Europe   \n",
       "\n",
       "                                                 Notes  \n",
       "0    Abidjan is the largest city in Ivory Coast and...  \n",
       "1    Abidjan is the largest city in Ivory Coast and...  \n",
       "2                                                  NaN  \n",
       "3             Lagos was the capital from 1914 to 1991.  \n",
       "4                                                  NaN  \n",
       "..                                                 ...  \n",
       "261                                                NaN  \n",
       "262                                                NaN  \n",
       "263  Nauru has no official capital, nor cities; the...  \n",
       "264                                                NaN  \n",
       "265                                                NaN  \n",
       "\n",
       "[266 rows x 4 columns]"
      ]
     },
     "execution_count": 10,
     "metadata": {},
     "output_type": "execute_result"
    }
   ],
   "source": [
    "\n",
    "# len(tables)\n",
    "# tables[0]\n",
    "tables[1]"
   ]
  },
  {
   "cell_type": "code",
   "execution_count": null,
   "metadata": {},
   "outputs": [
    {
     "data": {
      "application/vnd.microsoft.datawrangler.viewer.v0+json": {
       "columns": [
        {
         "name": "index",
         "rawType": "int64",
         "type": "integer"
        },
        {
         "name": "City/Town",
         "rawType": "object",
         "type": "string"
        },
        {
         "name": "Country/Territory",
         "rawType": "object",
         "type": "string"
        },
        {
         "name": "Continent",
         "rawType": "object",
         "type": "string"
        },
        {
         "name": "Notes",
         "rawType": "object",
         "type": "unknown"
        }
       ],
       "conversionMethod": "pd.DataFrame",
       "ref": "99af1652-3969-458d-b12a-b2a43bf4fc76",
       "rows": [
        [
         "0",
         "Abidjan (former capital; still hosts some government offices)",
         "Ivory Coast (Côte d'Ivoire)",
         "Africa",
         "Abidjan is the largest city in Ivory Coast and is officially designated as the economic capital."
        ],
        [
         "1",
         "Yamoussoukro (de jure)",
         "Ivory Coast (Côte d'Ivoire)",
         "Africa",
         "Abidjan is the largest city in Ivory Coast and is officially designated as the economic capital."
        ],
        [
         "2",
         "Abu Dhabi",
         "United Arab Emirates",
         "Asia",
         null
        ],
        [
         "3",
         "Abuja",
         "Nigeria",
         "Africa",
         "Lagos was the capital from 1914 to 1991."
        ],
        [
         "4",
         "Accra",
         "Ghana",
         "Africa",
         null
        ],
        [
         "5",
         "Adamstown",
         "Pitcairn Islands",
         "Oceania",
         "British Overseas Territory."
        ],
        [
         "6",
         "Addis Ababa",
         "Ethiopia",
         "Africa",
         null
        ],
        [
         "7",
         "Aden (de facto, temporary)",
         "Yemen",
         "Asia",
         "Yemen is in a state of civil war, and Sanaa has been occupied by Houthi rebels since September 2014. Aden, the former capital of South Yemen, is Yemen's acting capital."
        ],
        [
         "8",
         "Sanaa (de jure)",
         "Yemen",
         "Asia",
         "Yemen is in a state of civil war, and Sanaa has been occupied by Houthi rebels since September 2014. Aden, the former capital of South Yemen, is Yemen's acting capital."
        ],
        [
         "9",
         "Episkopi Cantonment",
         "Akrotiri and Dhekelia",
         "Asia",
         "British Overseas Territory."
        ]
       ],
       "shape": {
        "columns": 4,
        "rows": 10
       }
      },
      "text/html": [
       "<div>\n",
       "<style scoped>\n",
       "    .dataframe tbody tr th:only-of-type {\n",
       "        vertical-align: middle;\n",
       "    }\n",
       "\n",
       "    .dataframe tbody tr th {\n",
       "        vertical-align: top;\n",
       "    }\n",
       "\n",
       "    .dataframe thead th {\n",
       "        text-align: right;\n",
       "    }\n",
       "</style>\n",
       "<table border=\"1\" class=\"dataframe\">\n",
       "  <thead>\n",
       "    <tr style=\"text-align: right;\">\n",
       "      <th></th>\n",
       "      <th>City/Town</th>\n",
       "      <th>Country/Territory</th>\n",
       "      <th>Continent</th>\n",
       "      <th>Notes</th>\n",
       "    </tr>\n",
       "  </thead>\n",
       "  <tbody>\n",
       "    <tr>\n",
       "      <th>0</th>\n",
       "      <td>Abidjan (former capital; still hosts some gove...</td>\n",
       "      <td>Ivory Coast (Côte d'Ivoire)</td>\n",
       "      <td>Africa</td>\n",
       "      <td>Abidjan is the largest city in Ivory Coast and...</td>\n",
       "    </tr>\n",
       "    <tr>\n",
       "      <th>1</th>\n",
       "      <td>Yamoussoukro (de jure)</td>\n",
       "      <td>Ivory Coast (Côte d'Ivoire)</td>\n",
       "      <td>Africa</td>\n",
       "      <td>Abidjan is the largest city in Ivory Coast and...</td>\n",
       "    </tr>\n",
       "    <tr>\n",
       "      <th>2</th>\n",
       "      <td>Abu Dhabi</td>\n",
       "      <td>United Arab Emirates</td>\n",
       "      <td>Asia</td>\n",
       "      <td>NaN</td>\n",
       "    </tr>\n",
       "    <tr>\n",
       "      <th>3</th>\n",
       "      <td>Abuja</td>\n",
       "      <td>Nigeria</td>\n",
       "      <td>Africa</td>\n",
       "      <td>Lagos was the capital from 1914 to 1991.</td>\n",
       "    </tr>\n",
       "    <tr>\n",
       "      <th>4</th>\n",
       "      <td>Accra</td>\n",
       "      <td>Ghana</td>\n",
       "      <td>Africa</td>\n",
       "      <td>NaN</td>\n",
       "    </tr>\n",
       "    <tr>\n",
       "      <th>5</th>\n",
       "      <td>Adamstown</td>\n",
       "      <td>Pitcairn Islands</td>\n",
       "      <td>Oceania</td>\n",
       "      <td>British Overseas Territory.</td>\n",
       "    </tr>\n",
       "    <tr>\n",
       "      <th>6</th>\n",
       "      <td>Addis Ababa</td>\n",
       "      <td>Ethiopia</td>\n",
       "      <td>Africa</td>\n",
       "      <td>NaN</td>\n",
       "    </tr>\n",
       "    <tr>\n",
       "      <th>7</th>\n",
       "      <td>Aden (de facto, temporary)</td>\n",
       "      <td>Yemen</td>\n",
       "      <td>Asia</td>\n",
       "      <td>Yemen is in a state of civil war, and Sanaa ha...</td>\n",
       "    </tr>\n",
       "    <tr>\n",
       "      <th>8</th>\n",
       "      <td>Sanaa (de jure)</td>\n",
       "      <td>Yemen</td>\n",
       "      <td>Asia</td>\n",
       "      <td>Yemen is in a state of civil war, and Sanaa ha...</td>\n",
       "    </tr>\n",
       "    <tr>\n",
       "      <th>9</th>\n",
       "      <td>Episkopi Cantonment</td>\n",
       "      <td>Akrotiri and Dhekelia</td>\n",
       "      <td>Asia</td>\n",
       "      <td>British Overseas Territory.</td>\n",
       "    </tr>\n",
       "  </tbody>\n",
       "</table>\n",
       "</div>"
      ],
      "text/plain": [
       "                                           City/Town  \\\n",
       "0  Abidjan (former capital; still hosts some gove...   \n",
       "1                             Yamoussoukro (de jure)   \n",
       "2                                          Abu Dhabi   \n",
       "3                                              Abuja   \n",
       "4                                              Accra   \n",
       "5                                          Adamstown   \n",
       "6                                        Addis Ababa   \n",
       "7                         Aden (de facto, temporary)   \n",
       "8                                    Sanaa (de jure)   \n",
       "9                                Episkopi Cantonment   \n",
       "\n",
       "             Country/Territory Continent  \\\n",
       "0  Ivory Coast (Côte d'Ivoire)    Africa   \n",
       "1  Ivory Coast (Côte d'Ivoire)    Africa   \n",
       "2         United Arab Emirates      Asia   \n",
       "3                      Nigeria    Africa   \n",
       "4                        Ghana    Africa   \n",
       "5             Pitcairn Islands   Oceania   \n",
       "6                     Ethiopia    Africa   \n",
       "7                        Yemen      Asia   \n",
       "8                        Yemen      Asia   \n",
       "9        Akrotiri and Dhekelia      Asia   \n",
       "\n",
       "                                               Notes  \n",
       "0  Abidjan is the largest city in Ivory Coast and...  \n",
       "1  Abidjan is the largest city in Ivory Coast and...  \n",
       "2                                                NaN  \n",
       "3           Lagos was the capital from 1914 to 1991.  \n",
       "4                                                NaN  \n",
       "5                        British Overseas Territory.  \n",
       "6                                                NaN  \n",
       "7  Yemen is in a state of civil war, and Sanaa ha...  \n",
       "8  Yemen is in a state of civil war, and Sanaa ha...  \n",
       "9                        British Overseas Territory.  "
      ]
     },
     "execution_count": 11,
     "metadata": {},
     "output_type": "execute_result"
    }
   ],
   "source": [
    "# df = tables[1]\n",
    "df.head(10)\n",
    "df.to_csv('data.csv')"
   ]
  },
  {
   "cell_type": "code",
   "execution_count": 12,
   "metadata": {},
   "outputs": [
    {
     "data": {
      "text/plain": [
       "Continent\n",
       "Africa           63\n",
       "Asia             55\n",
       "Europe           54\n",
       "North America    37\n",
       "Oceania          27\n",
       "South America    16\n",
       "Asia/Europe       6\n",
       "Antarctica        1\n",
       "Name: count, dtype: int64"
      ]
     },
     "execution_count": 12,
     "metadata": {},
     "output_type": "execute_result"
    }
   ],
   "source": [
    "df['Continent'].value_counts()"
   ]
  },
  {
   "cell_type": "code",
   "execution_count": null,
   "metadata": {},
   "outputs": [],
   "source": [
    "df['Continent'].value_counts().plot"
   ]
  }
 ],
 "metadata": {
  "kernelspec": {
   "display_name": "Python 3",
   "language": "python",
   "name": "python3"
  },
  "language_info": {
   "codemirror_mode": {
    "name": "ipython",
    "version": 3
   },
   "file_extension": ".py",
   "mimetype": "text/x-python",
   "name": "python",
   "nbconvert_exporter": "python",
   "pygments_lexer": "ipython3",
   "version": "3.13.2"
  }
 },
 "nbformat": 4,
 "nbformat_minor": 2
}
