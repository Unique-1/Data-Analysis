{
 "cells": [
  {
   "cell_type": "code",
   "execution_count": null,
   "metadata": {},
   "outputs": [],
   "source": [
    "#import pandas library and pd as alias\n",
    "### Pandas library will be used to visualize the data\n",
    "import pandas as pd\n",
    "import matplotlib.pyplot as plt\n",
    "#used df as variable meaning data frame\n",
    "df = pd.read_csv('data/survey_results_public.csv')"
   ]
  },
  {
   "cell_type": "code",
   "execution_count": 45,
   "metadata": {},
   "outputs": [
    {
     "data": {
      "application/vnd.microsoft.datawrangler.viewer.v0+json": {
       "columns": [
        {
         "name": "index",
         "rawType": "int64",
         "type": "integer"
        },
        {
         "name": "Respondent",
         "rawType": "int64",
         "type": "integer"
        },
        {
         "name": "MainBranch",
         "rawType": "object",
         "type": "string"
        },
        {
         "name": "Hobbyist",
         "rawType": "object",
         "type": "string"
        },
        {
         "name": "Age",
         "rawType": "float64",
         "type": "float"
        },
        {
         "name": "Age1stCode",
         "rawType": "object",
         "type": "string"
        },
        {
         "name": "CompFreq",
         "rawType": "object",
         "type": "unknown"
        },
        {
         "name": "CompTotal",
         "rawType": "float64",
         "type": "float"
        },
        {
         "name": "ConvertedComp",
         "rawType": "float64",
         "type": "float"
        },
        {
         "name": "Country",
         "rawType": "object",
         "type": "string"
        },
        {
         "name": "CurrencyDesc",
         "rawType": "object",
         "type": "unknown"
        },
        {
         "name": "CurrencySymbol",
         "rawType": "object",
         "type": "unknown"
        },
        {
         "name": "DatabaseDesireNextYear",
         "rawType": "object",
         "type": "unknown"
        },
        {
         "name": "DatabaseWorkedWith",
         "rawType": "object",
         "type": "unknown"
        },
        {
         "name": "DevType",
         "rawType": "object",
         "type": "unknown"
        },
        {
         "name": "EdLevel",
         "rawType": "object",
         "type": "unknown"
        },
        {
         "name": "Employment",
         "rawType": "object",
         "type": "unknown"
        },
        {
         "name": "Ethnicity",
         "rawType": "object",
         "type": "unknown"
        },
        {
         "name": "Gender",
         "rawType": "object",
         "type": "unknown"
        },
        {
         "name": "JobFactors",
         "rawType": "object",
         "type": "unknown"
        },
        {
         "name": "JobSat",
         "rawType": "object",
         "type": "unknown"
        },
        {
         "name": "JobSeek",
         "rawType": "object",
         "type": "unknown"
        },
        {
         "name": "LanguageDesireNextYear",
         "rawType": "object",
         "type": "unknown"
        },
        {
         "name": "LanguageWorkedWith",
         "rawType": "object",
         "type": "unknown"
        },
        {
         "name": "MiscTechDesireNextYear",
         "rawType": "object",
         "type": "unknown"
        },
        {
         "name": "MiscTechWorkedWith",
         "rawType": "object",
         "type": "unknown"
        },
        {
         "name": "NEWCollabToolsDesireNextYear",
         "rawType": "object",
         "type": "unknown"
        },
        {
         "name": "NEWCollabToolsWorkedWith",
         "rawType": "object",
         "type": "unknown"
        },
        {
         "name": "NEWDevOps",
         "rawType": "object",
         "type": "unknown"
        },
        {
         "name": "NEWDevOpsImpt",
         "rawType": "object",
         "type": "unknown"
        },
        {
         "name": "NEWEdImpt",
         "rawType": "object",
         "type": "unknown"
        },
        {
         "name": "NEWJobHunt",
         "rawType": "object",
         "type": "unknown"
        },
        {
         "name": "NEWJobHuntResearch",
         "rawType": "object",
         "type": "unknown"
        },
        {
         "name": "NEWLearn",
         "rawType": "object",
         "type": "string"
        },
        {
         "name": "NEWOffTopic",
         "rawType": "object",
         "type": "unknown"
        },
        {
         "name": "NEWOnboardGood",
         "rawType": "object",
         "type": "unknown"
        },
        {
         "name": "NEWOtherComms",
         "rawType": "object",
         "type": "string"
        },
        {
         "name": "NEWOvertime",
         "rawType": "object",
         "type": "unknown"
        },
        {
         "name": "NEWPurchaseResearch",
         "rawType": "object",
         "type": "unknown"
        },
        {
         "name": "NEWPurpleLink",
         "rawType": "object",
         "type": "unknown"
        },
        {
         "name": "NEWSOSites",
         "rawType": "object",
         "type": "string"
        },
        {
         "name": "NEWStuck",
         "rawType": "object",
         "type": "unknown"
        },
        {
         "name": "OpSys",
         "rawType": "object",
         "type": "string"
        },
        {
         "name": "OrgSize",
         "rawType": "object",
         "type": "unknown"
        },
        {
         "name": "PlatformDesireNextYear",
         "rawType": "object",
         "type": "unknown"
        },
        {
         "name": "PlatformWorkedWith",
         "rawType": "object",
         "type": "unknown"
        },
        {
         "name": "PurchaseWhat",
         "rawType": "object",
         "type": "unknown"
        },
        {
         "name": "Sexuality",
         "rawType": "object",
         "type": "unknown"
        },
        {
         "name": "SOAccount",
         "rawType": "object",
         "type": "string"
        },
        {
         "name": "SOComm",
         "rawType": "object",
         "type": "string"
        },
        {
         "name": "SOPartFreq",
         "rawType": "object",
         "type": "unknown"
        },
        {
         "name": "SOVisitFreq",
         "rawType": "object",
         "type": "string"
        },
        {
         "name": "SurveyEase",
         "rawType": "object",
         "type": "unknown"
        },
        {
         "name": "SurveyLength",
         "rawType": "object",
         "type": "unknown"
        },
        {
         "name": "Trans",
         "rawType": "object",
         "type": "unknown"
        },
        {
         "name": "UndergradMajor",
         "rawType": "object",
         "type": "unknown"
        },
        {
         "name": "WebframeDesireNextYear",
         "rawType": "object",
         "type": "unknown"
        },
        {
         "name": "WebframeWorkedWith",
         "rawType": "object",
         "type": "unknown"
        },
        {
         "name": "WelcomeChange",
         "rawType": "object",
         "type": "string"
        },
        {
         "name": "WorkWeekHrs",
         "rawType": "float64",
         "type": "float"
        },
        {
         "name": "YearsCode",
         "rawType": "object",
         "type": "string"
        },
        {
         "name": "YearsCodePro",
         "rawType": "object",
         "type": "unknown"
        }
       ],
       "conversionMethod": "pd.DataFrame",
       "ref": "51316748-a907-463a-b593-6431bf0eed48",
       "rows": [
        [
         "0",
         "1",
         "I am a developer by profession",
         "Yes",
         null,
         "13",
         "Monthly",
         null,
         null,
         "Germany",
         "European Euro",
         "EUR",
         "Microsoft SQL Server",
         "Elasticsearch;Microsoft SQL Server;Oracle",
         "Developer, desktop or enterprise applications;Developer, full-stack",
         "Master’s degree (M.A., M.S., M.Eng., MBA, etc.)",
         "Independent contractor, freelancer, or self-employed",
         "White or of European descent",
         "Man",
         "Languages, frameworks, and other technologies I’d be working with;Remote work options;Opportunities for professional development",
         "Slightly satisfied",
         "I am not interested in new job opportunities",
         "C#;HTML/CSS;JavaScript",
         "C#;HTML/CSS;JavaScript",
         ".NET Core;Xamarin",
         ".NET;.NET Core",
         "Microsoft Teams;Microsoft Azure;Trello",
         "Confluence;Jira;Slack;Microsoft Azure;Trello",
         "No",
         "Somewhat important",
         "Fairly important",
         null,
         null,
         "Once a year",
         "Not sure",
         null,
         "No",
         "Often: 1-2 days per week or more",
         "Start a free trial;Ask developers I know/work with",
         "Amused",
         "Stack Overflow (public Q&A for anyone who codes)",
         "Visit Stack Overflow;Go for a walk or other physical activity;Do other work and come back later",
         "Windows",
         "2 to 9 employees",
         "Android;iOS;Kubernetes;Microsoft Azure;Windows",
         "Windows",
         null,
         "Straight / Heterosexual",
         "No",
         "No, not at all",
         null,
         "Multiple times per day",
         "Neither easy nor difficult",
         "Appropriate in length",
         "No",
         "Computer science, computer engineering, or software engineering",
         "ASP.NET Core",
         "ASP.NET;ASP.NET Core",
         "Just as welcome now as I felt last year",
         "50.0",
         "36",
         "27"
        ],
        [
         "1",
         "2",
         "I am a developer by profession",
         "No",
         null,
         "19",
         null,
         null,
         null,
         "United Kingdom",
         "Pound sterling",
         "GBP",
         null,
         null,
         "Developer, full-stack;Developer, mobile",
         "Bachelor’s degree (B.A., B.S., B.Eng., etc.)",
         "Employed full-time",
         null,
         null,
         null,
         "Very dissatisfied",
         "I am not interested in new job opportunities",
         "Python;Swift",
         "JavaScript;Swift",
         "React Native;TensorFlow;Unity 3D",
         "React Native",
         "Github;Slack",
         "Confluence;Jira;Github;Gitlab;Slack",
         null,
         null,
         "Fairly important",
         null,
         null,
         "Once a year",
         "Not sure",
         null,
         "No",
         null,
         null,
         "Amused",
         "Stack Overflow (public Q&A for anyone who codes);Stack Exchange (public Q&A for a variety of topics);Stack Overflow Jobs (for job seekers)",
         "Visit Stack Overflow;Go for a walk or other physical activity",
         "MacOS",
         "1,000 to 4,999 employees",
         "iOS;Kubernetes;Linux;MacOS",
         "iOS",
         "I have little or no influence",
         null,
         "Yes",
         "Yes, definitely",
         "Less than once per month or monthly",
         "Multiple times per day",
         null,
         null,
         null,
         "Computer science, computer engineering, or software engineering",
         null,
         null,
         "Somewhat more welcome now than last year",
         null,
         "7",
         "4"
        ],
        [
         "2",
         "3",
         "I code primarily as a hobby",
         "Yes",
         null,
         "15",
         null,
         null,
         null,
         "Russian Federation",
         null,
         null,
         null,
         null,
         null,
         null,
         null,
         null,
         null,
         null,
         null,
         null,
         "Objective-C;Python;Swift",
         "Objective-C;Python;Swift",
         null,
         null,
         null,
         null,
         null,
         null,
         null,
         null,
         null,
         "Once a decade",
         null,
         null,
         "No",
         null,
         null,
         null,
         "Stack Overflow (public Q&A for anyone who codes)",
         null,
         "Linux-based",
         null,
         null,
         null,
         null,
         null,
         "Yes",
         "Yes, somewhat",
         "A few times per month or weekly",
         "Daily or almost daily",
         "Neither easy nor difficult",
         "Appropriate in length",
         null,
         null,
         null,
         null,
         "Somewhat more welcome now than last year",
         null,
         "4",
         null
        ],
        [
         "3",
         "4",
         "I am a developer by profession",
         "Yes",
         "25.0",
         "18",
         null,
         null,
         null,
         "Albania",
         "Albanian lek",
         "ALL",
         null,
         null,
         null,
         "Master’s degree (M.A., M.S., M.Eng., MBA, etc.)",
         null,
         "White or of European descent",
         "Man",
         "Flex time or a flexible schedule;Office environment or company culture;Opportunities for professional development",
         "Slightly dissatisfied",
         "I’m not actively looking, but I am open to new opportunities",
         null,
         null,
         null,
         null,
         null,
         null,
         "No",
         null,
         "Not at all important/not necessary",
         "Curious about other opportunities;Wanting to work with new technologies",
         null,
         "Once a year",
         "Not sure",
         "Yes",
         "Yes",
         "Occasionally: 1-2 days per quarter but less than monthly",
         null,
         null,
         "Stack Overflow (public Q&A for anyone who codes);Stack Exchange (public Q&A for a variety of topics);Stack Overflow Jobs (for job seekers)",
         null,
         "Linux-based",
         "20 to 99 employees",
         null,
         null,
         "I have a great deal of influence",
         "Straight / Heterosexual",
         "Yes",
         "Yes, definitely",
         "A few times per month or weekly",
         "Multiple times per day",
         null,
         null,
         "No",
         "Computer science, computer engineering, or software engineering",
         null,
         null,
         "Somewhat less welcome now than last year",
         "40.0",
         "7",
         "4"
        ],
        [
         "4",
         "5",
         "I used to be a developer by profession, but no longer am",
         "Yes",
         "31.0",
         "16",
         null,
         null,
         null,
         "United States",
         null,
         null,
         "MySQL;PostgreSQL",
         "MySQL;PostgreSQL;Redis;SQLite",
         null,
         "Bachelor’s degree (B.A., B.S., B.Eng., etc.)",
         "Employed full-time",
         "White or of European descent",
         "Man",
         null,
         null,
         null,
         "Java;Ruby;Scala",
         "HTML/CSS;Ruby;SQL",
         "Ansible;Chef",
         "Ansible",
         "Github;Google Suite (Docs, Meet, etc)",
         "Confluence;Jira;Github;Slack;Google Suite (Docs, Meet, etc)",
         null,
         null,
         "Very important",
         null,
         null,
         "Once a year",
         "No",
         null,
         "Yes",
         null,
         "Start a free trial;Ask developers I know/work with;Visit developer communities like Stack Overflow;Read ratings or reviews on third party sites like G2Crowd;Research companies that have advertised on sites I visit",
         "Hello, old friend",
         "Stack Overflow (public Q&A for anyone who codes);Stack Exchange (public Q&A for a variety of topics);Stack Overflow Jobs (for job seekers);Stack Overflow for Teams (private Q&A for organizations);Stack Overflow Talent (for hiring companies/recruiters)",
         "Call a coworker or friend;Visit Stack Overflow;Watch help / tutorial videos;Do other work and come back later;Visit another developer community (please name):",
         "Windows",
         null,
         "Docker;Google Cloud Platform;Heroku;Linux;Windows",
         "AWS;Docker;Linux;MacOS;Windows",
         null,
         "Straight / Heterosexual",
         "Yes",
         "Yes, somewhat",
         "Less than once per month or monthly",
         "A few times per month or weekly",
         "Easy",
         "Too short",
         "No",
         "Computer science, computer engineering, or software engineering",
         "Django;Ruby on Rails",
         "Ruby on Rails",
         "Just as welcome now as I felt last year",
         null,
         "15",
         "8"
        ]
       ],
       "shape": {
        "columns": 61,
        "rows": 5
       }
      },
      "text/html": [
       "<div>\n",
       "<style scoped>\n",
       "    .dataframe tbody tr th:only-of-type {\n",
       "        vertical-align: middle;\n",
       "    }\n",
       "\n",
       "    .dataframe tbody tr th {\n",
       "        vertical-align: top;\n",
       "    }\n",
       "\n",
       "    .dataframe thead th {\n",
       "        text-align: right;\n",
       "    }\n",
       "</style>\n",
       "<table border=\"1\" class=\"dataframe\">\n",
       "  <thead>\n",
       "    <tr style=\"text-align: right;\">\n",
       "      <th></th>\n",
       "      <th>Respondent</th>\n",
       "      <th>MainBranch</th>\n",
       "      <th>Hobbyist</th>\n",
       "      <th>Age</th>\n",
       "      <th>Age1stCode</th>\n",
       "      <th>CompFreq</th>\n",
       "      <th>CompTotal</th>\n",
       "      <th>ConvertedComp</th>\n",
       "      <th>Country</th>\n",
       "      <th>CurrencyDesc</th>\n",
       "      <th>...</th>\n",
       "      <th>SurveyEase</th>\n",
       "      <th>SurveyLength</th>\n",
       "      <th>Trans</th>\n",
       "      <th>UndergradMajor</th>\n",
       "      <th>WebframeDesireNextYear</th>\n",
       "      <th>WebframeWorkedWith</th>\n",
       "      <th>WelcomeChange</th>\n",
       "      <th>WorkWeekHrs</th>\n",
       "      <th>YearsCode</th>\n",
       "      <th>YearsCodePro</th>\n",
       "    </tr>\n",
       "  </thead>\n",
       "  <tbody>\n",
       "    <tr>\n",
       "      <th>0</th>\n",
       "      <td>1</td>\n",
       "      <td>I am a developer by profession</td>\n",
       "      <td>Yes</td>\n",
       "      <td>NaN</td>\n",
       "      <td>13</td>\n",
       "      <td>Monthly</td>\n",
       "      <td>NaN</td>\n",
       "      <td>NaN</td>\n",
       "      <td>Germany</td>\n",
       "      <td>European Euro</td>\n",
       "      <td>...</td>\n",
       "      <td>Neither easy nor difficult</td>\n",
       "      <td>Appropriate in length</td>\n",
       "      <td>No</td>\n",
       "      <td>Computer science, computer engineering, or sof...</td>\n",
       "      <td>ASP.NET Core</td>\n",
       "      <td>ASP.NET;ASP.NET Core</td>\n",
       "      <td>Just as welcome now as I felt last year</td>\n",
       "      <td>50.0</td>\n",
       "      <td>36</td>\n",
       "      <td>27</td>\n",
       "    </tr>\n",
       "    <tr>\n",
       "      <th>1</th>\n",
       "      <td>2</td>\n",
       "      <td>I am a developer by profession</td>\n",
       "      <td>No</td>\n",
       "      <td>NaN</td>\n",
       "      <td>19</td>\n",
       "      <td>NaN</td>\n",
       "      <td>NaN</td>\n",
       "      <td>NaN</td>\n",
       "      <td>United Kingdom</td>\n",
       "      <td>Pound sterling</td>\n",
       "      <td>...</td>\n",
       "      <td>NaN</td>\n",
       "      <td>NaN</td>\n",
       "      <td>NaN</td>\n",
       "      <td>Computer science, computer engineering, or sof...</td>\n",
       "      <td>NaN</td>\n",
       "      <td>NaN</td>\n",
       "      <td>Somewhat more welcome now than last year</td>\n",
       "      <td>NaN</td>\n",
       "      <td>7</td>\n",
       "      <td>4</td>\n",
       "    </tr>\n",
       "    <tr>\n",
       "      <th>2</th>\n",
       "      <td>3</td>\n",
       "      <td>I code primarily as a hobby</td>\n",
       "      <td>Yes</td>\n",
       "      <td>NaN</td>\n",
       "      <td>15</td>\n",
       "      <td>NaN</td>\n",
       "      <td>NaN</td>\n",
       "      <td>NaN</td>\n",
       "      <td>Russian Federation</td>\n",
       "      <td>NaN</td>\n",
       "      <td>...</td>\n",
       "      <td>Neither easy nor difficult</td>\n",
       "      <td>Appropriate in length</td>\n",
       "      <td>NaN</td>\n",
       "      <td>NaN</td>\n",
       "      <td>NaN</td>\n",
       "      <td>NaN</td>\n",
       "      <td>Somewhat more welcome now than last year</td>\n",
       "      <td>NaN</td>\n",
       "      <td>4</td>\n",
       "      <td>NaN</td>\n",
       "    </tr>\n",
       "    <tr>\n",
       "      <th>3</th>\n",
       "      <td>4</td>\n",
       "      <td>I am a developer by profession</td>\n",
       "      <td>Yes</td>\n",
       "      <td>25.0</td>\n",
       "      <td>18</td>\n",
       "      <td>NaN</td>\n",
       "      <td>NaN</td>\n",
       "      <td>NaN</td>\n",
       "      <td>Albania</td>\n",
       "      <td>Albanian lek</td>\n",
       "      <td>...</td>\n",
       "      <td>NaN</td>\n",
       "      <td>NaN</td>\n",
       "      <td>No</td>\n",
       "      <td>Computer science, computer engineering, or sof...</td>\n",
       "      <td>NaN</td>\n",
       "      <td>NaN</td>\n",
       "      <td>Somewhat less welcome now than last year</td>\n",
       "      <td>40.0</td>\n",
       "      <td>7</td>\n",
       "      <td>4</td>\n",
       "    </tr>\n",
       "    <tr>\n",
       "      <th>4</th>\n",
       "      <td>5</td>\n",
       "      <td>I used to be a developer by profession, but no...</td>\n",
       "      <td>Yes</td>\n",
       "      <td>31.0</td>\n",
       "      <td>16</td>\n",
       "      <td>NaN</td>\n",
       "      <td>NaN</td>\n",
       "      <td>NaN</td>\n",
       "      <td>United States</td>\n",
       "      <td>NaN</td>\n",
       "      <td>...</td>\n",
       "      <td>Easy</td>\n",
       "      <td>Too short</td>\n",
       "      <td>No</td>\n",
       "      <td>Computer science, computer engineering, or sof...</td>\n",
       "      <td>Django;Ruby on Rails</td>\n",
       "      <td>Ruby on Rails</td>\n",
       "      <td>Just as welcome now as I felt last year</td>\n",
       "      <td>NaN</td>\n",
       "      <td>15</td>\n",
       "      <td>8</td>\n",
       "    </tr>\n",
       "  </tbody>\n",
       "</table>\n",
       "<p>5 rows × 61 columns</p>\n",
       "</div>"
      ],
      "text/plain": [
       "   Respondent                                         MainBranch Hobbyist  \\\n",
       "0           1                     I am a developer by profession      Yes   \n",
       "1           2                     I am a developer by profession       No   \n",
       "2           3                        I code primarily as a hobby      Yes   \n",
       "3           4                     I am a developer by profession      Yes   \n",
       "4           5  I used to be a developer by profession, but no...      Yes   \n",
       "\n",
       "    Age Age1stCode CompFreq  CompTotal  ConvertedComp             Country  \\\n",
       "0   NaN         13  Monthly        NaN            NaN             Germany   \n",
       "1   NaN         19      NaN        NaN            NaN      United Kingdom   \n",
       "2   NaN         15      NaN        NaN            NaN  Russian Federation   \n",
       "3  25.0         18      NaN        NaN            NaN             Albania   \n",
       "4  31.0         16      NaN        NaN            NaN       United States   \n",
       "\n",
       "     CurrencyDesc  ...                  SurveyEase           SurveyLength  \\\n",
       "0   European Euro  ...  Neither easy nor difficult  Appropriate in length   \n",
       "1  Pound sterling  ...                         NaN                    NaN   \n",
       "2             NaN  ...  Neither easy nor difficult  Appropriate in length   \n",
       "3    Albanian lek  ...                         NaN                    NaN   \n",
       "4             NaN  ...                        Easy              Too short   \n",
       "\n",
       "  Trans                                     UndergradMajor  \\\n",
       "0    No  Computer science, computer engineering, or sof...   \n",
       "1   NaN  Computer science, computer engineering, or sof...   \n",
       "2   NaN                                                NaN   \n",
       "3    No  Computer science, computer engineering, or sof...   \n",
       "4    No  Computer science, computer engineering, or sof...   \n",
       "\n",
       "  WebframeDesireNextYear    WebframeWorkedWith  \\\n",
       "0           ASP.NET Core  ASP.NET;ASP.NET Core   \n",
       "1                    NaN                   NaN   \n",
       "2                    NaN                   NaN   \n",
       "3                    NaN                   NaN   \n",
       "4   Django;Ruby on Rails         Ruby on Rails   \n",
       "\n",
       "                              WelcomeChange WorkWeekHrs YearsCode YearsCodePro  \n",
       "0   Just as welcome now as I felt last year        50.0        36           27  \n",
       "1  Somewhat more welcome now than last year         NaN         7            4  \n",
       "2  Somewhat more welcome now than last year         NaN         4          NaN  \n",
       "3  Somewhat less welcome now than last year        40.0         7            4  \n",
       "4   Just as welcome now as I felt last year         NaN        15            8  \n",
       "\n",
       "[5 rows x 61 columns]"
      ]
     },
     "execution_count": 45,
     "metadata": {},
     "output_type": "execute_result"
    }
   ],
   "source": [
    "#df.head() will show first five rows \n",
    "# df.head(2)    to show the first two row\n",
    "# df.tail()     to show last five row\n",
    "df.head()"
   ]
  },
  {
   "cell_type": "code",
   "execution_count": 27,
   "metadata": {},
   "outputs": [
    {
     "data": {
      "text/plain": [
       "(64461, 61)"
      ]
     },
     "execution_count": 27,
     "metadata": {},
     "output_type": "execute_result"
    }
   ],
   "source": [
    "#to show the number of rows adn columns we have in the csv\n",
    "df.shape"
   ]
  },
  {
   "cell_type": "code",
   "execution_count": null,
   "metadata": {},
   "outputs": [
    {
     "data": {
      "text/plain": [
       "Index(['Respondent', 'MainBranch', 'Hobbyist', 'Age', 'Age1stCode', 'CompFreq',\n",
       "       'CompTotal', 'ConvertedComp', 'Country', 'CurrencyDesc',\n",
       "       'CurrencySymbol', 'DatabaseDesireNextYear', 'DatabaseWorkedWith',\n",
       "       'DevType', 'EdLevel', 'Employment', 'Ethnicity', 'Gender', 'JobFactors',\n",
       "       'JobSat', 'JobSeek', 'LanguageDesireNextYear', 'LanguageWorkedWith',\n",
       "       'MiscTechDesireNextYear', 'MiscTechWorkedWith',\n",
       "       'NEWCollabToolsDesireNextYear', 'NEWCollabToolsWorkedWith', 'NEWDevOps',\n",
       "       'NEWDevOpsImpt', 'NEWEdImpt', 'NEWJobHunt', 'NEWJobHuntResearch',\n",
       "       'NEWLearn', 'NEWOffTopic', 'NEWOnboardGood', 'NEWOtherComms',\n",
       "       'NEWOvertime', 'NEWPurchaseResearch', 'NEWPurpleLink', 'NEWSOSites',\n",
       "       'NEWStuck', 'OpSys', 'OrgSize', 'PlatformDesireNextYear',\n",
       "       'PlatformWorkedWith', 'PurchaseWhat', 'Sexuality', 'SOAccount',\n",
       "       'SOComm', 'SOPartFreq', 'SOVisitFreq', 'SurveyEase', 'SurveyLength',\n",
       "       'Trans', 'UndergradMajor', 'WebframeDesireNextYear',\n",
       "       'WebframeWorkedWith', 'WelcomeChange', 'WorkWeekHrs', 'YearsCode',\n",
       "       'YearsCodePro'],\n",
       "      dtype='object')"
      ]
     },
     "execution_count": 21,
     "metadata": {},
     "output_type": "execute_result"
    }
   ],
   "source": [
    "# this is used to  view the column in the csv\n",
    "df.columns"
   ]
  },
  {
   "cell_type": "code",
   "execution_count": 46,
   "metadata": {},
   "outputs": [
    {
     "name": "stdout",
     "output_type": "stream",
     "text": [
      "<class 'pandas.core.frame.DataFrame'>\n",
      "RangeIndex: 64461 entries, 0 to 64460\n",
      "Data columns (total 61 columns):\n",
      " #   Column                        Non-Null Count  Dtype  \n",
      "---  ------                        --------------  -----  \n",
      " 0   Respondent                    64461 non-null  int64  \n",
      " 1   MainBranch                    64162 non-null  object \n",
      " 2   Hobbyist                      64416 non-null  object \n",
      " 3   Age                           45446 non-null  float64\n",
      " 4   Age1stCode                    57900 non-null  object \n",
      " 5   CompFreq                      40069 non-null  object \n",
      " 6   CompTotal                     34826 non-null  float64\n",
      " 7   ConvertedComp                 34756 non-null  float64\n",
      " 8   Country                       64072 non-null  object \n",
      " 9   CurrencyDesc                  45472 non-null  object \n",
      " 10  CurrencySymbol                45472 non-null  object \n",
      " 11  DatabaseDesireNextYear        44070 non-null  object \n",
      " 12  DatabaseWorkedWith            49537 non-null  object \n",
      " 13  DevType                       49370 non-null  object \n",
      " 14  EdLevel                       57431 non-null  object \n",
      " 15  Employment                    63854 non-null  object \n",
      " 16  Ethnicity                     45948 non-null  object \n",
      " 17  Gender                        50557 non-null  object \n",
      " 18  JobFactors                    49349 non-null  object \n",
      " 19  JobSat                        45194 non-null  object \n",
      " 20  JobSeek                       51727 non-null  object \n",
      " 21  LanguageDesireNextYear        54113 non-null  object \n",
      " 22  LanguageWorkedWith            57378 non-null  object \n",
      " 23  MiscTechDesireNextYear        42379 non-null  object \n",
      " 24  MiscTechWorkedWith            40314 non-null  object \n",
      " 25  NEWCollabToolsDesireNextYear  47287 non-null  object \n",
      " 26  NEWCollabToolsWorkedWith      52883 non-null  object \n",
      " 27  NEWDevOps                     42686 non-null  object \n",
      " 28  NEWDevOpsImpt                 41732 non-null  object \n",
      " 29  NEWEdImpt                     48465 non-null  object \n",
      " 30  NEWJobHunt                    42286 non-null  object \n",
      " 31  NEWJobHuntResearch            41022 non-null  object \n",
      " 32  NEWLearn                      56156 non-null  object \n",
      " 33  NEWOffTopic                   50804 non-null  object \n",
      " 34  NEWOnboardGood                42623 non-null  object \n",
      " 35  NEWOtherComms                 57205 non-null  object \n",
      " 36  NEWOvertime                   43231 non-null  object \n",
      " 37  NEWPurchaseResearch           37321 non-null  object \n",
      " 38  NEWPurpleLink                 54803 non-null  object \n",
      " 39  NEWSOSites                    58275 non-null  object \n",
      " 40  NEWStuck                      54983 non-null  object \n",
      " 41  OpSys                         56228 non-null  object \n",
      " 42  OrgSize                       44334 non-null  object \n",
      " 43  PlatformDesireNextYear        50605 non-null  object \n",
      " 44  PlatformWorkedWith            53843 non-null  object \n",
      " 45  PurchaseWhat                  39364 non-null  object \n",
      " 46  Sexuality                     43992 non-null  object \n",
      " 47  SOAccount                     56805 non-null  object \n",
      " 48  SOComm                        56476 non-null  object \n",
      " 49  SOPartFreq                    46792 non-null  object \n",
      " 50  SOVisitFreq                   56970 non-null  object \n",
      " 51  SurveyEase                    51802 non-null  object \n",
      " 52  SurveyLength                  51701 non-null  object \n",
      " 53  Trans                         49345 non-null  object \n",
      " 54  UndergradMajor                50995 non-null  object \n",
      " 55  WebframeDesireNextYear        40024 non-null  object \n",
      " 56  WebframeWorkedWith            42279 non-null  object \n",
      " 57  WelcomeChange                 52683 non-null  object \n",
      " 58  WorkWeekHrs                   41151 non-null  float64\n",
      " 59  YearsCode                     57684 non-null  object \n",
      " 60  YearsCodePro                  46349 non-null  object \n",
      "dtypes: float64(4), int64(1), object(56)\n",
      "memory usage: 30.0+ MB\n"
     ]
    }
   ],
   "source": [
    "df.info()"
   ]
  },
  {
   "cell_type": "code",
   "execution_count": 51,
   "metadata": {},
   "outputs": [
    {
     "data": {
      "text/plain": [
       "Respondent              int64\n",
       "MainBranch             object\n",
       "Hobbyist               object\n",
       "Age                   float64\n",
       "Age1stCode             object\n",
       "                       ...   \n",
       "WebframeWorkedWith     object\n",
       "WelcomeChange          object\n",
       "WorkWeekHrs           float64\n",
       "YearsCode              object\n",
       "YearsCodePro           object\n",
       "Length: 61, dtype: object"
      ]
     },
     "execution_count": 51,
     "metadata": {},
     "output_type": "execute_result"
    }
   ],
   "source": [
    "df.dtypes"
   ]
  },
  {
   "cell_type": "code",
   "execution_count": 47,
   "metadata": {},
   "outputs": [
    {
     "name": "stderr",
     "output_type": "stream",
     "text": [
      "c:\\Users\\codetech\\Desktop\\Data Analysis\\Class Exercise\\Analyze Survey with python\\venv\\Lib\\site-packages\\pandas\\core\\nanops.py:1016: RuntimeWarning: overflow encountered in square\n",
      "  sqr = _ensure_numeric((avg - values) ** 2)\n"
     ]
    },
    {
     "data": {
      "application/vnd.microsoft.datawrangler.viewer.v0+json": {
       "columns": [
        {
         "name": "index",
         "rawType": "object",
         "type": "string"
        },
        {
         "name": "Respondent",
         "rawType": "float64",
         "type": "float"
        },
        {
         "name": "Age",
         "rawType": "float64",
         "type": "float"
        },
        {
         "name": "CompTotal",
         "rawType": "float64",
         "type": "float"
        },
        {
         "name": "ConvertedComp",
         "rawType": "float64",
         "type": "float"
        },
        {
         "name": "WorkWeekHrs",
         "rawType": "float64",
         "type": "float"
        }
       ],
       "conversionMethod": "pd.DataFrame",
       "ref": "0a9e5998-68cb-471c-9e26-7e335d314217",
       "rows": [
        [
         "count",
         "64461.0",
         "45446.0",
         "34826.0",
         "34756.0",
         "41151.0"
        ],
        [
         "mean",
         "32554.07973813624",
         "30.83411081283281",
         "3.1904643401800667e+242",
         "103756.05014961446",
         "40.78217399901455"
        ],
        [
         "std",
         "18967.442359929806",
         "9.58539232884473",
         "inf",
         "226885.29624346824",
         "17.81638342199153"
        ],
        [
         "min",
         "1.0",
         "1.0",
         "0.0",
         "0.0",
         "1.0"
        ],
        [
         "25%",
         "16116.0",
         "24.0",
         "20000.0",
         "24648.0",
         "40.0"
        ],
        [
         "50%",
         "32231.0",
         "29.0",
         "63000.0",
         "54049.0",
         "40.0"
        ],
        [
         "75%",
         "49142.0",
         "35.0",
         "125000.0",
         "95000.0",
         "44.0"
        ],
        [
         "max",
         "65639.0",
         "279.0",
         "1.11111111111111e+247",
         "2000000.0",
         "475.0"
        ]
       ],
       "shape": {
        "columns": 5,
        "rows": 8
       }
      },
      "text/html": [
       "<div>\n",
       "<style scoped>\n",
       "    .dataframe tbody tr th:only-of-type {\n",
       "        vertical-align: middle;\n",
       "    }\n",
       "\n",
       "    .dataframe tbody tr th {\n",
       "        vertical-align: top;\n",
       "    }\n",
       "\n",
       "    .dataframe thead th {\n",
       "        text-align: right;\n",
       "    }\n",
       "</style>\n",
       "<table border=\"1\" class=\"dataframe\">\n",
       "  <thead>\n",
       "    <tr style=\"text-align: right;\">\n",
       "      <th></th>\n",
       "      <th>Respondent</th>\n",
       "      <th>Age</th>\n",
       "      <th>CompTotal</th>\n",
       "      <th>ConvertedComp</th>\n",
       "      <th>WorkWeekHrs</th>\n",
       "    </tr>\n",
       "  </thead>\n",
       "  <tbody>\n",
       "    <tr>\n",
       "      <th>count</th>\n",
       "      <td>64461.000000</td>\n",
       "      <td>45446.000000</td>\n",
       "      <td>3.482600e+04</td>\n",
       "      <td>3.475600e+04</td>\n",
       "      <td>41151.000000</td>\n",
       "    </tr>\n",
       "    <tr>\n",
       "      <th>mean</th>\n",
       "      <td>32554.079738</td>\n",
       "      <td>30.834111</td>\n",
       "      <td>3.190464e+242</td>\n",
       "      <td>1.037561e+05</td>\n",
       "      <td>40.782174</td>\n",
       "    </tr>\n",
       "    <tr>\n",
       "      <th>std</th>\n",
       "      <td>18967.442360</td>\n",
       "      <td>9.585392</td>\n",
       "      <td>inf</td>\n",
       "      <td>2.268853e+05</td>\n",
       "      <td>17.816383</td>\n",
       "    </tr>\n",
       "    <tr>\n",
       "      <th>min</th>\n",
       "      <td>1.000000</td>\n",
       "      <td>1.000000</td>\n",
       "      <td>0.000000e+00</td>\n",
       "      <td>0.000000e+00</td>\n",
       "      <td>1.000000</td>\n",
       "    </tr>\n",
       "    <tr>\n",
       "      <th>25%</th>\n",
       "      <td>16116.000000</td>\n",
       "      <td>24.000000</td>\n",
       "      <td>2.000000e+04</td>\n",
       "      <td>2.464800e+04</td>\n",
       "      <td>40.000000</td>\n",
       "    </tr>\n",
       "    <tr>\n",
       "      <th>50%</th>\n",
       "      <td>32231.000000</td>\n",
       "      <td>29.000000</td>\n",
       "      <td>6.300000e+04</td>\n",
       "      <td>5.404900e+04</td>\n",
       "      <td>40.000000</td>\n",
       "    </tr>\n",
       "    <tr>\n",
       "      <th>75%</th>\n",
       "      <td>49142.000000</td>\n",
       "      <td>35.000000</td>\n",
       "      <td>1.250000e+05</td>\n",
       "      <td>9.500000e+04</td>\n",
       "      <td>44.000000</td>\n",
       "    </tr>\n",
       "    <tr>\n",
       "      <th>max</th>\n",
       "      <td>65639.000000</td>\n",
       "      <td>279.000000</td>\n",
       "      <td>1.111111e+247</td>\n",
       "      <td>2.000000e+06</td>\n",
       "      <td>475.000000</td>\n",
       "    </tr>\n",
       "  </tbody>\n",
       "</table>\n",
       "</div>"
      ],
      "text/plain": [
       "         Respondent           Age      CompTotal  ConvertedComp   WorkWeekHrs\n",
       "count  64461.000000  45446.000000   3.482600e+04   3.475600e+04  41151.000000\n",
       "mean   32554.079738     30.834111  3.190464e+242   1.037561e+05     40.782174\n",
       "std    18967.442360      9.585392            inf   2.268853e+05     17.816383\n",
       "min        1.000000      1.000000   0.000000e+00   0.000000e+00      1.000000\n",
       "25%    16116.000000     24.000000   2.000000e+04   2.464800e+04     40.000000\n",
       "50%    32231.000000     29.000000   6.300000e+04   5.404900e+04     40.000000\n",
       "75%    49142.000000     35.000000   1.250000e+05   9.500000e+04     44.000000\n",
       "max    65639.000000    279.000000  1.111111e+247   2.000000e+06    475.000000"
      ]
     },
     "execution_count": 47,
     "metadata": {},
     "output_type": "execute_result"
    }
   ],
   "source": [
    "df.describe()"
   ]
  },
  {
   "cell_type": "code",
   "execution_count": null,
   "metadata": {},
   "outputs": [
    {
     "data": {
      "text/plain": [
       "Gender\n",
       "Man                                                            46013\n",
       "Woman                                                           3844\n",
       "Non-binary, genderqueer, or gender non-conforming                385\n",
       "Man;Non-binary, genderqueer, or gender non-conforming            121\n",
       "Woman;Non-binary, genderqueer, or gender non-conforming           92\n",
       "Woman;Man                                                         76\n",
       "Woman;Man;Non-binary, genderqueer, or gender non-conforming       26\n",
       "Name: count, dtype: int64"
      ]
     },
     "execution_count": 15,
     "metadata": {},
     "output_type": "execute_result"
    }
   ],
   "source": [
    "# value_counts is used to display the total value of each record in the column\n",
    "df['Gender'].value_counts()"
   ]
  },
  {
   "cell_type": "code",
   "execution_count": null,
   "metadata": {},
   "outputs": [
    {
     "data": {
      "text/plain": [
       "Gender\n",
       "Man                                                            0.910121\n",
       "Woman                                                          0.076033\n",
       "Non-binary, genderqueer, or gender non-conforming              0.007615\n",
       "Man;Non-binary, genderqueer, or gender non-conforming          0.002393\n",
       "Woman;Non-binary, genderqueer, or gender non-conforming        0.001820\n",
       "Woman;Man                                                      0.001503\n",
       "Woman;Man;Non-binary, genderqueer, or gender non-conforming    0.000514\n",
       "Name: proportion, dtype: float64"
      ]
     },
     "execution_count": 16,
     "metadata": {},
     "output_type": "execute_result"
    }
   ],
   "source": [
    "# we used arguemnt normalize=true to display the percentage of the value in the column\n",
    "# to get the percentage, multiply each value by 100 i.e 0.910121x100\n",
    "df['Gender'].value_counts(normalize=True)"
   ]
  },
  {
   "cell_type": "code",
   "execution_count": 22,
   "metadata": {},
   "outputs": [],
   "source": [
    "%matplotlib inline"
   ]
  },
  {
   "cell_type": "code",
   "execution_count": null,
   "metadata": {},
   "outputs": [
    {
     "data": {
      "text/plain": [
       "<Axes: xlabel='Gender'>"
      ]
     },
     "execution_count": 33,
     "metadata": {},
     "output_type": "execute_result"
    },
    {
     "data": {
      "image/png": "[encoded data removed]",
      "text/plain": [
       "<Figure size 1500x700 with 1 Axes>"
      ]
     },
     "metadata": {},
     "output_type": "display_data"
    }
   ],
   "source": [
    "# we can either use %matplotlib inline or plt.show() to display the graph\n",
    "# add figsize to increase the size of the graph and color to change graph\n",
    "df['Gender'].value_counts().plot(kind='bar', figsize=(15,7), color='red')\n",
    "#.show()"
   ]
  },
  {
   "cell_type": "code",
   "execution_count": 2,
   "metadata": {},
   "outputs": [
    {
     "ename": "NameError",
     "evalue": "name 'df' is not defined",
     "output_type": "error",
     "traceback": [
      "\u001b[31m---------------------------------------------------------------------------\u001b[39m",
      "\u001b[31mNameError\u001b[39m                                 Traceback (most recent call last)",
      "\u001b[36mCell\u001b[39m\u001b[36m \u001b[39m\u001b[32mIn[2]\u001b[39m\u001b[32m, line 1\u001b[39m\n\u001b[32m----> \u001b[39m\u001b[32m1\u001b[39m pybool = \u001b[43mdf\u001b[49m[\u001b[33m'\u001b[39m\u001b[33mLanguageWorkedWith\u001b[39m\u001b[33m'\u001b[39m].str.contains(\u001b[33m'\u001b[39m\u001b[33mPython\u001b[39m\u001b[33m'\u001b[39m)\n",
      "\u001b[31mNameError\u001b[39m: name 'df' is not defined"
     ]
    }
   ],
   "source": [
    "pybool = df['LanguageWorkedWith'].str.contains('Python')"
   ]
  },
  {
   "cell_type": "code",
   "execution_count": 1,
   "metadata": {},
   "outputs": [
    {
     "ename": "NameError",
     "evalue": "name 'pybool' is not defined",
     "output_type": "error",
     "traceback": [
      "\u001b[31m---------------------------------------------------------------------------\u001b[39m",
      "\u001b[31mNameError\u001b[39m                                 Traceback (most recent call last)",
      "\u001b[36mCell\u001b[39m\u001b[36m \u001b[39m\u001b[32mIn[1]\u001b[39m\u001b[32m, line 1\u001b[39m\n\u001b[32m----> \u001b[39m\u001b[32m1\u001b[39m \u001b[43mpybool\u001b[49m.value_counts()\n\u001b[32m      2\u001b[39m \u001b[38;5;66;03m# pybool.value_counts(normalize=True)\u001b[39;00m\n",
      "\u001b[31mNameError\u001b[39m: name 'pybool' is not defined"
     ]
    }
   ],
   "source": [
    "pybool.value_counts()\n",
    "# pybool.value_counts(normalize=True)"
   ]
  },
  {
   "cell_type": "code",
   "execution_count": 37,
   "metadata": {},
   "outputs": [],
   "source": [
    "languages = df['LanguageWorkedWith'].str.split(';',expand=True)"
   ]
  },
  {
   "cell_type": "code",
   "execution_count": 38,
   "metadata": {},
   "outputs": [
    {
     "data": {
      "application/vnd.microsoft.datawrangler.viewer.v0+json": {
       "columns": [
        {
         "name": "index",
         "rawType": "int64",
         "type": "integer"
        },
        {
         "name": "0",
         "rawType": "object",
         "type": "unknown"
        },
        {
         "name": "1",
         "rawType": "object",
         "type": "unknown"
        },
        {
         "name": "2",
         "rawType": "object",
         "type": "unknown"
        },
        {
         "name": "3",
         "rawType": "object",
         "type": "unknown"
        },
        {
         "name": "4",
         "rawType": "object",
         "type": "unknown"
        },
        {
         "name": "5",
         "rawType": "object",
         "type": "unknown"
        },
        {
         "name": "6",
         "rawType": "object",
         "type": "unknown"
        },
        {
         "name": "7",
         "rawType": "object",
         "type": "unknown"
        },
        {
         "name": "8",
         "rawType": "object",
         "type": "unknown"
        },
        {
         "name": "9",
         "rawType": "object",
         "type": "unknown"
        },
        {
         "name": "10",
         "rawType": "object",
         "type": "unknown"
        },
        {
         "name": "11",
         "rawType": "object",
         "type": "unknown"
        },
        {
         "name": "12",
         "rawType": "object",
         "type": "unknown"
        },
        {
         "name": "13",
         "rawType": "object",
         "type": "unknown"
        },
        {
         "name": "14",
         "rawType": "object",
         "type": "unknown"
        },
        {
         "name": "15",
         "rawType": "object",
         "type": "unknown"
        },
        {
         "name": "16",
         "rawType": "object",
         "type": "unknown"
        },
        {
         "name": "17",
         "rawType": "object",
         "type": "unknown"
        },
        {
         "name": "18",
         "rawType": "object",
         "type": "unknown"
        },
        {
         "name": "19",
         "rawType": "object",
         "type": "unknown"
        },
        {
         "name": "20",
         "rawType": "object",
         "type": "unknown"
        },
        {
         "name": "21",
         "rawType": "object",
         "type": "unknown"
        },
        {
         "name": "22",
         "rawType": "object",
         "type": "unknown"
        },
        {
         "name": "23",
         "rawType": "object",
         "type": "unknown"
        },
        {
         "name": "24",
         "rawType": "object",
         "type": "unknown"
        }
       ],
       "conversionMethod": "pd.DataFrame",
       "ref": "5e78dc88-867c-4f48-a6a9-722c06a6f133",
       "rows": [
        [
         "0",
         "C#",
         "HTML/CSS",
         "JavaScript",
         null,
         null,
         null,
         null,
         null,
         null,
         null,
         null,
         null,
         null,
         null,
         null,
         null,
         null,
         null,
         null,
         null,
         null,
         null,
         null,
         null,
         null
        ],
        [
         "1",
         "JavaScript",
         "Swift",
         null,
         null,
         null,
         null,
         null,
         null,
         null,
         null,
         null,
         null,
         null,
         null,
         null,
         null,
         null,
         null,
         null,
         null,
         null,
         null,
         null,
         null,
         null
        ],
        [
         "2",
         "Objective-C",
         "Python",
         "Swift",
         null,
         null,
         null,
         null,
         null,
         null,
         null,
         null,
         null,
         null,
         null,
         null,
         null,
         null,
         null,
         null,
         null,
         null,
         null,
         null,
         null,
         null
        ],
        [
         "3",
         null,
         null,
         null,
         null,
         null,
         null,
         null,
         null,
         null,
         null,
         null,
         null,
         null,
         null,
         null,
         null,
         null,
         null,
         null,
         null,
         null,
         null,
         null,
         null,
         null
        ],
        [
         "4",
         "HTML/CSS",
         "Ruby",
         "SQL",
         null,
         null,
         null,
         null,
         null,
         null,
         null,
         null,
         null,
         null,
         null,
         null,
         null,
         null,
         null,
         null,
         null,
         null,
         null,
         null,
         null,
         null
        ]
       ],
       "shape": {
        "columns": 25,
        "rows": 5
       }
      },
      "text/html": [
       "<div>\n",
       "<style scoped>\n",
       "    .dataframe tbody tr th:only-of-type {\n",
       "        vertical-align: middle;\n",
       "    }\n",
       "\n",
       "    .dataframe tbody tr th {\n",
       "        vertical-align: top;\n",
       "    }\n",
       "\n",
       "    .dataframe thead th {\n",
       "        text-align: right;\n",
       "    }\n",
       "</style>\n",
       "<table border=\"1\" class=\"dataframe\">\n",
       "  <thead>\n",
       "    <tr style=\"text-align: right;\">\n",
       "      <th></th>\n",
       "      <th>0</th>\n",
       "      <th>1</th>\n",
       "      <th>2</th>\n",
       "      <th>3</th>\n",
       "      <th>4</th>\n",
       "      <th>5</th>\n",
       "      <th>6</th>\n",
       "      <th>7</th>\n",
       "      <th>8</th>\n",
       "      <th>9</th>\n",
       "      <th>...</th>\n",
       "      <th>15</th>\n",
       "      <th>16</th>\n",
       "      <th>17</th>\n",
       "      <th>18</th>\n",
       "      <th>19</th>\n",
       "      <th>20</th>\n",
       "      <th>21</th>\n",
       "      <th>22</th>\n",
       "      <th>23</th>\n",
       "      <th>24</th>\n",
       "    </tr>\n",
       "  </thead>\n",
       "  <tbody>\n",
       "    <tr>\n",
       "      <th>0</th>\n",
       "      <td>C#</td>\n",
       "      <td>HTML/CSS</td>\n",
       "      <td>JavaScript</td>\n",
       "      <td>None</td>\n",
       "      <td>None</td>\n",
       "      <td>None</td>\n",
       "      <td>None</td>\n",
       "      <td>None</td>\n",
       "      <td>None</td>\n",
       "      <td>None</td>\n",
       "      <td>...</td>\n",
       "      <td>None</td>\n",
       "      <td>None</td>\n",
       "      <td>None</td>\n",
       "      <td>None</td>\n",
       "      <td>None</td>\n",
       "      <td>None</td>\n",
       "      <td>None</td>\n",
       "      <td>None</td>\n",
       "      <td>None</td>\n",
       "      <td>None</td>\n",
       "    </tr>\n",
       "    <tr>\n",
       "      <th>1</th>\n",
       "      <td>JavaScript</td>\n",
       "      <td>Swift</td>\n",
       "      <td>None</td>\n",
       "      <td>None</td>\n",
       "      <td>None</td>\n",
       "      <td>None</td>\n",
       "      <td>None</td>\n",
       "      <td>None</td>\n",
       "      <td>None</td>\n",
       "      <td>None</td>\n",
       "      <td>...</td>\n",
       "      <td>None</td>\n",
       "      <td>None</td>\n",
       "      <td>None</td>\n",
       "      <td>None</td>\n",
       "      <td>None</td>\n",
       "      <td>None</td>\n",
       "      <td>None</td>\n",
       "      <td>None</td>\n",
       "      <td>None</td>\n",
       "      <td>None</td>\n",
       "    </tr>\n",
       "    <tr>\n",
       "      <th>2</th>\n",
       "      <td>Objective-C</td>\n",
       "      <td>Python</td>\n",
       "      <td>Swift</td>\n",
       "      <td>None</td>\n",
       "      <td>None</td>\n",
       "      <td>None</td>\n",
       "      <td>None</td>\n",
       "      <td>None</td>\n",
       "      <td>None</td>\n",
       "      <td>None</td>\n",
       "      <td>...</td>\n",
       "      <td>None</td>\n",
       "      <td>None</td>\n",
       "      <td>None</td>\n",
       "      <td>None</td>\n",
       "      <td>None</td>\n",
       "      <td>None</td>\n",
       "      <td>None</td>\n",
       "      <td>None</td>\n",
       "      <td>None</td>\n",
       "      <td>None</td>\n",
       "    </tr>\n",
       "    <tr>\n",
       "      <th>3</th>\n",
       "      <td>NaN</td>\n",
       "      <td>NaN</td>\n",
       "      <td>NaN</td>\n",
       "      <td>NaN</td>\n",
       "      <td>NaN</td>\n",
       "      <td>NaN</td>\n",
       "      <td>NaN</td>\n",
       "      <td>NaN</td>\n",
       "      <td>NaN</td>\n",
       "      <td>NaN</td>\n",
       "      <td>...</td>\n",
       "      <td>NaN</td>\n",
       "      <td>NaN</td>\n",
       "      <td>NaN</td>\n",
       "      <td>NaN</td>\n",
       "      <td>NaN</td>\n",
       "      <td>NaN</td>\n",
       "      <td>NaN</td>\n",
       "      <td>NaN</td>\n",
       "      <td>NaN</td>\n",
       "      <td>NaN</td>\n",
       "    </tr>\n",
       "    <tr>\n",
       "      <th>4</th>\n",
       "      <td>HTML/CSS</td>\n",
       "      <td>Ruby</td>\n",
       "      <td>SQL</td>\n",
       "      <td>None</td>\n",
       "      <td>None</td>\n",
       "      <td>None</td>\n",
       "      <td>None</td>\n",
       "      <td>None</td>\n",
       "      <td>None</td>\n",
       "      <td>None</td>\n",
       "      <td>...</td>\n",
       "      <td>None</td>\n",
       "      <td>None</td>\n",
       "      <td>None</td>\n",
       "      <td>None</td>\n",
       "      <td>None</td>\n",
       "      <td>None</td>\n",
       "      <td>None</td>\n",
       "      <td>None</td>\n",
       "      <td>None</td>\n",
       "      <td>None</td>\n",
       "    </tr>\n",
       "  </tbody>\n",
       "</table>\n",
       "<p>5 rows × 25 columns</p>\n",
       "</div>"
      ],
      "text/plain": [
       "            0         1           2     3     4     5     6     7     8   \\\n",
       "0           C#  HTML/CSS  JavaScript  None  None  None  None  None  None   \n",
       "1   JavaScript     Swift        None  None  None  None  None  None  None   \n",
       "2  Objective-C    Python       Swift  None  None  None  None  None  None   \n",
       "3          NaN       NaN         NaN   NaN   NaN   NaN   NaN   NaN   NaN   \n",
       "4     HTML/CSS      Ruby         SQL  None  None  None  None  None  None   \n",
       "\n",
       "     9   ...    15    16    17    18    19    20    21    22    23    24  \n",
       "0  None  ...  None  None  None  None  None  None  None  None  None  None  \n",
       "1  None  ...  None  None  None  None  None  None  None  None  None  None  \n",
       "2  None  ...  None  None  None  None  None  None  None  None  None  None  \n",
       "3   NaN  ...   NaN   NaN   NaN   NaN   NaN   NaN   NaN   NaN   NaN   NaN  \n",
       "4  None  ...  None  None  None  None  None  None  None  None  None  None  \n",
       "\n",
       "[5 rows x 25 columns]"
      ]
     },
     "execution_count": 38,
     "metadata": {},
     "output_type": "execute_result"
    }
   ],
   "source": [
    "languages.head()"
   ]
  },
  {
   "cell_type": "code",
   "execution_count": 40,
   "metadata": {},
   "outputs": [
    {
     "data": {
      "text/plain": [
       "JavaScript               38822\n",
       "HTML/CSS                 36181\n",
       "SQL                      31413\n",
       "Python                   25287\n",
       "Java                     23074\n",
       "Bash/Shell/PowerShell    18980\n",
       "C#                       18041\n",
       "PHP                      15007\n",
       "TypeScript               14578\n",
       "C++                      13707\n",
       "C                        12487\n",
       "Go                        5038\n",
       "Kotlin                    4468\n",
       "Ruby                      4046\n",
       "Assembly                  3553\n",
       "VBA                       3499\n",
       "Swift                     3397\n",
       "R                         3288\n",
       "Rust                      2929\n",
       "Objective-C               2340\n",
       "Dart                      2280\n",
       "Scala                     2052\n",
       "Perl                      1796\n",
       "Haskell                   1222\n",
       "Julia                      519\n",
       "Name: count, dtype: int64"
      ]
     },
     "execution_count": 40,
     "metadata": {},
     "output_type": "execute_result"
    }
   ],
   "source": [
    "languages.stack().value_counts()"
   ]
  },
  {
   "cell_type": "code",
   "execution_count": 42,
   "metadata": {},
   "outputs": [
    {
     "data": {
      "text/plain": [
       "<Axes: >"
      ]
     },
     "execution_count": 42,
     "metadata": {},
     "output_type": "execute_result"
    },
    {
     "data": {
      "image/png": "[encoded data removed]",
      "text/plain": [
       "<Figure size 1500x700 with 1 Axes>"
      ]
     },
     "metadata": {},
     "output_type": "display_data"
    }
   ],
   "source": [
    "languages.stack().value_counts().plot(kind='bar',color='green', figsize=(15,7))"
   ]
  },
  {
   "cell_type": "code",
   "execution_count": null,
   "metadata": {},
   "outputs": [],
   "source": []
  }
 ],
 "metadata": {
  "kernelspec": {
   "display_name": "venv",
   "language": "python",
   "name": "python3"
  },
  "language_info": {
   "codemirror_mode": {
    "name": "ipython",
    "version": 3
   },
   "file_extension": ".py",
   "mimetype": "text/x-python",
   "name": "python",
   "nbconvert_exporter": "python",
   "pygments_lexer": "ipython3",
   "version": "3.13.2"
  }
 },
 "nbformat": 4,
 "nbformat_minor": 2
}
