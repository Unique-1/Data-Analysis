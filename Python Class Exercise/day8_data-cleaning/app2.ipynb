{
 "cells": [
  {
   "cell_type": "code",
   "execution_count": 2,
   "metadata": {},
   "outputs": [],
   "source": [
    "import pandas as pd"
   ]
  },
  {
   "cell_type": "code",
   "execution_count": 3,
   "metadata": {},
   "outputs": [],
   "source": [
    "# i want to download rand.csv file from randat.com\n",
    "# using the following column (fullname, lastname, gender, age(18-30), education, occupation, salary(per month))\n",
    "df = pd.read_csv('data/rand.csv')"
   ]
  },
  {
   "cell_type": "code",
   "execution_count": 4,
   "metadata": {},
   "outputs": [
    {
     "data": {
      "application/vnd.microsoft.datawrangler.viewer.v0+json": {
       "columns": [
        {
         "name": "index",
         "rawType": "int64",
         "type": "integer"
        },
        {
         "name": "First Name",
         "rawType": "object",
         "type": "string"
        },
        {
         "name": "Last Name",
         "rawType": "object",
         "type": "string"
        },
        {
         "name": "Gender",
         "rawType": "object",
         "type": "string"
        },
        {
         "name": "Age",
         "rawType": "int64",
         "type": "integer"
        },
        {
         "name": "Education",
         "rawType": "object",
         "type": "string"
        },
        {
         "name": "Occupation",
         "rawType": "object",
         "type": "string"
        },
        {
         "name": "Salary",
         "rawType": "int64",
         "type": "integer"
        },
        {
         "name": "ID",
         "rawType": "int64",
         "type": "integer"
        }
       ],
       "conversionMethod": "pd.DataFrame",
       "ref": "0d501047-5899-4f31-a4e9-bb24b27dbc95",
       "rows": [
        [
         "0",
         "Adrianna",
         "Cunningham",
         "Female",
         "21",
         "Primary",
         "Social Worker",
         "856",
         "2460"
        ],
        [
         "1",
         "Preston",
         "Cole",
         "Male",
         "26",
         "Bachelor",
         "Interpreter",
         "2326",
         "2924"
        ],
        [
         "2",
         "Emma",
         "Elliott",
         "Female",
         "29",
         "Primary",
         "Meteorologist",
         "3814",
         "7283"
        ],
        [
         "3",
         "Eddy",
         "Dixon",
         "Male",
         "26",
         "Primary",
         "Graphic Designer",
         "6573",
         "5933"
        ],
        [
         "4",
         "Amber",
         "West",
         "Female",
         "25",
         "Bachelor",
         "Dancer",
         "7436",
         "7877"
        ]
       ],
       "shape": {
        "columns": 8,
        "rows": 5
       }
      },
      "text/html": [
       "<div>\n",
       "<style scoped>\n",
       "    .dataframe tbody tr th:only-of-type {\n",
       "        vertical-align: middle;\n",
       "    }\n",
       "\n",
       "    .dataframe tbody tr th {\n",
       "        vertical-align: top;\n",
       "    }\n",
       "\n",
       "    .dataframe thead th {\n",
       "        text-align: right;\n",
       "    }\n",
       "</style>\n",
       "<table border=\"1\" class=\"dataframe\">\n",
       "  <thead>\n",
       "    <tr style=\"text-align: right;\">\n",
       "      <th></th>\n",
       "      <th>First Name</th>\n",
       "      <th>Last Name</th>\n",
       "      <th>Gender</th>\n",
       "      <th>Age</th>\n",
       "      <th>Education</th>\n",
       "      <th>Occupation</th>\n",
       "      <th>Salary</th>\n",
       "      <th>ID</th>\n",
       "    </tr>\n",
       "  </thead>\n",
       "  <tbody>\n",
       "    <tr>\n",
       "      <th>0</th>\n",
       "      <td>Adrianna</td>\n",
       "      <td>Cunningham</td>\n",
       "      <td>Female</td>\n",
       "      <td>21</td>\n",
       "      <td>Primary</td>\n",
       "      <td>Social Worker</td>\n",
       "      <td>856</td>\n",
       "      <td>2460</td>\n",
       "    </tr>\n",
       "    <tr>\n",
       "      <th>1</th>\n",
       "      <td>Preston</td>\n",
       "      <td>Cole</td>\n",
       "      <td>Male</td>\n",
       "      <td>26</td>\n",
       "      <td>Bachelor</td>\n",
       "      <td>Interpreter</td>\n",
       "      <td>2326</td>\n",
       "      <td>2924</td>\n",
       "    </tr>\n",
       "    <tr>\n",
       "      <th>2</th>\n",
       "      <td>Emma</td>\n",
       "      <td>Elliott</td>\n",
       "      <td>Female</td>\n",
       "      <td>29</td>\n",
       "      <td>Primary</td>\n",
       "      <td>Meteorologist</td>\n",
       "      <td>3814</td>\n",
       "      <td>7283</td>\n",
       "    </tr>\n",
       "    <tr>\n",
       "      <th>3</th>\n",
       "      <td>Eddy</td>\n",
       "      <td>Dixon</td>\n",
       "      <td>Male</td>\n",
       "      <td>26</td>\n",
       "      <td>Primary</td>\n",
       "      <td>Graphic Designer</td>\n",
       "      <td>6573</td>\n",
       "      <td>5933</td>\n",
       "    </tr>\n",
       "    <tr>\n",
       "      <th>4</th>\n",
       "      <td>Amber</td>\n",
       "      <td>West</td>\n",
       "      <td>Female</td>\n",
       "      <td>25</td>\n",
       "      <td>Bachelor</td>\n",
       "      <td>Dancer</td>\n",
       "      <td>7436</td>\n",
       "      <td>7877</td>\n",
       "    </tr>\n",
       "  </tbody>\n",
       "</table>\n",
       "</div>"
      ],
      "text/plain": [
       "  First Name   Last Name  Gender  Age Education        Occupation  Salary  \\\n",
       "0   Adrianna  Cunningham  Female   21   Primary     Social Worker     856   \n",
       "1    Preston        Cole    Male   26  Bachelor       Interpreter    2326   \n",
       "2       Emma     Elliott  Female   29   Primary     Meteorologist    3814   \n",
       "3       Eddy       Dixon    Male   26   Primary  Graphic Designer    6573   \n",
       "4      Amber        West  Female   25  Bachelor            Dancer    7436   \n",
       "\n",
       "     ID  \n",
       "0  2460  \n",
       "1  2924  \n",
       "2  7283  \n",
       "3  5933  \n",
       "4  7877  "
      ]
     },
     "execution_count": 4,
     "metadata": {},
     "output_type": "execute_result"
    }
   ],
   "source": [
    "df.head()"
   ]
  },
  {
   "cell_type": "code",
   "execution_count": 5,
   "metadata": {},
   "outputs": [
    {
     "name": "stdout",
     "output_type": "stream",
     "text": [
      "<class 'pandas.core.frame.DataFrame'>\n",
      "RangeIndex: 100 entries, 0 to 99\n",
      "Data columns (total 8 columns):\n",
      " #   Column      Non-Null Count  Dtype \n",
      "---  ------      --------------  ----- \n",
      " 0   First Name  100 non-null    object\n",
      " 1   Last Name   100 non-null    object\n",
      " 2   Gender      100 non-null    object\n",
      " 3   Age         100 non-null    int64 \n",
      " 4   Education   100 non-null    object\n",
      " 5   Occupation  100 non-null    object\n",
      " 6   Salary      100 non-null    int64 \n",
      " 7   ID          100 non-null    int64 \n",
      "dtypes: int64(3), object(5)\n",
      "memory usage: 6.4+ KB\n"
     ]
    }
   ],
   "source": [
    "# check for technical info\n",
    "df.info()"
   ]
  },
  {
   "cell_type": "code",
   "execution_count": 6,
   "metadata": {},
   "outputs": [
    {
     "data": {
      "application/vnd.microsoft.datawrangler.viewer.v0+json": {
       "columns": [
        {
         "name": "index",
         "rawType": "int64",
         "type": "integer"
        },
        {
         "name": "First Name",
         "rawType": "object",
         "type": "string"
        },
        {
         "name": "Last Name",
         "rawType": "object",
         "type": "string"
        },
        {
         "name": "Gender",
         "rawType": "object",
         "type": "string"
        },
        {
         "name": "Age",
         "rawType": "int64",
         "type": "integer"
        },
        {
         "name": "Education",
         "rawType": "object",
         "type": "string"
        },
        {
         "name": "Occupation",
         "rawType": "object",
         "type": "string"
        },
        {
         "name": "Salary",
         "rawType": "int64",
         "type": "integer"
        }
       ],
       "conversionMethod": "pd.DataFrame",
       "ref": "00a3a01f-9d1b-4cf8-8a06-84e0264dc938",
       "rows": [
        [
         "0",
         "Adrianna",
         "Cunningham",
         "Female",
         "21",
         "Primary",
         "Social Worker",
         "856"
        ],
        [
         "1",
         "Preston",
         "Cole",
         "Male",
         "26",
         "Bachelor",
         "Interpreter",
         "2326"
        ],
        [
         "2",
         "Emma",
         "Elliott",
         "Female",
         "29",
         "Primary",
         "Meteorologist",
         "3814"
        ],
        [
         "3",
         "Eddy",
         "Dixon",
         "Male",
         "26",
         "Primary",
         "Graphic Designer",
         "6573"
        ],
        [
         "4",
         "Amber",
         "West",
         "Female",
         "25",
         "Bachelor",
         "Dancer",
         "7436"
        ],
        [
         "5",
         "Aldus",
         "Craig",
         "Male",
         "29",
         "Doctoral",
         "Botanist",
         "826"
        ],
        [
         "6",
         "Daryl",
         "Morris",
         "Male",
         "29",
         "Doctoral",
         "Manager",
         "5396"
        ],
        [
         "7",
         "Dainton",
         "Elliott",
         "Male",
         "19",
         "Lower secondary",
         "Scientist",
         "3532"
        ],
        [
         "8",
         "Arianna",
         "Barnes",
         "Female",
         "28",
         "Master",
         "Botanist",
         "5493"
        ],
        [
         "9",
         "Lydia",
         "Kelley",
         "Female",
         "30",
         "Upper secondary",
         "Producer",
         "8672"
        ],
        [
         "10",
         "Oliver",
         "Campbell",
         "Male",
         "21",
         "Master",
         "Veterinarian",
         "3896"
        ],
        [
         "11",
         "Abraham",
         "Barnes",
         "Male",
         "27",
         "Bachelor",
         "Pharmacist",
         "1928"
        ],
        [
         "12",
         "Miley",
         "Johnson",
         "Female",
         "28",
         "Primary",
         "Manager",
         "1367"
        ],
        [
         "13",
         "Aldus",
         "Johnson",
         "Male",
         "22",
         "Doctoral",
         "Engineer",
         "3336"
        ],
        [
         "14",
         "Patrick",
         "Grant",
         "Male",
         "26",
         "Master",
         "Actor",
         "1823"
        ],
        [
         "15",
         "April",
         "Wells",
         "Female",
         "20",
         "Master",
         "Florist",
         "1781"
        ],
        [
         "16",
         "Carlos",
         "Ferguson",
         "Male",
         "29",
         "Lower secondary",
         "Hairdresser",
         "7289"
        ],
        [
         "17",
         "Anna",
         "Higgins",
         "Female",
         "26",
         "Doctoral",
         "Botanist",
         "2110"
        ],
        [
         "18",
         "April",
         "Cooper",
         "Female",
         "28",
         "Upper secondary",
         "Composer",
         "2252"
        ],
        [
         "19",
         "Melissa",
         "Allen",
         "Female",
         "21",
         "Upper secondary",
         "Producer",
         "8488"
        ],
        [
         "20",
         "Roland",
         "Kelly",
         "Male",
         "19",
         "Upper secondary",
         "Social Worker",
         "7642"
        ],
        [
         "21",
         "Ted",
         "Dixon",
         "Male",
         "25",
         "Master",
         "Geologist",
         "4865"
        ],
        [
         "22",
         "Rubie",
         "Harris",
         "Female",
         "18",
         "Lower secondary",
         "Singer",
         "7022"
        ],
        [
         "23",
         "Jacob",
         "Lloyd",
         "Male",
         "27",
         "Upper secondary",
         "Astronomer",
         "3089"
        ],
        [
         "24",
         "Belinda",
         "Harrison",
         "Female",
         "21",
         "Primary",
         "Fashion Designer",
         "3415"
        ],
        [
         "25",
         "Garry",
         "Moore",
         "Male",
         "25",
         "Upper secondary",
         "Composer",
         "5550"
        ],
        [
         "26",
         "Julia",
         "Ryan",
         "Female",
         "21",
         "Doctoral",
         "Chef",
         "3445"
        ],
        [
         "27",
         "Miller",
         "Roberts",
         "Male",
         "30",
         "Master",
         "Agronomist",
         "7563"
        ],
        [
         "28",
         "Spike",
         "Watson",
         "Male",
         "24",
         "Doctoral",
         "Singer",
         "7900"
        ],
        [
         "29",
         "Miranda",
         "Chapman",
         "Female",
         "30",
         "Upper secondary",
         "Driver",
         "7620"
        ],
        [
         "30",
         "Adele",
         "Allen",
         "Female",
         "18",
         "Bachelor",
         "Social Worker",
         "6579"
        ],
        [
         "31",
         "Daniel",
         "Morrison",
         "Male",
         "25",
         "Master",
         "Biochemist",
         "7332"
        ],
        [
         "32",
         "Kellan",
         "Ross",
         "Male",
         "24",
         "Primary",
         "Scientist",
         "5843"
        ],
        [
         "33",
         "Connie",
         "Ross",
         "Female",
         "22",
         "Upper secondary",
         "Astronomer",
         "1888"
        ],
        [
         "34",
         "Isabella",
         "Wright",
         "Female",
         "24",
         "Master",
         "Lecturer",
         "4628"
        ],
        [
         "35",
         "Arthur",
         "Wilson",
         "Male",
         "25",
         "Lower secondary",
         "Accountant",
         "7879"
        ],
        [
         "36",
         "Ada",
         "Turner",
         "Female",
         "25",
         "Bachelor",
         "Lawer",
         "937"
        ],
        [
         "37",
         "Reid",
         "Barnes",
         "Male",
         "29",
         "Doctoral",
         "Salesman",
         "3912"
        ],
        [
         "38",
         "Jack",
         "Higgins",
         "Male",
         "21",
         "Master",
         "Scientist",
         "6458"
        ],
        [
         "39",
         "Spike",
         "Wright",
         "Male",
         "26",
         "Bachelor",
         "Firefighter",
         "9759"
        ],
        [
         "40",
         "Amber",
         "Johnson",
         "Female",
         "26",
         "Primary",
         "Programmer",
         "9600"
        ],
        [
         "41",
         "Miranda",
         "West",
         "Female",
         "20",
         "Primary",
         "Carpenter",
         "9579"
        ],
        [
         "42",
         "Audrey",
         "Higgins",
         "Female",
         "21",
         "Primary",
         "Engineer",
         "1439"
        ],
        [
         "43",
         "Chelsea",
         "Phillips",
         "Female",
         "27",
         "Bachelor",
         "Driver",
         "7977"
        ],
        [
         "44",
         "Sophia",
         "Dixon",
         "Female",
         "21",
         "Bachelor",
         "Interior Designer",
         "2393"
        ],
        [
         "45",
         "Amanda",
         "Casey",
         "Female",
         "24",
         "Bachelor",
         "Lawer",
         "6850"
        ],
        [
         "46",
         "David",
         "Spencer",
         "Male",
         "18",
         "Lower secondary",
         "Architect",
         "1437"
        ],
        [
         "47",
         "Jared",
         "Cunningham",
         "Male",
         "25",
         "Primary",
         "Astronomer",
         "5535"
        ],
        [
         "48",
         "Aida",
         "Barrett",
         "Female",
         "20",
         "Upper secondary",
         "Producer",
         "4766"
        ],
        [
         "49",
         "Henry",
         "Cameron",
         "Male",
         "27",
         "Primary",
         "Architect",
         "892"
        ]
       ],
       "shape": {
        "columns": 7,
        "rows": 100
       }
      },
      "text/html": [
       "<div>\n",
       "<style scoped>\n",
       "    .dataframe tbody tr th:only-of-type {\n",
       "        vertical-align: middle;\n",
       "    }\n",
       "\n",
       "    .dataframe tbody tr th {\n",
       "        vertical-align: top;\n",
       "    }\n",
       "\n",
       "    .dataframe thead th {\n",
       "        text-align: right;\n",
       "    }\n",
       "</style>\n",
       "<table border=\"1\" class=\"dataframe\">\n",
       "  <thead>\n",
       "    <tr style=\"text-align: right;\">\n",
       "      <th></th>\n",
       "      <th>First Name</th>\n",
       "      <th>Last Name</th>\n",
       "      <th>Gender</th>\n",
       "      <th>Age</th>\n",
       "      <th>Education</th>\n",
       "      <th>Occupation</th>\n",
       "      <th>Salary</th>\n",
       "    </tr>\n",
       "  </thead>\n",
       "  <tbody>\n",
       "    <tr>\n",
       "      <th>0</th>\n",
       "      <td>Adrianna</td>\n",
       "      <td>Cunningham</td>\n",
       "      <td>Female</td>\n",
       "      <td>21</td>\n",
       "      <td>Primary</td>\n",
       "      <td>Social Worker</td>\n",
       "      <td>856</td>\n",
       "    </tr>\n",
       "    <tr>\n",
       "      <th>1</th>\n",
       "      <td>Preston</td>\n",
       "      <td>Cole</td>\n",
       "      <td>Male</td>\n",
       "      <td>26</td>\n",
       "      <td>Bachelor</td>\n",
       "      <td>Interpreter</td>\n",
       "      <td>2326</td>\n",
       "    </tr>\n",
       "    <tr>\n",
       "      <th>2</th>\n",
       "      <td>Emma</td>\n",
       "      <td>Elliott</td>\n",
       "      <td>Female</td>\n",
       "      <td>29</td>\n",
       "      <td>Primary</td>\n",
       "      <td>Meteorologist</td>\n",
       "      <td>3814</td>\n",
       "    </tr>\n",
       "    <tr>\n",
       "      <th>3</th>\n",
       "      <td>Eddy</td>\n",
       "      <td>Dixon</td>\n",
       "      <td>Male</td>\n",
       "      <td>26</td>\n",
       "      <td>Primary</td>\n",
       "      <td>Graphic Designer</td>\n",
       "      <td>6573</td>\n",
       "    </tr>\n",
       "    <tr>\n",
       "      <th>4</th>\n",
       "      <td>Amber</td>\n",
       "      <td>West</td>\n",
       "      <td>Female</td>\n",
       "      <td>25</td>\n",
       "      <td>Bachelor</td>\n",
       "      <td>Dancer</td>\n",
       "      <td>7436</td>\n",
       "    </tr>\n",
       "    <tr>\n",
       "      <th>...</th>\n",
       "      <td>...</td>\n",
       "      <td>...</td>\n",
       "      <td>...</td>\n",
       "      <td>...</td>\n",
       "      <td>...</td>\n",
       "      <td>...</td>\n",
       "      <td>...</td>\n",
       "    </tr>\n",
       "    <tr>\n",
       "      <th>95</th>\n",
       "      <td>Rubie</td>\n",
       "      <td>Morgan</td>\n",
       "      <td>Female</td>\n",
       "      <td>26</td>\n",
       "      <td>Doctoral</td>\n",
       "      <td>Interior Designer</td>\n",
       "      <td>9745</td>\n",
       "    </tr>\n",
       "    <tr>\n",
       "      <th>96</th>\n",
       "      <td>Joyce</td>\n",
       "      <td>Ellis</td>\n",
       "      <td>Female</td>\n",
       "      <td>21</td>\n",
       "      <td>Lower secondary</td>\n",
       "      <td>Mathematician</td>\n",
       "      <td>7344</td>\n",
       "    </tr>\n",
       "    <tr>\n",
       "      <th>97</th>\n",
       "      <td>Ted</td>\n",
       "      <td>Richards</td>\n",
       "      <td>Male</td>\n",
       "      <td>22</td>\n",
       "      <td>Doctoral</td>\n",
       "      <td>Police Officer</td>\n",
       "      <td>8560</td>\n",
       "    </tr>\n",
       "    <tr>\n",
       "      <th>98</th>\n",
       "      <td>Daisy</td>\n",
       "      <td>Holmes</td>\n",
       "      <td>Female</td>\n",
       "      <td>29</td>\n",
       "      <td>Lower secondary</td>\n",
       "      <td>Interior Designer</td>\n",
       "      <td>5724</td>\n",
       "    </tr>\n",
       "    <tr>\n",
       "      <th>99</th>\n",
       "      <td>John</td>\n",
       "      <td>Phillips</td>\n",
       "      <td>Male</td>\n",
       "      <td>22</td>\n",
       "      <td>Doctoral</td>\n",
       "      <td>Meteorologist</td>\n",
       "      <td>3810</td>\n",
       "    </tr>\n",
       "  </tbody>\n",
       "</table>\n",
       "<p>100 rows × 7 columns</p>\n",
       "</div>"
      ],
      "text/plain": [
       "   First Name   Last Name  Gender  Age        Education         Occupation  \\\n",
       "0    Adrianna  Cunningham  Female   21          Primary      Social Worker   \n",
       "1     Preston        Cole    Male   26         Bachelor        Interpreter   \n",
       "2        Emma     Elliott  Female   29          Primary      Meteorologist   \n",
       "3        Eddy       Dixon    Male   26          Primary   Graphic Designer   \n",
       "4       Amber        West  Female   25         Bachelor             Dancer   \n",
       "..        ...         ...     ...  ...              ...                ...   \n",
       "95      Rubie      Morgan  Female   26         Doctoral  Interior Designer   \n",
       "96      Joyce       Ellis  Female   21  Lower secondary      Mathematician   \n",
       "97        Ted    Richards    Male   22         Doctoral     Police Officer   \n",
       "98      Daisy      Holmes  Female   29  Lower secondary  Interior Designer   \n",
       "99       John    Phillips    Male   22         Doctoral      Meteorologist   \n",
       "\n",
       "    Salary  \n",
       "0      856  \n",
       "1     2326  \n",
       "2     3814  \n",
       "3     6573  \n",
       "4     7436  \n",
       "..     ...  \n",
       "95    9745  \n",
       "96    7344  \n",
       "97    8560  \n",
       "98    5724  \n",
       "99    3810  \n",
       "\n",
       "[100 rows x 7 columns]"
      ]
     },
     "execution_count": 6,
     "metadata": {},
     "output_type": "execute_result"
    }
   ],
   "source": [
    "# remove a column ID\n",
    "df.drop(['ID'],axis=1)"
   ]
  },
  {
   "cell_type": "code",
   "execution_count": 7,
   "metadata": {},
   "outputs": [
    {
     "data": {
      "text/plain": [
       "Index(['First Name', 'Last Name', 'Gender', 'Age', 'Education', 'Occupation',\n",
       "       'Salary', 'ID'],\n",
       "      dtype='object')"
      ]
     },
     "execution_count": 7,
     "metadata": {},
     "output_type": "execute_result"
    }
   ],
   "source": [
    "df.columns"
   ]
  },
  {
   "cell_type": "code",
   "execution_count": 8,
   "metadata": {},
   "outputs": [
    {
     "data": {
      "text/plain": [
       "False"
      ]
     },
     "execution_count": 8,
     "metadata": {},
     "output_type": "execute_result"
    }
   ],
   "source": [
    "# check if the values are unique\n",
    "df['ID'].is_unique"
   ]
  },
  {
   "cell_type": "code",
   "execution_count": 9,
   "metadata": {},
   "outputs": [
    {
     "data": {
      "application/vnd.microsoft.datawrangler.viewer.v0+json": {
       "columns": [
        {
         "name": "ID",
         "rawType": "int64",
         "type": "integer"
        },
        {
         "name": "First Name",
         "rawType": "object",
         "type": "string"
        },
        {
         "name": "Last Name",
         "rawType": "object",
         "type": "string"
        },
        {
         "name": "Gender",
         "rawType": "object",
         "type": "string"
        },
        {
         "name": "Age",
         "rawType": "int64",
         "type": "integer"
        },
        {
         "name": "Education",
         "rawType": "object",
         "type": "string"
        },
        {
         "name": "Occupation",
         "rawType": "object",
         "type": "string"
        },
        {
         "name": "Salary",
         "rawType": "int64",
         "type": "integer"
        }
       ],
       "conversionMethod": "pd.DataFrame",
       "ref": "f26eeb29-c68d-48d6-85b7-c82ee11c83c2",
       "rows": [
        [
         "2460",
         "Adrianna",
         "Cunningham",
         "Female",
         "21",
         "Primary",
         "Social Worker",
         "856"
        ],
        [
         "2924",
         "Preston",
         "Cole",
         "Male",
         "26",
         "Bachelor",
         "Interpreter",
         "2326"
        ],
        [
         "7283",
         "Emma",
         "Elliott",
         "Female",
         "29",
         "Primary",
         "Meteorologist",
         "3814"
        ],
        [
         "5933",
         "Eddy",
         "Dixon",
         "Male",
         "26",
         "Primary",
         "Graphic Designer",
         "6573"
        ],
        [
         "7877",
         "Amber",
         "West",
         "Female",
         "25",
         "Bachelor",
         "Dancer",
         "7436"
        ]
       ],
       "shape": {
        "columns": 7,
        "rows": 5
       }
      },
      "text/html": [
       "<div>\n",
       "<style scoped>\n",
       "    .dataframe tbody tr th:only-of-type {\n",
       "        vertical-align: middle;\n",
       "    }\n",
       "\n",
       "    .dataframe tbody tr th {\n",
       "        vertical-align: top;\n",
       "    }\n",
       "\n",
       "    .dataframe thead th {\n",
       "        text-align: right;\n",
       "    }\n",
       "</style>\n",
       "<table border=\"1\" class=\"dataframe\">\n",
       "  <thead>\n",
       "    <tr style=\"text-align: right;\">\n",
       "      <th></th>\n",
       "      <th>First Name</th>\n",
       "      <th>Last Name</th>\n",
       "      <th>Gender</th>\n",
       "      <th>Age</th>\n",
       "      <th>Education</th>\n",
       "      <th>Occupation</th>\n",
       "      <th>Salary</th>\n",
       "    </tr>\n",
       "    <tr>\n",
       "      <th>ID</th>\n",
       "      <th></th>\n",
       "      <th></th>\n",
       "      <th></th>\n",
       "      <th></th>\n",
       "      <th></th>\n",
       "      <th></th>\n",
       "      <th></th>\n",
       "    </tr>\n",
       "  </thead>\n",
       "  <tbody>\n",
       "    <tr>\n",
       "      <th>2460</th>\n",
       "      <td>Adrianna</td>\n",
       "      <td>Cunningham</td>\n",
       "      <td>Female</td>\n",
       "      <td>21</td>\n",
       "      <td>Primary</td>\n",
       "      <td>Social Worker</td>\n",
       "      <td>856</td>\n",
       "    </tr>\n",
       "    <tr>\n",
       "      <th>2924</th>\n",
       "      <td>Preston</td>\n",
       "      <td>Cole</td>\n",
       "      <td>Male</td>\n",
       "      <td>26</td>\n",
       "      <td>Bachelor</td>\n",
       "      <td>Interpreter</td>\n",
       "      <td>2326</td>\n",
       "    </tr>\n",
       "    <tr>\n",
       "      <th>7283</th>\n",
       "      <td>Emma</td>\n",
       "      <td>Elliott</td>\n",
       "      <td>Female</td>\n",
       "      <td>29</td>\n",
       "      <td>Primary</td>\n",
       "      <td>Meteorologist</td>\n",
       "      <td>3814</td>\n",
       "    </tr>\n",
       "    <tr>\n",
       "      <th>5933</th>\n",
       "      <td>Eddy</td>\n",
       "      <td>Dixon</td>\n",
       "      <td>Male</td>\n",
       "      <td>26</td>\n",
       "      <td>Primary</td>\n",
       "      <td>Graphic Designer</td>\n",
       "      <td>6573</td>\n",
       "    </tr>\n",
       "    <tr>\n",
       "      <th>7877</th>\n",
       "      <td>Amber</td>\n",
       "      <td>West</td>\n",
       "      <td>Female</td>\n",
       "      <td>25</td>\n",
       "      <td>Bachelor</td>\n",
       "      <td>Dancer</td>\n",
       "      <td>7436</td>\n",
       "    </tr>\n",
       "  </tbody>\n",
       "</table>\n",
       "</div>"
      ],
      "text/plain": [
       "     First Name   Last Name  Gender  Age Education        Occupation  Salary\n",
       "ID                                                                          \n",
       "2460   Adrianna  Cunningham  Female   21   Primary     Social Worker     856\n",
       "2924    Preston        Cole    Male   26  Bachelor       Interpreter    2326\n",
       "7283       Emma     Elliott  Female   29   Primary     Meteorologist    3814\n",
       "5933       Eddy       Dixon    Male   26   Primary  Graphic Designer    6573\n",
       "7877      Amber        West  Female   25  Bachelor            Dancer    7436"
      ]
     },
     "execution_count": 9,
     "metadata": {},
     "output_type": "execute_result"
    }
   ],
   "source": [
    "# set the index to the ID column\n",
    "df = df.set_index('ID')\n",
    "df.head()"
   ]
  },
  {
   "cell_type": "code",
   "execution_count": 10,
   "metadata": {},
   "outputs": [
    {
     "data": {
      "text/plain": [
       "First Name    0\n",
       "Last Name     0\n",
       "Gender        0\n",
       "Age           0\n",
       "Education     0\n",
       "Occupation    0\n",
       "Salary        0\n",
       "dtype: int64"
      ]
     },
     "execution_count": 10,
     "metadata": {},
     "output_type": "execute_result"
    }
   ],
   "source": [
    "# check the missing values\n",
    "# df.isna().sum()\n",
    "# df.isnull()\n",
    "df.isnull().sum()"
   ]
  },
  {
   "cell_type": "code",
   "execution_count": 11,
   "metadata": {},
   "outputs": [
    {
     "data": {
      "application/vnd.microsoft.datawrangler.viewer.v0+json": {
       "columns": [
        {
         "name": "ID",
         "rawType": "int64",
         "type": "integer"
        },
        {
         "name": "First Name",
         "rawType": "object",
         "type": "string"
        },
        {
         "name": "Last Name",
         "rawType": "object",
         "type": "string"
        },
        {
         "name": "Gender",
         "rawType": "object",
         "type": "string"
        },
        {
         "name": "Age",
         "rawType": "int64",
         "type": "integer"
        },
        {
         "name": "Education",
         "rawType": "object",
         "type": "string"
        },
        {
         "name": "Occupation",
         "rawType": "object",
         "type": "string"
        },
        {
         "name": "Salary",
         "rawType": "int64",
         "type": "integer"
        }
       ],
       "conversionMethod": "pd.DataFrame",
       "ref": "fa6d7bcd-9d9b-4aaa-a83c-cf8f10cb4e4b",
       "rows": [],
       "shape": {
        "columns": 7,
        "rows": 0
       }
      },
      "text/html": [
       "<div>\n",
       "<style scoped>\n",
       "    .dataframe tbody tr th:only-of-type {\n",
       "        vertical-align: middle;\n",
       "    }\n",
       "\n",
       "    .dataframe tbody tr th {\n",
       "        vertical-align: top;\n",
       "    }\n",
       "\n",
       "    .dataframe thead th {\n",
       "        text-align: right;\n",
       "    }\n",
       "</style>\n",
       "<table border=\"1\" class=\"dataframe\">\n",
       "  <thead>\n",
       "    <tr style=\"text-align: right;\">\n",
       "      <th></th>\n",
       "      <th>First Name</th>\n",
       "      <th>Last Name</th>\n",
       "      <th>Gender</th>\n",
       "      <th>Age</th>\n",
       "      <th>Education</th>\n",
       "      <th>Occupation</th>\n",
       "      <th>Salary</th>\n",
       "    </tr>\n",
       "    <tr>\n",
       "      <th>ID</th>\n",
       "      <th></th>\n",
       "      <th></th>\n",
       "      <th></th>\n",
       "      <th></th>\n",
       "      <th></th>\n",
       "      <th></th>\n",
       "      <th></th>\n",
       "    </tr>\n",
       "  </thead>\n",
       "  <tbody>\n",
       "  </tbody>\n",
       "</table>\n",
       "</div>"
      ],
      "text/plain": [
       "Empty DataFrame\n",
       "Columns: [First Name, Last Name, Gender, Age, Education, Occupation, Salary]\n",
       "Index: []"
      ]
     },
     "execution_count": 11,
     "metadata": {},
     "output_type": "execute_result"
    }
   ],
   "source": [
    "# check the rows containing the missing values\n",
    "df[df['Age'].isna()]"
   ]
  },
  {
   "cell_type": "code",
   "execution_count": 12,
   "metadata": {},
   "outputs": [],
   "source": [
    "# dropping the rows containing missing values\n",
    "df1 = df.dropna()"
   ]
  },
  {
   "cell_type": "code",
   "execution_count": 13,
   "metadata": {},
   "outputs": [
    {
     "name": "stdout",
     "output_type": "stream",
     "text": [
      "<class 'pandas.core.frame.DataFrame'>\n",
      "Index: 100 entries, 2460 to 3662\n",
      "Data columns (total 7 columns):\n",
      " #   Column      Non-Null Count  Dtype \n",
      "---  ------      --------------  ----- \n",
      " 0   First Name  100 non-null    object\n",
      " 1   Last Name   100 non-null    object\n",
      " 2   Gender      100 non-null    object\n",
      " 3   Age         100 non-null    int64 \n",
      " 4   Education   100 non-null    object\n",
      " 5   Occupation  100 non-null    object\n",
      " 6   Salary      100 non-null    int64 \n",
      "dtypes: int64(2), object(5)\n",
      "memory usage: 6.2+ KB\n"
     ]
    }
   ],
   "source": [
    "df1.info()"
   ]
  },
  {
   "cell_type": "code",
   "execution_count": 14,
   "metadata": {},
   "outputs": [
    {
     "data": {
      "text/plain": [
       "ID\n",
       "2460    21\n",
       "2924    26\n",
       "7283    29\n",
       "5933    26\n",
       "7877    25\n",
       "        ..\n",
       "7985    26\n",
       "2209    21\n",
       "9223    22\n",
       "5909    29\n",
       "3662    22\n",
       "Name: Age, Length: 100, dtype: int64"
      ]
     },
     "execution_count": 14,
     "metadata": {},
     "output_type": "execute_result"
    }
   ],
   "source": [
    "df['Age']"
   ]
  },
  {
   "cell_type": "code",
   "execution_count": 15,
   "metadata": {},
   "outputs": [],
   "source": [
    "# filing the empty cells with the average age\n",
    "df['Age'] = df['Age'].fillna(df['Age'].mean())\n",
    "# df['Age'] = df['Age'].fillna(30)\n",
    "# df['Age'].mean()"
   ]
  },
  {
   "cell_type": "code",
   "execution_count": 16,
   "metadata": {},
   "outputs": [
    {
     "name": "stdout",
     "output_type": "stream",
     "text": [
      "<class 'pandas.core.frame.DataFrame'>\n",
      "Index: 100 entries, 2460 to 3662\n",
      "Data columns (total 7 columns):\n",
      " #   Column      Non-Null Count  Dtype \n",
      "---  ------      --------------  ----- \n",
      " 0   First Name  100 non-null    object\n",
      " 1   Last Name   100 non-null    object\n",
      " 2   Gender      100 non-null    object\n",
      " 3   Age         100 non-null    int64 \n",
      " 4   Education   100 non-null    object\n",
      " 5   Occupation  100 non-null    object\n",
      " 6   Salary      100 non-null    int64 \n",
      "dtypes: int64(2), object(5)\n",
      "memory usage: 6.2+ KB\n"
     ]
    }
   ],
   "source": [
    "df.info()"
   ]
  },
  {
   "cell_type": "code",
   "execution_count": 17,
   "metadata": {},
   "outputs": [],
   "source": [
    "# Converting to integer datatype\n",
    "df['Age'] = df['Age'].astype('int')\n",
    "# df['Age'].dtype"
   ]
  },
  {
   "cell_type": "code",
   "execution_count": 27,
   "metadata": {},
   "outputs": [],
   "source": [
    "# convert DOB to datetime datatype\n",
    "df['Age'] = pd.to_datetime(df['Age'])"
   ]
  },
  {
   "cell_type": "code",
   "execution_count": 18,
   "metadata": {},
   "outputs": [
    {
     "name": "stdout",
     "output_type": "stream",
     "text": [
      "<class 'pandas.core.frame.DataFrame'>\n",
      "Index: 100 entries, 2460 to 3662\n",
      "Data columns (total 7 columns):\n",
      " #   Column      Non-Null Count  Dtype \n",
      "---  ------      --------------  ----- \n",
      " 0   First Name  100 non-null    object\n",
      " 1   Last Name   100 non-null    object\n",
      " 2   Gender      100 non-null    object\n",
      " 3   Age         100 non-null    int64 \n",
      " 4   Education   100 non-null    object\n",
      " 5   Occupation  100 non-null    object\n",
      " 6   Salary      100 non-null    int64 \n",
      "dtypes: int64(2), object(5)\n",
      "memory usage: 6.2+ KB\n"
     ]
    }
   ],
   "source": [
    "df.info()"
   ]
  },
  {
   "cell_type": "code",
   "execution_count": 19,
   "metadata": {},
   "outputs": [
    {
     "data": {
      "application/vnd.microsoft.datawrangler.viewer.v0+json": {
       "columns": [
        {
         "name": "ID",
         "rawType": "int64",
         "type": "integer"
        },
        {
         "name": "First Name",
         "rawType": "object",
         "type": "string"
        },
        {
         "name": "Last Name",
         "rawType": "object",
         "type": "string"
        },
        {
         "name": "Gender",
         "rawType": "object",
         "type": "string"
        },
        {
         "name": "Age",
         "rawType": "int64",
         "type": "integer"
        },
        {
         "name": "Education",
         "rawType": "object",
         "type": "string"
        },
        {
         "name": "Occupation",
         "rawType": "object",
         "type": "string"
        },
        {
         "name": "Salary",
         "rawType": "int64",
         "type": "integer"
        }
       ],
       "conversionMethod": "pd.DataFrame",
       "ref": "b2d56b3e-f59a-4031-b839-dbc0eb0e7e1b",
       "rows": [
        [
         "2460",
         "Adrianna",
         "Cunningham",
         "Female",
         "21",
         "Primary",
         "Social Worker",
         "856"
        ],
        [
         "2924",
         "Preston",
         "Cole",
         "Male",
         "26",
         "Bachelor",
         "Interpreter",
         "2326"
        ],
        [
         "7283",
         "Emma",
         "Elliott",
         "Female",
         "29",
         "Primary",
         "Meteorologist",
         "3814"
        ],
        [
         "5933",
         "Eddy",
         "Dixon",
         "Male",
         "26",
         "Primary",
         "Graphic Designer",
         "6573"
        ],
        [
         "7877",
         "Amber",
         "West",
         "Female",
         "25",
         "Bachelor",
         "Dancer",
         "7436"
        ]
       ],
       "shape": {
        "columns": 7,
        "rows": 5
       }
      },
      "text/html": [
       "<div>\n",
       "<style scoped>\n",
       "    .dataframe tbody tr th:only-of-type {\n",
       "        vertical-align: middle;\n",
       "    }\n",
       "\n",
       "    .dataframe tbody tr th {\n",
       "        vertical-align: top;\n",
       "    }\n",
       "\n",
       "    .dataframe thead th {\n",
       "        text-align: right;\n",
       "    }\n",
       "</style>\n",
       "<table border=\"1\" class=\"dataframe\">\n",
       "  <thead>\n",
       "    <tr style=\"text-align: right;\">\n",
       "      <th></th>\n",
       "      <th>First Name</th>\n",
       "      <th>Last Name</th>\n",
       "      <th>Gender</th>\n",
       "      <th>Age</th>\n",
       "      <th>Education</th>\n",
       "      <th>Occupation</th>\n",
       "      <th>Salary</th>\n",
       "    </tr>\n",
       "    <tr>\n",
       "      <th>ID</th>\n",
       "      <th></th>\n",
       "      <th></th>\n",
       "      <th></th>\n",
       "      <th></th>\n",
       "      <th></th>\n",
       "      <th></th>\n",
       "      <th></th>\n",
       "    </tr>\n",
       "  </thead>\n",
       "  <tbody>\n",
       "    <tr>\n",
       "      <th>2460</th>\n",
       "      <td>Adrianna</td>\n",
       "      <td>Cunningham</td>\n",
       "      <td>Female</td>\n",
       "      <td>21</td>\n",
       "      <td>Primary</td>\n",
       "      <td>Social Worker</td>\n",
       "      <td>856</td>\n",
       "    </tr>\n",
       "    <tr>\n",
       "      <th>2924</th>\n",
       "      <td>Preston</td>\n",
       "      <td>Cole</td>\n",
       "      <td>Male</td>\n",
       "      <td>26</td>\n",
       "      <td>Bachelor</td>\n",
       "      <td>Interpreter</td>\n",
       "      <td>2326</td>\n",
       "    </tr>\n",
       "    <tr>\n",
       "      <th>7283</th>\n",
       "      <td>Emma</td>\n",
       "      <td>Elliott</td>\n",
       "      <td>Female</td>\n",
       "      <td>29</td>\n",
       "      <td>Primary</td>\n",
       "      <td>Meteorologist</td>\n",
       "      <td>3814</td>\n",
       "    </tr>\n",
       "    <tr>\n",
       "      <th>5933</th>\n",
       "      <td>Eddy</td>\n",
       "      <td>Dixon</td>\n",
       "      <td>Male</td>\n",
       "      <td>26</td>\n",
       "      <td>Primary</td>\n",
       "      <td>Graphic Designer</td>\n",
       "      <td>6573</td>\n",
       "    </tr>\n",
       "    <tr>\n",
       "      <th>7877</th>\n",
       "      <td>Amber</td>\n",
       "      <td>West</td>\n",
       "      <td>Female</td>\n",
       "      <td>25</td>\n",
       "      <td>Bachelor</td>\n",
       "      <td>Dancer</td>\n",
       "      <td>7436</td>\n",
       "    </tr>\n",
       "  </tbody>\n",
       "</table>\n",
       "</div>"
      ],
      "text/plain": [
       "     First Name   Last Name  Gender  Age Education        Occupation  Salary\n",
       "ID                                                                          \n",
       "2460   Adrianna  Cunningham  Female   21   Primary     Social Worker     856\n",
       "2924    Preston        Cole    Male   26  Bachelor       Interpreter    2326\n",
       "7283       Emma     Elliott  Female   29   Primary     Meteorologist    3814\n",
       "5933       Eddy       Dixon    Male   26   Primary  Graphic Designer    6573\n",
       "7877      Amber        West  Female   25  Bachelor            Dancer    7436"
      ]
     },
     "execution_count": 19,
     "metadata": {},
     "output_type": "execute_result"
    }
   ],
   "source": [
    "# recheck the DOB column\n",
    "df.head()"
   ]
  },
  {
   "cell_type": "code",
   "execution_count": 20,
   "metadata": {},
   "outputs": [
    {
     "data": {
      "text/plain": [
       "Gender\n",
       "Male      51\n",
       "Female    49\n",
       "Name: count, dtype: int64"
      ]
     },
     "execution_count": 20,
     "metadata": {},
     "output_type": "execute_result"
    }
   ],
   "source": [
    "# count the different values in a series (column)\n",
    "df['Gender'].value_counts()"
   ]
  },
  {
   "cell_type": "code",
   "execution_count": 21,
   "metadata": {},
   "outputs": [],
   "source": [
    "# using replace method\n",
    "df['Gender'] = df['Gender'].replace('Mile','Male')"
   ]
  },
  {
   "cell_type": "code",
   "execution_count": 22,
   "metadata": {},
   "outputs": [],
   "source": [
    "# converting to category datatype\n",
    "df['Gender'] = df['Gender'].astype('category')"
   ]
  },
  {
   "cell_type": "code",
   "execution_count": 23,
   "metadata": {},
   "outputs": [
    {
     "data": {
      "text/plain": [
       "CategoricalDtype(categories=['Female', 'Male'], ordered=False, categories_dtype=object)"
      ]
     },
     "execution_count": 23,
     "metadata": {},
     "output_type": "execute_result"
    }
   ],
   "source": [
    "df['Gender'].dtype"
   ]
  },
  {
   "cell_type": "code",
   "execution_count": 24,
   "metadata": {},
   "outputs": [
    {
     "name": "stdout",
     "output_type": "stream",
     "text": [
      "<class 'pandas.core.frame.DataFrame'>\n",
      "Index: 100 entries, 2460 to 3662\n",
      "Data columns (total 7 columns):\n",
      " #   Column      Non-Null Count  Dtype   \n",
      "---  ------      --------------  -----   \n",
      " 0   First Name  100 non-null    object  \n",
      " 1   Last Name   100 non-null    object  \n",
      " 2   Gender      100 non-null    category\n",
      " 3   Age         100 non-null    int64   \n",
      " 4   Education   100 non-null    object  \n",
      " 5   Occupation  100 non-null    object  \n",
      " 6   Salary      100 non-null    int64   \n",
      "dtypes: category(1), int64(2), object(4)\n",
      "memory usage: 5.7+ KB\n"
     ]
    }
   ],
   "source": [
    "df.info()"
   ]
  },
  {
   "cell_type": "code",
   "execution_count": 25,
   "metadata": {},
   "outputs": [],
   "source": [
    "# dropping two columns\n",
    "df = df.drop(columns=['Education','Occupation'])"
   ]
  },
  {
   "cell_type": "code",
   "execution_count": 26,
   "metadata": {},
   "outputs": [
    {
     "data": {
      "text/plain": [
       "Index(['First Name', 'Last Name', 'Gender', 'Age', 'Salary'], dtype='object')"
      ]
     },
     "execution_count": 26,
     "metadata": {},
     "output_type": "execute_result"
    }
   ],
   "source": [
    "# getting the name of columns\n",
    "df.columns"
   ]
  },
  {
   "cell_type": "code",
   "execution_count": 28,
   "metadata": {},
   "outputs": [
    {
     "data": {
      "application/vnd.microsoft.datawrangler.viewer.v0+json": {
       "columns": [
        {
         "name": "ID",
         "rawType": "int64",
         "type": "integer"
        },
        {
         "name": "First Name",
         "rawType": "object",
         "type": "string"
        },
        {
         "name": "Last Name",
         "rawType": "object",
         "type": "string"
        },
        {
         "name": "Gender",
         "rawType": "category",
         "type": "unknown"
        },
        {
         "name": "Age",
         "rawType": "datetime64[ns]",
         "type": "datetime"
        },
        {
         "name": "Salary",
         "rawType": "int64",
         "type": "integer"
        }
       ],
       "conversionMethod": "pd.DataFrame",
       "ref": "9056a2e4-f59c-41e3-b1d6-d287af457a1a",
       "rows": [
        [
         "2460",
         "Adrianna",
         "Cunningham",
         "Female",
         "1970-01-01 00:00:00.000000021",
         "856"
        ],
        [
         "2924",
         "Preston",
         "Cole",
         "Male",
         "1970-01-01 00:00:00.000000026",
         "2326"
        ]
       ],
       "shape": {
        "columns": 5,
        "rows": 2
       }
      },
      "text/html": [
       "<div>\n",
       "<style scoped>\n",
       "    .dataframe tbody tr th:only-of-type {\n",
       "        vertical-align: middle;\n",
       "    }\n",
       "\n",
       "    .dataframe tbody tr th {\n",
       "        vertical-align: top;\n",
       "    }\n",
       "\n",
       "    .dataframe thead th {\n",
       "        text-align: right;\n",
       "    }\n",
       "</style>\n",
       "<table border=\"1\" class=\"dataframe\">\n",
       "  <thead>\n",
       "    <tr style=\"text-align: right;\">\n",
       "      <th></th>\n",
       "      <th>First Name</th>\n",
       "      <th>Last Name</th>\n",
       "      <th>Gender</th>\n",
       "      <th>Age</th>\n",
       "      <th>Salary</th>\n",
       "    </tr>\n",
       "    <tr>\n",
       "      <th>ID</th>\n",
       "      <th></th>\n",
       "      <th></th>\n",
       "      <th></th>\n",
       "      <th></th>\n",
       "      <th></th>\n",
       "    </tr>\n",
       "  </thead>\n",
       "  <tbody>\n",
       "    <tr>\n",
       "      <th>2460</th>\n",
       "      <td>Adrianna</td>\n",
       "      <td>Cunningham</td>\n",
       "      <td>Female</td>\n",
       "      <td>1970-01-01 00:00:00.000000021</td>\n",
       "      <td>856</td>\n",
       "    </tr>\n",
       "    <tr>\n",
       "      <th>2924</th>\n",
       "      <td>Preston</td>\n",
       "      <td>Cole</td>\n",
       "      <td>Male</td>\n",
       "      <td>1970-01-01 00:00:00.000000026</td>\n",
       "      <td>2326</td>\n",
       "    </tr>\n",
       "  </tbody>\n",
       "</table>\n",
       "</div>"
      ],
      "text/plain": [
       "     First Name   Last Name  Gender                           Age  Salary\n",
       "ID                                                                       \n",
       "2460   Adrianna  Cunningham  Female 1970-01-01 00:00:00.000000021     856\n",
       "2924    Preston        Cole    Male 1970-01-01 00:00:00.000000026    2326"
      ]
     },
     "execution_count": 28,
     "metadata": {},
     "output_type": "execute_result"
    }
   ],
   "source": [
    "df.head(2)"
   ]
  },
  {
   "cell_type": "code",
   "execution_count": 49,
   "metadata": {},
   "outputs": [
    {
     "data": {
      "text/plain": [
       "First Name                         Adrianna\n",
       "Last Name                        Cunningham\n",
       "Gender                               Female\n",
       "Age           1970-01-01 00:00:00.000000021\n",
       "Salary                                  856\n",
       "Name: 2460, dtype: object"
      ]
     },
     "execution_count": 49,
     "metadata": {},
     "output_type": "execute_result"
    }
   ],
   "source": [
    "# using loc to locate rows\n",
    "# Select * From Small Where ID='2460'\n",
    "# Select Salary from small where ID='2460'\n",
    "# df.loc[2460]\n",
    "# df.loc[df['Gender']=='Male']\n",
    "df.loc[2460]\n",
    "# df.loc[2460,'Salary']\n",
    "# df.loc[1000:1009, 'Salary']"
   ]
  },
  {
   "cell_type": "code",
   "execution_count": null,
   "metadata": {},
   "outputs": [],
   "source": [
    "# using iloc for unlabeled index\n",
    "df.iloc[0:5]"
   ]
  },
  {
   "cell_type": "code",
   "execution_count": null,
   "metadata": {},
   "outputs": [],
   "source": [
    "# using at to locate specific values like salary\n",
    "df.at[1007, 'Salary']"
   ]
  }
 ],
 "metadata": {
  "kernelspec": {
   "display_name": "venv",
   "language": "python",
   "name": "python3"
  },
  "language_info": {
   "codemirror_mode": {
    "name": "ipython",
    "version": 3
   },
   "file_extension": ".py",
   "mimetype": "text/x-python",
   "name": "python",
   "nbconvert_exporter": "python",
   "pygments_lexer": "ipython3",
   "version": "3.13.2"
  }
 },
 "nbformat": 4,
 "nbformat_minor": 2
}
