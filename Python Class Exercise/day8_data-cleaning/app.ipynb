{
 "cells": [
  {
   "cell_type": "code",
   "execution_count": 2,
   "metadata": {},
   "outputs": [],
   "source": [
    "import pandas as pd"
   ]
  },
  {
   "cell_type": "code",
   "execution_count": 8,
   "metadata": {},
   "outputs": [],
   "source": [
    "df = pd.read_csv('data/MessiRonaldo.csv')"
   ]
  },
  {
   "cell_type": "code",
   "execution_count": 9,
   "metadata": {},
   "outputs": [
    {
     "data": {
      "application/vnd.microsoft.datawrangler.viewer.v0+json": {
       "columns": [
        {
         "name": "index",
         "rawType": "object",
         "type": "string"
        },
        {
         "name": "Liga_Goals",
         "rawType": "float64",
         "type": "float"
        },
        {
         "name": "Liga_Asts",
         "rawType": "float64",
         "type": "float"
        },
        {
         "name": "Liga_Aps",
         "rawType": "float64",
         "type": "float"
        },
        {
         "name": "Liga_Mins",
         "rawType": "float64",
         "type": "float"
        },
        {
         "name": "CL_Goals",
         "rawType": "float64",
         "type": "float"
        },
        {
         "name": "CL_Asts",
         "rawType": "float64",
         "type": "float"
        },
        {
         "name": "CL_Aps",
         "rawType": "float64",
         "type": "float"
        },
        {
         "name": "CL_Mins",
         "rawType": "float64",
         "type": "float"
        }
       ],
       "conversionMethod": "pd.DataFrame",
       "ref": "f65bb8d1-d274-4956-a2a2-eb551c18f3ad",
       "rows": [
        [
         "count",
         "18.0",
         "18.0",
         "18.0",
         "18.0",
         "18.0",
         "18.0",
         "18.0",
         "18.0"
        ],
        [
         "mean",
         "35.55555555555556",
         "13.055555555555555",
         "33.388888888888886",
         "2840.8333333333335",
         "10.444444444444445",
         "3.388888888888889",
         "10.722222222222221",
         "936.7777777777778"
        ],
        [
         "std",
         "8.226372384859507",
         "4.491458851462305",
         "3.2018172944326637",
         "321.28917705723865",
         "3.4678730932445716",
         "2.2265480771520028",
         "2.1910393868598623",
         "208.34122338000498"
        ],
        [
         "min",
         "25.0",
         "5.0",
         "27.0",
         "2297.0",
         "6.0",
         "0.0",
         "6.0",
         "450.0"
        ],
        [
         "25%",
         "28.75",
         "11.0",
         "31.25",
         "2565.25",
         "8.0",
         "2.0",
         "10.0",
         "814.25"
        ],
        [
         "50%",
         "34.0",
         "12.5",
         "34.0",
         "2836.5",
         "10.0",
         "3.5",
         "11.0",
         "990.5"
        ],
        [
         "75%",
         "42.25",
         "15.5",
         "35.75",
         "3071.0",
         "12.0",
         "4.0",
         "12.0",
         "1076.0"
        ],
        [
         "max",
         "50.0",
         "21.0",
         "38.0",
         "3375.0",
         "17.0",
         "9.0",
         "13.0",
         "1200.0"
        ]
       ],
       "shape": {
        "columns": 8,
        "rows": 8
       }
      },
      "text/html": [
       "<div>\n",
       "<style scoped>\n",
       "    .dataframe tbody tr th:only-of-type {\n",
       "        vertical-align: middle;\n",
       "    }\n",
       "\n",
       "    .dataframe tbody tr th {\n",
       "        vertical-align: top;\n",
       "    }\n",
       "\n",
       "    .dataframe thead th {\n",
       "        text-align: right;\n",
       "    }\n",
       "</style>\n",
       "<table border=\"1\" class=\"dataframe\">\n",
       "  <thead>\n",
       "    <tr style=\"text-align: right;\">\n",
       "      <th></th>\n",
       "      <th>Liga_Goals</th>\n",
       "      <th>Liga_Asts</th>\n",
       "      <th>Liga_Aps</th>\n",
       "      <th>Liga_Mins</th>\n",
       "      <th>CL_Goals</th>\n",
       "      <th>CL_Asts</th>\n",
       "      <th>CL_Aps</th>\n",
       "      <th>CL_Mins</th>\n",
       "    </tr>\n",
       "  </thead>\n",
       "  <tbody>\n",
       "    <tr>\n",
       "      <th>count</th>\n",
       "      <td>18.000000</td>\n",
       "      <td>18.000000</td>\n",
       "      <td>18.000000</td>\n",
       "      <td>18.000000</td>\n",
       "      <td>18.000000</td>\n",
       "      <td>18.000000</td>\n",
       "      <td>18.000000</td>\n",
       "      <td>18.000000</td>\n",
       "    </tr>\n",
       "    <tr>\n",
       "      <th>mean</th>\n",
       "      <td>35.555556</td>\n",
       "      <td>13.055556</td>\n",
       "      <td>33.388889</td>\n",
       "      <td>2840.833333</td>\n",
       "      <td>10.444444</td>\n",
       "      <td>3.388889</td>\n",
       "      <td>10.722222</td>\n",
       "      <td>936.777778</td>\n",
       "    </tr>\n",
       "    <tr>\n",
       "      <th>std</th>\n",
       "      <td>8.226372</td>\n",
       "      <td>4.491459</td>\n",
       "      <td>3.201817</td>\n",
       "      <td>321.289177</td>\n",
       "      <td>3.467873</td>\n",
       "      <td>2.226548</td>\n",
       "      <td>2.191039</td>\n",
       "      <td>208.341223</td>\n",
       "    </tr>\n",
       "    <tr>\n",
       "      <th>min</th>\n",
       "      <td>25.000000</td>\n",
       "      <td>5.000000</td>\n",
       "      <td>27.000000</td>\n",
       "      <td>2297.000000</td>\n",
       "      <td>6.000000</td>\n",
       "      <td>0.000000</td>\n",
       "      <td>6.000000</td>\n",
       "      <td>450.000000</td>\n",
       "    </tr>\n",
       "    <tr>\n",
       "      <th>25%</th>\n",
       "      <td>28.750000</td>\n",
       "      <td>11.000000</td>\n",
       "      <td>31.250000</td>\n",
       "      <td>2565.250000</td>\n",
       "      <td>8.000000</td>\n",
       "      <td>2.000000</td>\n",
       "      <td>10.000000</td>\n",
       "      <td>814.250000</td>\n",
       "    </tr>\n",
       "    <tr>\n",
       "      <th>50%</th>\n",
       "      <td>34.000000</td>\n",
       "      <td>12.500000</td>\n",
       "      <td>34.000000</td>\n",
       "      <td>2836.500000</td>\n",
       "      <td>10.000000</td>\n",
       "      <td>3.500000</td>\n",
       "      <td>11.000000</td>\n",
       "      <td>990.500000</td>\n",
       "    </tr>\n",
       "    <tr>\n",
       "      <th>75%</th>\n",
       "      <td>42.250000</td>\n",
       "      <td>15.500000</td>\n",
       "      <td>35.750000</td>\n",
       "      <td>3071.000000</td>\n",
       "      <td>12.000000</td>\n",
       "      <td>4.000000</td>\n",
       "      <td>12.000000</td>\n",
       "      <td>1076.000000</td>\n",
       "    </tr>\n",
       "    <tr>\n",
       "      <th>max</th>\n",
       "      <td>50.000000</td>\n",
       "      <td>21.000000</td>\n",
       "      <td>38.000000</td>\n",
       "      <td>3375.000000</td>\n",
       "      <td>17.000000</td>\n",
       "      <td>9.000000</td>\n",
       "      <td>13.000000</td>\n",
       "      <td>1200.000000</td>\n",
       "    </tr>\n",
       "  </tbody>\n",
       "</table>\n",
       "</div>"
      ],
      "text/plain": [
       "       Liga_Goals  Liga_Asts   Liga_Aps    Liga_Mins   CL_Goals    CL_Asts  \\\n",
       "count   18.000000  18.000000  18.000000    18.000000  18.000000  18.000000   \n",
       "mean    35.555556  13.055556  33.388889  2840.833333  10.444444   3.388889   \n",
       "std      8.226372   4.491459   3.201817   321.289177   3.467873   2.226548   \n",
       "min     25.000000   5.000000  27.000000  2297.000000   6.000000   0.000000   \n",
       "25%     28.750000  11.000000  31.250000  2565.250000   8.000000   2.000000   \n",
       "50%     34.000000  12.500000  34.000000  2836.500000  10.000000   3.500000   \n",
       "75%     42.250000  15.500000  35.750000  3071.000000  12.000000   4.000000   \n",
       "max     50.000000  21.000000  38.000000  3375.000000  17.000000   9.000000   \n",
       "\n",
       "          CL_Aps      CL_Mins  \n",
       "count  18.000000    18.000000  \n",
       "mean   10.722222   936.777778  \n",
       "std     2.191039   208.341223  \n",
       "min     6.000000   450.000000  \n",
       "25%    10.000000   814.250000  \n",
       "50%    11.000000   990.500000  \n",
       "75%    12.000000  1076.000000  \n",
       "max    13.000000  1200.000000  "
      ]
     },
     "execution_count": 9,
     "metadata": {},
     "output_type": "execute_result"
    }
   ],
   "source": [
    "# df.head()\n",
    "# # df.tail()\n",
    "# df.info()   # to dispplay technical information about the dataaset\n",
    "df.describe()"
   ]
  },
  {
   "cell_type": "code",
   "execution_count": 10,
   "metadata": {},
   "outputs": [
    {
     "data": {
      "text/plain": [
       "Index(['Season', 'Player', 'Liga_Goals', 'Liga_Asts', 'Liga_Aps', 'Liga_Mins',\n",
       "       'CL_Goals', 'CL_Asts', 'CL_Aps', 'CL_Mins'],\n",
       "      dtype='object')"
      ]
     },
     "execution_count": 10,
     "metadata": {},
     "output_type": "execute_result"
    }
   ],
   "source": [
    "df.columns"
   ]
  },
  {
   "cell_type": "code",
   "execution_count": 11,
   "metadata": {},
   "outputs": [
    {
     "data": {
      "application/vnd.microsoft.datawrangler.viewer.v0+json": {
       "columns": [
        {
         "name": "index",
         "rawType": "int64",
         "type": "integer"
        },
        {
         "name": "Player",
         "rawType": "object",
         "type": "string"
        },
        {
         "name": "Liga_Goals",
         "rawType": "int64",
         "type": "integer"
        },
        {
         "name": "CL_Goals",
         "rawType": "int64",
         "type": "integer"
        }
       ],
       "conversionMethod": "pd.DataFrame",
       "ref": "90ddbfbf-7e36-4b8e-94be-808d2cdfb6f3",
       "rows": [
        [
         "0",
         "Messi",
         "34",
         "6"
        ],
        [
         "1",
         "Ronaldo",
         "26",
         "15"
        ],
        [
         "2",
         "Messi",
         "37",
         "11"
        ],
        [
         "3",
         "Ronaldo",
         "25",
         "12"
        ],
        [
         "4",
         "Messi",
         "26",
         "6"
        ]
       ],
       "shape": {
        "columns": 3,
        "rows": 5
       }
      },
      "text/html": [
       "<div>\n",
       "<style scoped>\n",
       "    .dataframe tbody tr th:only-of-type {\n",
       "        vertical-align: middle;\n",
       "    }\n",
       "\n",
       "    .dataframe tbody tr th {\n",
       "        vertical-align: top;\n",
       "    }\n",
       "\n",
       "    .dataframe thead th {\n",
       "        text-align: right;\n",
       "    }\n",
       "</style>\n",
       "<table border=\"1\" class=\"dataframe\">\n",
       "  <thead>\n",
       "    <tr style=\"text-align: right;\">\n",
       "      <th></th>\n",
       "      <th>Player</th>\n",
       "      <th>Liga_Goals</th>\n",
       "      <th>CL_Goals</th>\n",
       "    </tr>\n",
       "  </thead>\n",
       "  <tbody>\n",
       "    <tr>\n",
       "      <th>0</th>\n",
       "      <td>Messi</td>\n",
       "      <td>34</td>\n",
       "      <td>6</td>\n",
       "    </tr>\n",
       "    <tr>\n",
       "      <th>1</th>\n",
       "      <td>Ronaldo</td>\n",
       "      <td>26</td>\n",
       "      <td>15</td>\n",
       "    </tr>\n",
       "    <tr>\n",
       "      <th>2</th>\n",
       "      <td>Messi</td>\n",
       "      <td>37</td>\n",
       "      <td>11</td>\n",
       "    </tr>\n",
       "    <tr>\n",
       "      <th>3</th>\n",
       "      <td>Ronaldo</td>\n",
       "      <td>25</td>\n",
       "      <td>12</td>\n",
       "    </tr>\n",
       "    <tr>\n",
       "      <th>4</th>\n",
       "      <td>Messi</td>\n",
       "      <td>26</td>\n",
       "      <td>6</td>\n",
       "    </tr>\n",
       "  </tbody>\n",
       "</table>\n",
       "</div>"
      ],
      "text/plain": [
       "    Player  Liga_Goals  CL_Goals\n",
       "0    Messi          34         6\n",
       "1  Ronaldo          26        15\n",
       "2    Messi          37        11\n",
       "3  Ronaldo          25        12\n",
       "4    Messi          26         6"
      ]
     },
     "execution_count": 11,
     "metadata": {},
     "output_type": "execute_result"
    }
   ],
   "source": [
    "goals = df[['Player','Liga_Goals','CL_Goals']]\n",
    "goals.head()"
   ]
  },
  {
   "cell_type": "code",
   "execution_count": 16,
   "metadata": {},
   "outputs": [
    {
     "data": {
      "application/vnd.microsoft.datawrangler.viewer.v0+json": {
       "columns": [
        {
         "name": "index",
         "rawType": "int64",
         "type": "integer"
        },
        {
         "name": "Season",
         "rawType": "object",
         "type": "string"
        },
        {
         "name": "Player",
         "rawType": "object",
         "type": "string"
        },
        {
         "name": "Liga_Goals",
         "rawType": "int64",
         "type": "integer"
        },
        {
         "name": "Liga_Asts",
         "rawType": "int64",
         "type": "integer"
        },
        {
         "name": "Liga_Aps",
         "rawType": "int64",
         "type": "integer"
        },
        {
         "name": "Liga_Mins",
         "rawType": "int64",
         "type": "integer"
        },
        {
         "name": "CL_Goals",
         "rawType": "int64",
         "type": "integer"
        },
        {
         "name": "CL_Asts",
         "rawType": "int64",
         "type": "integer"
        },
        {
         "name": "CL_Aps",
         "rawType": "int64",
         "type": "integer"
        },
        {
         "name": "CL_Mins",
         "rawType": "int64",
         "type": "integer"
        }
       ],
       "conversionMethod": "pd.DataFrame",
       "ref": "047f6e29-a497-49ec-b420-5699d57f894c",
       "rows": [
        [
         "1",
         "2017-18",
         "Ronaldo",
         "26",
         "5",
         "27",
         "2297",
         "15",
         "3",
         "13",
         "1170"
        ],
        [
         "3",
         "2016-17",
         "Ronaldo",
         "25",
         "6",
         "29",
         "2544",
         "12",
         "5",
         "13",
         "1200"
        ],
        [
         "5",
         "2015-16",
         "Ronaldo",
         "35",
         "11",
         "36",
         "3184",
         "16",
         "4",
         "12",
         "1109"
        ],
        [
         "7",
         "2014-15",
         "Ronaldo",
         "48",
         "16",
         "35",
         "3096",
         "10",
         "4",
         "12",
         "1064"
        ],
        [
         "9",
         "2013-14",
         "Ronaldo",
         "31",
         "11",
         "30",
         "2537",
         "17",
         "6",
         "11",
         "991"
        ]
       ],
       "shape": {
        "columns": 10,
        "rows": 5
       }
      },
      "text/html": [
       "<div>\n",
       "<style scoped>\n",
       "    .dataframe tbody tr th:only-of-type {\n",
       "        vertical-align: middle;\n",
       "    }\n",
       "\n",
       "    .dataframe tbody tr th {\n",
       "        vertical-align: top;\n",
       "    }\n",
       "\n",
       "    .dataframe thead th {\n",
       "        text-align: right;\n",
       "    }\n",
       "</style>\n",
       "<table border=\"1\" class=\"dataframe\">\n",
       "  <thead>\n",
       "    <tr style=\"text-align: right;\">\n",
       "      <th></th>\n",
       "      <th>Season</th>\n",
       "      <th>Player</th>\n",
       "      <th>Liga_Goals</th>\n",
       "      <th>Liga_Asts</th>\n",
       "      <th>Liga_Aps</th>\n",
       "      <th>Liga_Mins</th>\n",
       "      <th>CL_Goals</th>\n",
       "      <th>CL_Asts</th>\n",
       "      <th>CL_Aps</th>\n",
       "      <th>CL_Mins</th>\n",
       "    </tr>\n",
       "  </thead>\n",
       "  <tbody>\n",
       "    <tr>\n",
       "      <th>1</th>\n",
       "      <td>2017-18</td>\n",
       "      <td>Ronaldo</td>\n",
       "      <td>26</td>\n",
       "      <td>5</td>\n",
       "      <td>27</td>\n",
       "      <td>2297</td>\n",
       "      <td>15</td>\n",
       "      <td>3</td>\n",
       "      <td>13</td>\n",
       "      <td>1170</td>\n",
       "    </tr>\n",
       "    <tr>\n",
       "      <th>3</th>\n",
       "      <td>2016-17</td>\n",
       "      <td>Ronaldo</td>\n",
       "      <td>25</td>\n",
       "      <td>6</td>\n",
       "      <td>29</td>\n",
       "      <td>2544</td>\n",
       "      <td>12</td>\n",
       "      <td>5</td>\n",
       "      <td>13</td>\n",
       "      <td>1200</td>\n",
       "    </tr>\n",
       "    <tr>\n",
       "      <th>5</th>\n",
       "      <td>2015-16</td>\n",
       "      <td>Ronaldo</td>\n",
       "      <td>35</td>\n",
       "      <td>11</td>\n",
       "      <td>36</td>\n",
       "      <td>3184</td>\n",
       "      <td>16</td>\n",
       "      <td>4</td>\n",
       "      <td>12</td>\n",
       "      <td>1109</td>\n",
       "    </tr>\n",
       "    <tr>\n",
       "      <th>7</th>\n",
       "      <td>2014-15</td>\n",
       "      <td>Ronaldo</td>\n",
       "      <td>48</td>\n",
       "      <td>16</td>\n",
       "      <td>35</td>\n",
       "      <td>3096</td>\n",
       "      <td>10</td>\n",
       "      <td>4</td>\n",
       "      <td>12</td>\n",
       "      <td>1064</td>\n",
       "    </tr>\n",
       "    <tr>\n",
       "      <th>9</th>\n",
       "      <td>2013-14</td>\n",
       "      <td>Ronaldo</td>\n",
       "      <td>31</td>\n",
       "      <td>11</td>\n",
       "      <td>30</td>\n",
       "      <td>2537</td>\n",
       "      <td>17</td>\n",
       "      <td>6</td>\n",
       "      <td>11</td>\n",
       "      <td>991</td>\n",
       "    </tr>\n",
       "  </tbody>\n",
       "</table>\n",
       "</div>"
      ],
      "text/plain": [
       "    Season   Player  Liga_Goals  Liga_Asts  Liga_Aps  Liga_Mins  CL_Goals  \\\n",
       "1  2017-18  Ronaldo          26          5        27       2297        15   \n",
       "3  2016-17  Ronaldo          25          6        29       2544        12   \n",
       "5  2015-16  Ronaldo          35         11        36       3184        16   \n",
       "7  2014-15  Ronaldo          48         16        35       3096        10   \n",
       "9  2013-14  Ronaldo          31         11        30       2537        17   \n",
       "\n",
       "   CL_Asts  CL_Aps  CL_Mins  \n",
       "1        3      13     1170  \n",
       "3        5      13     1200  \n",
       "5        4      12     1109  \n",
       "7        4      12     1064  \n",
       "9        6      11      991  "
      ]
     },
     "execution_count": 16,
     "metadata": {},
     "output_type": "execute_result"
    }
   ],
   "source": [
    "# messi = df[df['Player']=='Messi']\n",
    "ronaldo = df[df['Player']=='Ronaldo']\n",
    "ronaldo.head()"
   ]
  },
  {
   "cell_type": "code",
   "execution_count": null,
   "metadata": {},
   "outputs": [
    {
     "data": {
      "text/plain": [
       "np.int64(412)"
      ]
     },
     "execution_count": 20,
     "metadata": {},
     "output_type": "execute_result"
    }
   ],
   "source": [
    "# to sum the column of Liga_Goals\n",
    "# messi['Liga_Goals'].sum()\n",
    "messi['Liga_Goals'].sum() + messi['CL_Goals'].sum()"
   ]
  },
  {
   "cell_type": "code",
   "execution_count": 25,
   "metadata": {},
   "outputs": [
    {
     "data": {
      "text/plain": [
       "np.int64(416)"
      ]
     },
     "execution_count": 25,
     "metadata": {},
     "output_type": "execute_result"
    }
   ],
   "source": [
    "# to sum the column of Liga_Goals\n",
    "# ronaldo['Liga_Goals'].sum()\n",
    "# ronaldo['CL_Goals'].sum()\n",
    "ronaldo['Liga_Goals'].sum() + ronaldo['CL_Goals'].sum()"
   ]
  },
  {
   "cell_type": "code",
   "execution_count": 27,
   "metadata": {},
   "outputs": [
    {
     "data": {
      "application/vnd.microsoft.datawrangler.viewer.v0+json": {
       "columns": [
        {
         "name": "index",
         "rawType": "int64",
         "type": "integer"
        },
        {
         "name": "Season",
         "rawType": "object",
         "type": "string"
        },
        {
         "name": "Player",
         "rawType": "object",
         "type": "string"
        },
        {
         "name": "Liga_Goals",
         "rawType": "int64",
         "type": "integer"
        },
        {
         "name": "Liga_Asts",
         "rawType": "int64",
         "type": "integer"
        },
        {
         "name": "Liga_Aps",
         "rawType": "int64",
         "type": "integer"
        },
        {
         "name": "Liga_Mins",
         "rawType": "int64",
         "type": "integer"
        },
        {
         "name": "CL_Goals",
         "rawType": "int64",
         "type": "integer"
        },
        {
         "name": "CL_Asts",
         "rawType": "int64",
         "type": "integer"
        },
        {
         "name": "CL_Aps",
         "rawType": "int64",
         "type": "integer"
        },
        {
         "name": "CL_Mins",
         "rawType": "int64",
         "type": "integer"
        }
       ],
       "conversionMethod": "pd.DataFrame",
       "ref": "e56dcae9-6623-4023-a59b-b8ab8579716a",
       "rows": [
        [
         "6",
         "2014-15",
         "Messi",
         "43",
         "21",
         "38",
         "3375",
         "10",
         "6",
         "13",
         "1145"
        ],
        [
         "7",
         "2014-15",
         "Ronaldo",
         "48",
         "16",
         "35",
         "3096",
         "10",
         "4",
         "12",
         "1064"
        ],
        [
         "10",
         "2012-13",
         "Messi",
         "46",
         "14",
         "32",
         "2629",
         "8",
         "3",
         "11",
         "827"
        ],
        [
         "12",
         "2011-12",
         "Messi",
         "50",
         "20",
         "37",
         "3270",
         "14",
         "9",
         "11",
         "990"
        ],
        [
         "13",
         "2011-12",
         "Ronaldo",
         "46",
         "13",
         "38",
         "3353",
         "10",
         "4",
         "10",
         "930"
        ],
        [
         "15",
         "2010-11",
         "Ronaldo",
         "40",
         "13",
         "34",
         "2914",
         "6",
         "4",
         "12",
         "1018"
        ]
       ],
       "shape": {
        "columns": 10,
        "rows": 6
       }
      },
      "text/html": [
       "<div>\n",
       "<style scoped>\n",
       "    .dataframe tbody tr th:only-of-type {\n",
       "        vertical-align: middle;\n",
       "    }\n",
       "\n",
       "    .dataframe tbody tr th {\n",
       "        vertical-align: top;\n",
       "    }\n",
       "\n",
       "    .dataframe thead th {\n",
       "        text-align: right;\n",
       "    }\n",
       "</style>\n",
       "<table border=\"1\" class=\"dataframe\">\n",
       "  <thead>\n",
       "    <tr style=\"text-align: right;\">\n",
       "      <th></th>\n",
       "      <th>Season</th>\n",
       "      <th>Player</th>\n",
       "      <th>Liga_Goals</th>\n",
       "      <th>Liga_Asts</th>\n",
       "      <th>Liga_Aps</th>\n",
       "      <th>Liga_Mins</th>\n",
       "      <th>CL_Goals</th>\n",
       "      <th>CL_Asts</th>\n",
       "      <th>CL_Aps</th>\n",
       "      <th>CL_Mins</th>\n",
       "    </tr>\n",
       "  </thead>\n",
       "  <tbody>\n",
       "    <tr>\n",
       "      <th>6</th>\n",
       "      <td>2014-15</td>\n",
       "      <td>Messi</td>\n",
       "      <td>43</td>\n",
       "      <td>21</td>\n",
       "      <td>38</td>\n",
       "      <td>3375</td>\n",
       "      <td>10</td>\n",
       "      <td>6</td>\n",
       "      <td>13</td>\n",
       "      <td>1145</td>\n",
       "    </tr>\n",
       "    <tr>\n",
       "      <th>7</th>\n",
       "      <td>2014-15</td>\n",
       "      <td>Ronaldo</td>\n",
       "      <td>48</td>\n",
       "      <td>16</td>\n",
       "      <td>35</td>\n",
       "      <td>3096</td>\n",
       "      <td>10</td>\n",
       "      <td>4</td>\n",
       "      <td>12</td>\n",
       "      <td>1064</td>\n",
       "    </tr>\n",
       "    <tr>\n",
       "      <th>10</th>\n",
       "      <td>2012-13</td>\n",
       "      <td>Messi</td>\n",
       "      <td>46</td>\n",
       "      <td>14</td>\n",
       "      <td>32</td>\n",
       "      <td>2629</td>\n",
       "      <td>8</td>\n",
       "      <td>3</td>\n",
       "      <td>11</td>\n",
       "      <td>827</td>\n",
       "    </tr>\n",
       "    <tr>\n",
       "      <th>12</th>\n",
       "      <td>2011-12</td>\n",
       "      <td>Messi</td>\n",
       "      <td>50</td>\n",
       "      <td>20</td>\n",
       "      <td>37</td>\n",
       "      <td>3270</td>\n",
       "      <td>14</td>\n",
       "      <td>9</td>\n",
       "      <td>11</td>\n",
       "      <td>990</td>\n",
       "    </tr>\n",
       "    <tr>\n",
       "      <th>13</th>\n",
       "      <td>2011-12</td>\n",
       "      <td>Ronaldo</td>\n",
       "      <td>46</td>\n",
       "      <td>13</td>\n",
       "      <td>38</td>\n",
       "      <td>3353</td>\n",
       "      <td>10</td>\n",
       "      <td>4</td>\n",
       "      <td>10</td>\n",
       "      <td>930</td>\n",
       "    </tr>\n",
       "    <tr>\n",
       "      <th>15</th>\n",
       "      <td>2010-11</td>\n",
       "      <td>Ronaldo</td>\n",
       "      <td>40</td>\n",
       "      <td>13</td>\n",
       "      <td>34</td>\n",
       "      <td>2914</td>\n",
       "      <td>6</td>\n",
       "      <td>4</td>\n",
       "      <td>12</td>\n",
       "      <td>1018</td>\n",
       "    </tr>\n",
       "  </tbody>\n",
       "</table>\n",
       "</div>"
      ],
      "text/plain": [
       "     Season   Player  Liga_Goals  Liga_Asts  Liga_Aps  Liga_Mins  CL_Goals  \\\n",
       "6   2014-15    Messi          43         21        38       3375        10   \n",
       "7   2014-15  Ronaldo          48         16        35       3096        10   \n",
       "10  2012-13    Messi          46         14        32       2629         8   \n",
       "12  2011-12    Messi          50         20        37       3270        14   \n",
       "13  2011-12  Ronaldo          46         13        38       3353        10   \n",
       "15  2010-11  Ronaldo          40         13        34       2914         6   \n",
       "\n",
       "    CL_Asts  CL_Aps  CL_Mins  \n",
       "6         6      13     1145  \n",
       "7         4      12     1064  \n",
       "10        3      11      827  \n",
       "12        9      11      990  \n",
       "13        4      10      930  \n",
       "15        4      12     1018  "
      ]
     },
     "execution_count": 27,
     "metadata": {},
     "output_type": "execute_result"
    }
   ],
   "source": [
    "df[df['Liga_Goals'] >= 40]"
   ]
  }
 ],
 "metadata": {
  "kernelspec": {
   "display_name": "venv",
   "language": "python",
   "name": "python3"
  },
  "language_info": {
   "codemirror_mode": {
    "name": "ipython",
    "version": 3
   },
   "file_extension": ".py",
   "mimetype": "text/x-python",
   "name": "python",
   "nbconvert_exporter": "python",
   "pygments_lexer": "ipython3",
   "version": "3.13.2"
  }
 },
 "nbformat": 4,
 "nbformat_minor": 2
}
