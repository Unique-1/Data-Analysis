{
 "cells": [
  {
   "cell_type": "code",
   "execution_count": 2,
   "metadata": {},
   "outputs": [],
   "source": [
    "import pandas as pd \n",
    "import matplotlib.pyplot as plt"
   ]
  },
  {
   "cell_type": "code",
   "execution_count": null,
   "metadata": {},
   "outputs": [],
   "source": [
    "df = pd.read_csv('https://www.fdic.gov/bank-failures/download-data', encoding='latin-1')"
   ]
  },
  {
   "cell_type": "code",
   "execution_count": 4,
   "metadata": {},
   "outputs": [
    {
     "data": {
      "application/vnd.microsoft.datawrangler.viewer.v0+json": {
       "columns": [
        {
         "name": "index",
         "rawType": "int64",
         "type": "integer"
        },
        {
         "name": "Bank Name ",
         "rawType": "object",
         "type": "string"
        },
        {
         "name": "City ",
         "rawType": "object",
         "type": "string"
        },
        {
         "name": "State ",
         "rawType": "object",
         "type": "string"
        },
        {
         "name": "Cert ",
         "rawType": "int64",
         "type": "integer"
        },
        {
         "name": "Acquiring Institution ",
         "rawType": "object",
         "type": "string"
        },
        {
         "name": "Closing Date ",
         "rawType": "object",
         "type": "string"
        },
        {
         "name": "Fund",
         "rawType": "int64",
         "type": "integer"
        }
       ],
       "conversionMethod": "pd.DataFrame",
       "ref": "09b97531-792b-40ab-b7d7-05bf03dc3825",
       "rows": [
        [
         "0",
         "Pulaski Savings Bank",
         "Chicago",
         "IL",
         "28611",
         "Millennium Bank",
         "17-Jan-25",
         "10548"
        ],
        [
         "1",
         "First National Bank of Lindsay",
         "Lindsay",
         "OK",
         "4134",
         "First Bank & Trust Co.",
         "18-Oct-24",
         "10547"
        ],
        [
         "2",
         "Republic First Bank dba Republic Bank",
         "Philadelphia",
         "PA",
         "27332",
         "Fulton Bank, National Association",
         "26-Apr-24",
         "10546"
        ],
        [
         "3",
         "Citizens Bank",
         "Sac City",
         "IA",
         "8758",
         "Iowa Trust & Savings Bank",
         "3-Nov-23",
         "10545"
        ],
        [
         "4",
         "Heartland Tri-State Bank",
         "Elkhart",
         "KS",
         "25851",
         "Dream First Bank, N.A.",
         "28-Jul-23",
         "10544"
        ]
       ],
       "shape": {
        "columns": 7,
        "rows": 5
       }
      },
      "text/html": [
       "<div>\n",
       "<style scoped>\n",
       "    .dataframe tbody tr th:only-of-type {\n",
       "        vertical-align: middle;\n",
       "    }\n",
       "\n",
       "    .dataframe tbody tr th {\n",
       "        vertical-align: top;\n",
       "    }\n",
       "\n",
       "    .dataframe thead th {\n",
       "        text-align: right;\n",
       "    }\n",
       "</style>\n",
       "<table border=\"1\" class=\"dataframe\">\n",
       "  <thead>\n",
       "    <tr style=\"text-align: right;\">\n",
       "      <th></th>\n",
       "      <th>Bank Name</th>\n",
       "      <th>City</th>\n",
       "      <th>State</th>\n",
       "      <th>Cert</th>\n",
       "      <th>Acquiring Institution</th>\n",
       "      <th>Closing Date</th>\n",
       "      <th>Fund</th>\n",
       "    </tr>\n",
       "  </thead>\n",
       "  <tbody>\n",
       "    <tr>\n",
       "      <th>0</th>\n",
       "      <td>Pulaski Savings Bank</td>\n",
       "      <td>Chicago</td>\n",
       "      <td>IL</td>\n",
       "      <td>28611</td>\n",
       "      <td>Millennium Bank</td>\n",
       "      <td>17-Jan-25</td>\n",
       "      <td>10548</td>\n",
       "    </tr>\n",
       "    <tr>\n",
       "      <th>1</th>\n",
       "      <td>First National Bank of Lindsay</td>\n",
       "      <td>Lindsay</td>\n",
       "      <td>OK</td>\n",
       "      <td>4134</td>\n",
       "      <td>First Bank &amp; Trust Co.</td>\n",
       "      <td>18-Oct-24</td>\n",
       "      <td>10547</td>\n",
       "    </tr>\n",
       "    <tr>\n",
       "      <th>2</th>\n",
       "      <td>Republic First Bank dba Republic Bank</td>\n",
       "      <td>Philadelphia</td>\n",
       "      <td>PA</td>\n",
       "      <td>27332</td>\n",
       "      <td>Fulton Bank, National Association</td>\n",
       "      <td>26-Apr-24</td>\n",
       "      <td>10546</td>\n",
       "    </tr>\n",
       "    <tr>\n",
       "      <th>3</th>\n",
       "      <td>Citizens Bank</td>\n",
       "      <td>Sac City</td>\n",
       "      <td>IA</td>\n",
       "      <td>8758</td>\n",
       "      <td>Iowa Trust &amp; Savings Bank</td>\n",
       "      <td>3-Nov-23</td>\n",
       "      <td>10545</td>\n",
       "    </tr>\n",
       "    <tr>\n",
       "      <th>4</th>\n",
       "      <td>Heartland Tri-State Bank</td>\n",
       "      <td>Elkhart</td>\n",
       "      <td>KS</td>\n",
       "      <td>25851</td>\n",
       "      <td>Dream First Bank, N.A.</td>\n",
       "      <td>28-Jul-23</td>\n",
       "      <td>10544</td>\n",
       "    </tr>\n",
       "  </tbody>\n",
       "</table>\n",
       "</div>"
      ],
      "text/plain": [
       "                              Bank Name          City  State   Cert   \\\n",
       "0                   Pulaski Savings Bank       Chicago     IL  28611   \n",
       "1         First National Bank of Lindsay       Lindsay     OK   4134   \n",
       "2  Republic First Bank dba Republic Bank  Philadelphia     PA  27332   \n",
       "3                          Citizens Bank      Sac City     IA   8758   \n",
       "4               Heartland Tri-State Bank       Elkhart     KS  25851   \n",
       "\n",
       "              Acquiring Institution  Closing Date    Fund  \n",
       "0                    Millennium Bank     17-Jan-25  10548  \n",
       "1             First Bank & Trust Co.     18-Oct-24  10547  \n",
       "2  Fulton Bank, National Association     26-Apr-24  10546  \n",
       "3          Iowa Trust & Savings Bank      3-Nov-23  10545  \n",
       "4             Dream First Bank, N.A.     28-Jul-23  10544  "
      ]
     },
     "execution_count": 4,
     "metadata": {},
     "output_type": "execute_result"
    }
   ],
   "source": [
    "df.head()"
   ]
  },
  {
   "cell_type": "code",
   "execution_count": 5,
   "metadata": {},
   "outputs": [
    {
     "data": {
      "text/plain": [
       "(571, 7)"
      ]
     },
     "execution_count": 5,
     "metadata": {},
     "output_type": "execute_result"
    }
   ],
   "source": [
    "df.shape"
   ]
  },
  {
   "cell_type": "code",
   "execution_count": 6,
   "metadata": {},
   "outputs": [
    {
     "name": "stdout",
     "output_type": "stream",
     "text": [
      "<class 'pandas.core.frame.DataFrame'>\n",
      "RangeIndex: 571 entries, 0 to 570\n",
      "Data columns (total 7 columns):\n",
      " #   Column                  Non-Null Count  Dtype \n",
      "---  ------                  --------------  ----- \n",
      " 0   Bank Name               571 non-null    object\n",
      " 1   City                    571 non-null    object\n",
      " 2   State                   571 non-null    object\n",
      " 3   Cert                    571 non-null    int64 \n",
      " 4   Acquiring Institution   571 non-null    object\n",
      " 5   Closing Date            571 non-null    object\n",
      " 6   Fund                    571 non-null    int64 \n",
      "dtypes: int64(2), object(5)\n",
      "memory usage: 31.4+ KB\n"
     ]
    }
   ],
   "source": [
    "# to check the technical info of the data set\n",
    "df.info()"
   ]
  },
  {
   "cell_type": "code",
   "execution_count": 7,
   "metadata": {},
   "outputs": [
    {
     "data": {
      "text/plain": [
       "Bank Name                 object\n",
       "City                      object\n",
       "State                     object\n",
       "Cert                       int64\n",
       "Acquiring Institution     object\n",
       "Closing Date              object\n",
       "Fund                       int64\n",
       "dtype: object"
      ]
     },
     "execution_count": 7,
     "metadata": {},
     "output_type": "execute_result"
    }
   ],
   "source": [
    "# to check the data type of the columns\n",
    "df.dtypes"
   ]
  },
  {
   "cell_type": "code",
   "execution_count": 8,
   "metadata": {},
   "outputs": [
    {
     "data": {
      "text/plain": [
       "Index(['Bank Name ', 'City ', 'State ', 'Cert ', 'Acquiring Institution ',\n",
       "       'Closing Date ', 'Fund'],\n",
       "      dtype='object')"
      ]
     },
     "execution_count": 8,
     "metadata": {},
     "output_type": "execute_result"
    }
   ],
   "source": [
    "# to show all the columns we have in the dataset\n",
    "df.columns"
   ]
  },
  {
   "cell_type": "code",
   "execution_count": 18,
   "metadata": {},
   "outputs": [
    {
     "data": {
      "text/plain": [
       "Index(['Bank Name', 'City', 'State', 'Cert', 'Acquiring Institution',\n",
       "       'Closing Date', 'Fund'],\n",
       "      dtype='object')"
      ]
     },
     "execution_count": 18,
     "metadata": {},
     "output_type": "execute_result"
    }
   ],
   "source": [
    "# to clear the whitespace in the columns\n",
    "df.columns = df.columns.str.strip()\n",
    "df.columns"
   ]
  },
  {
   "cell_type": "code",
   "execution_count": 19,
   "metadata": {},
   "outputs": [
    {
     "data": {
      "text/plain": [
       "Cert\n",
       "21029    1\n",
       "28611    1\n",
       "4134     1\n",
       "27332    1\n",
       "8758     1\n",
       "        ..\n",
       "10716    1\n",
       "58112    1\n",
       "58317    1\n",
       "21111    1\n",
       "18265    1\n",
       "Name: count, Length: 571, dtype: int64"
      ]
     },
     "execution_count": 19,
     "metadata": {},
     "output_type": "execute_result"
    }
   ],
   "source": [
    "df['Cert'].value_counts()"
   ]
  },
  {
   "cell_type": "code",
   "execution_count": null,
   "metadata": {},
   "outputs": [],
   "source": [
    "# to drop columns Cert and Fund\n",
    "df = df.drop(['Cert', 'Fund'], axis=1)"
   ]
  },
  {
   "cell_type": "code",
   "execution_count": 23,
   "metadata": {},
   "outputs": [
    {
     "data": {
      "application/vnd.microsoft.datawrangler.viewer.v0+json": {
       "columns": [
        {
         "name": "index",
         "rawType": "int64",
         "type": "integer"
        },
        {
         "name": "Bank Name",
         "rawType": "object",
         "type": "string"
        },
        {
         "name": "City",
         "rawType": "object",
         "type": "string"
        },
        {
         "name": "State",
         "rawType": "object",
         "type": "string"
        },
        {
         "name": "Acquiring Institution",
         "rawType": "object",
         "type": "string"
        },
        {
         "name": "Closing Date",
         "rawType": "object",
         "type": "string"
        }
       ],
       "conversionMethod": "pd.DataFrame",
       "ref": "f2c6fc13-d4a3-4594-a724-3c9ef4ca1d01",
       "rows": [
        [
         "0",
         "Pulaski Savings Bank",
         "Chicago",
         "IL",
         "Millennium Bank",
         "17-Jan-25"
        ],
        [
         "1",
         "First National Bank of Lindsay",
         "Lindsay",
         "OK",
         "First Bank & Trust Co.",
         "18-Oct-24"
        ],
        [
         "2",
         "Republic First Bank dba Republic Bank",
         "Philadelphia",
         "PA",
         "Fulton Bank, National Association",
         "26-Apr-24"
        ],
        [
         "3",
         "Citizens Bank",
         "Sac City",
         "IA",
         "Iowa Trust & Savings Bank",
         "3-Nov-23"
        ],
        [
         "4",
         "Heartland Tri-State Bank",
         "Elkhart",
         "KS",
         "Dream First Bank, N.A.",
         "28-Jul-23"
        ]
       ],
       "shape": {
        "columns": 5,
        "rows": 5
       }
      },
      "text/html": [
       "<div>\n",
       "<style scoped>\n",
       "    .dataframe tbody tr th:only-of-type {\n",
       "        vertical-align: middle;\n",
       "    }\n",
       "\n",
       "    .dataframe tbody tr th {\n",
       "        vertical-align: top;\n",
       "    }\n",
       "\n",
       "    .dataframe thead th {\n",
       "        text-align: right;\n",
       "    }\n",
       "</style>\n",
       "<table border=\"1\" class=\"dataframe\">\n",
       "  <thead>\n",
       "    <tr style=\"text-align: right;\">\n",
       "      <th></th>\n",
       "      <th>Bank Name</th>\n",
       "      <th>City</th>\n",
       "      <th>State</th>\n",
       "      <th>Acquiring Institution</th>\n",
       "      <th>Closing Date</th>\n",
       "    </tr>\n",
       "  </thead>\n",
       "  <tbody>\n",
       "    <tr>\n",
       "      <th>0</th>\n",
       "      <td>Pulaski Savings Bank</td>\n",
       "      <td>Chicago</td>\n",
       "      <td>IL</td>\n",
       "      <td>Millennium Bank</td>\n",
       "      <td>17-Jan-25</td>\n",
       "    </tr>\n",
       "    <tr>\n",
       "      <th>1</th>\n",
       "      <td>First National Bank of Lindsay</td>\n",
       "      <td>Lindsay</td>\n",
       "      <td>OK</td>\n",
       "      <td>First Bank &amp; Trust Co.</td>\n",
       "      <td>18-Oct-24</td>\n",
       "    </tr>\n",
       "    <tr>\n",
       "      <th>2</th>\n",
       "      <td>Republic First Bank dba Republic Bank</td>\n",
       "      <td>Philadelphia</td>\n",
       "      <td>PA</td>\n",
       "      <td>Fulton Bank, National Association</td>\n",
       "      <td>26-Apr-24</td>\n",
       "    </tr>\n",
       "    <tr>\n",
       "      <th>3</th>\n",
       "      <td>Citizens Bank</td>\n",
       "      <td>Sac City</td>\n",
       "      <td>IA</td>\n",
       "      <td>Iowa Trust &amp; Savings Bank</td>\n",
       "      <td>3-Nov-23</td>\n",
       "    </tr>\n",
       "    <tr>\n",
       "      <th>4</th>\n",
       "      <td>Heartland Tri-State Bank</td>\n",
       "      <td>Elkhart</td>\n",
       "      <td>KS</td>\n",
       "      <td>Dream First Bank, N.A.</td>\n",
       "      <td>28-Jul-23</td>\n",
       "    </tr>\n",
       "  </tbody>\n",
       "</table>\n",
       "</div>"
      ],
      "text/plain": [
       "                               Bank Name          City State  \\\n",
       "0                   Pulaski Savings Bank       Chicago    IL   \n",
       "1         First National Bank of Lindsay       Lindsay    OK   \n",
       "2  Republic First Bank dba Republic Bank  Philadelphia    PA   \n",
       "3                          Citizens Bank      Sac City    IA   \n",
       "4               Heartland Tri-State Bank       Elkhart    KS   \n",
       "\n",
       "               Acquiring Institution Closing Date  \n",
       "0                    Millennium Bank    17-Jan-25  \n",
       "1             First Bank & Trust Co.    18-Oct-24  \n",
       "2  Fulton Bank, National Association    26-Apr-24  \n",
       "3          Iowa Trust & Savings Bank     3-Nov-23  \n",
       "4             Dream First Bank, N.A.    28-Jul-23  "
      ]
     },
     "execution_count": 23,
     "metadata": {},
     "output_type": "execute_result"
    }
   ],
   "source": [
    "df.head()"
   ]
  },
  {
   "cell_type": "code",
   "execution_count": 24,
   "metadata": {},
   "outputs": [
    {
     "data": {
      "text/plain": [
       "City\n",
       "Chicago        21\n",
       "Atlanta        10\n",
       "Phoenix         6\n",
       "Naples          5\n",
       "Las Vegas       4\n",
       "               ..\n",
       "Argonia         1\n",
       "Saint Elmo      1\n",
       "Moline          1\n",
       "New Orleans     1\n",
       "Vancouver       1\n",
       "Name: count, Length: 437, dtype: int64"
      ]
     },
     "execution_count": 24,
     "metadata": {},
     "output_type": "execute_result"
    }
   ],
   "source": [
    "# to show the number of times that each city appears\n",
    "df['City'].value_counts()"
   ]
  },
  {
   "cell_type": "code",
   "execution_count": 25,
   "metadata": {},
   "outputs": [
    {
     "data": {
      "text/plain": [
       "City\n",
       "Chicago      21\n",
       "Atlanta      10\n",
       "Phoenix       6\n",
       "Naples        5\n",
       "Las Vegas     4\n",
       "Name: count, dtype: int64"
      ]
     },
     "execution_count": 25,
     "metadata": {},
     "output_type": "execute_result"
    }
   ],
   "source": [
    "# to show the number of times that each city appears in the first five rows\n",
    "df['City'].value_counts().head()"
   ]
  },
  {
   "cell_type": "code",
   "execution_count": 26,
   "metadata": {},
   "outputs": [
    {
     "name": "stderr",
     "output_type": "stream",
     "text": [
      "C:\\Users\\codetech\\AppData\\Local\\Temp\\ipykernel_6608\\1466740284.py:2: UserWarning: Could not infer format, so each element will be parsed individually, falling back to `dateutil`. To ensure parsing is consistent and as-expected, please specify a format.\n",
      "  df['Closing Date'] = pd.to_datetime(df['Closing Date'])\n"
     ]
    }
   ],
   "source": [
    "# to convert CLosing date datatype to datetime\n",
    "df['Closing Date'] = pd.to_datetime(df['Closing Date'])"
   ]
  },
  {
   "cell_type": "code",
   "execution_count": 28,
   "metadata": {},
   "outputs": [
    {
     "data": {
      "text/plain": [
       "Bank Name                        object\n",
       "City                             object\n",
       "State                            object\n",
       "Acquiring Institution            object\n",
       "Closing Date             datetime64[ns]\n",
       "dtype: object"
      ]
     },
     "execution_count": 28,
     "metadata": {},
     "output_type": "execute_result"
    }
   ],
   "source": [
    "\n",
    "# to check the datatype of the dataset again\n",
    "df.dtypes\n",
    "# df['Closing Date'].dtype"
   ]
  },
  {
   "cell_type": "code",
   "execution_count": 30,
   "metadata": {},
   "outputs": [
    {
     "data": {
      "application/vnd.microsoft.datawrangler.viewer.v0+json": {
       "columns": [
        {
         "name": "index",
         "rawType": "int64",
         "type": "integer"
        },
        {
         "name": "Bank Name",
         "rawType": "object",
         "type": "string"
        },
        {
         "name": "City",
         "rawType": "object",
         "type": "string"
        },
        {
         "name": "State",
         "rawType": "object",
         "type": "string"
        },
        {
         "name": "Acquiring Institution",
         "rawType": "object",
         "type": "string"
        },
        {
         "name": "Closing Date",
         "rawType": "datetime64[ns]",
         "type": "datetime"
        }
       ],
       "conversionMethod": "pd.DataFrame",
       "ref": "84f1096c-873f-4bb7-914d-82e8e3b6e895",
       "rows": [
        [
         "0",
         "Pulaski Savings Bank",
         "Chicago",
         "IL",
         "Millennium Bank",
         "2025-01-17 00:00:00"
        ],
        [
         "1",
         "First National Bank of Lindsay",
         "Lindsay",
         "OK",
         "First Bank & Trust Co.",
         "2024-10-18 00:00:00"
        ],
        [
         "2",
         "Republic First Bank dba Republic Bank",
         "Philadelphia",
         "PA",
         "Fulton Bank, National Association",
         "2024-04-26 00:00:00"
        ],
        [
         "3",
         "Citizens Bank",
         "Sac City",
         "IA",
         "Iowa Trust & Savings Bank",
         "2023-11-03 00:00:00"
        ],
        [
         "4",
         "Heartland Tri-State Bank",
         "Elkhart",
         "KS",
         "Dream First Bank, N.A.",
         "2023-07-28 00:00:00"
        ]
       ],
       "shape": {
        "columns": 5,
        "rows": 5
       }
      },
      "text/html": [
       "<div>\n",
       "<style scoped>\n",
       "    .dataframe tbody tr th:only-of-type {\n",
       "        vertical-align: middle;\n",
       "    }\n",
       "\n",
       "    .dataframe tbody tr th {\n",
       "        vertical-align: top;\n",
       "    }\n",
       "\n",
       "    .dataframe thead th {\n",
       "        text-align: right;\n",
       "    }\n",
       "</style>\n",
       "<table border=\"1\" class=\"dataframe\">\n",
       "  <thead>\n",
       "    <tr style=\"text-align: right;\">\n",
       "      <th></th>\n",
       "      <th>Bank Name</th>\n",
       "      <th>City</th>\n",
       "      <th>State</th>\n",
       "      <th>Acquiring Institution</th>\n",
       "      <th>Closing Date</th>\n",
       "    </tr>\n",
       "  </thead>\n",
       "  <tbody>\n",
       "    <tr>\n",
       "      <th>0</th>\n",
       "      <td>Pulaski Savings Bank</td>\n",
       "      <td>Chicago</td>\n",
       "      <td>IL</td>\n",
       "      <td>Millennium Bank</td>\n",
       "      <td>2025-01-17</td>\n",
       "    </tr>\n",
       "    <tr>\n",
       "      <th>1</th>\n",
       "      <td>First National Bank of Lindsay</td>\n",
       "      <td>Lindsay</td>\n",
       "      <td>OK</td>\n",
       "      <td>First Bank &amp; Trust Co.</td>\n",
       "      <td>2024-10-18</td>\n",
       "    </tr>\n",
       "    <tr>\n",
       "      <th>2</th>\n",
       "      <td>Republic First Bank dba Republic Bank</td>\n",
       "      <td>Philadelphia</td>\n",
       "      <td>PA</td>\n",
       "      <td>Fulton Bank, National Association</td>\n",
       "      <td>2024-04-26</td>\n",
       "    </tr>\n",
       "    <tr>\n",
       "      <th>3</th>\n",
       "      <td>Citizens Bank</td>\n",
       "      <td>Sac City</td>\n",
       "      <td>IA</td>\n",
       "      <td>Iowa Trust &amp; Savings Bank</td>\n",
       "      <td>2023-11-03</td>\n",
       "    </tr>\n",
       "    <tr>\n",
       "      <th>4</th>\n",
       "      <td>Heartland Tri-State Bank</td>\n",
       "      <td>Elkhart</td>\n",
       "      <td>KS</td>\n",
       "      <td>Dream First Bank, N.A.</td>\n",
       "      <td>2023-07-28</td>\n",
       "    </tr>\n",
       "  </tbody>\n",
       "</table>\n",
       "</div>"
      ],
      "text/plain": [
       "                               Bank Name          City State  \\\n",
       "0                   Pulaski Savings Bank       Chicago    IL   \n",
       "1         First National Bank of Lindsay       Lindsay    OK   \n",
       "2  Republic First Bank dba Republic Bank  Philadelphia    PA   \n",
       "3                          Citizens Bank      Sac City    IA   \n",
       "4               Heartland Tri-State Bank       Elkhart    KS   \n",
       "\n",
       "               Acquiring Institution Closing Date  \n",
       "0                    Millennium Bank   2025-01-17  \n",
       "1             First Bank & Trust Co.   2024-10-18  \n",
       "2  Fulton Bank, National Association   2024-04-26  \n",
       "3          Iowa Trust & Savings Bank   2023-11-03  \n",
       "4             Dream First Bank, N.A.   2023-07-28  "
      ]
     },
     "execution_count": 30,
     "metadata": {},
     "output_type": "execute_result"
    }
   ],
   "source": [
    "# to display the first five rows to show the Closing Date value\n",
    "df.head()"
   ]
  },
  {
   "cell_type": "code",
   "execution_count": null,
   "metadata": {},
   "outputs": [],
   "source": []
  },
  {
   "cell_type": "code",
   "execution_count": 31,
   "metadata": {},
   "outputs": [],
   "source": [
    "ycounts = df.groupby(df['Closing Date'].dt.year).size()"
   ]
  },
  {
   "cell_type": "code",
   "execution_count": 41,
   "metadata": {},
   "outputs": [
    {
     "data": {
      "image/png": "[encoded data removed]",
      "text/plain": [
       "<Figure size 640x480 with 1 Axes>"
      ]
     },
     "metadata": {},
     "output_type": "display_data"
    }
   ],
   "source": [
    "ycounts.plot(kind='bar', color='green', legend=1)\n",
    "plt.xlabel('Year')\n",
    "plt.ylabel('Count')\n",
    "plt.title('Banks failed per year')\n",
    "plt.show()"
   ]
  }
 ],
 "metadata": {
  "kernelspec": {
   "display_name": "venv",
   "language": "python",
   "name": "python3"
  },
  "language_info": {
   "codemirror_mode": {
    "name": "ipython",
    "version": 3
   },
   "file_extension": ".py",
   "mimetype": "text/x-python",
   "name": "python",
   "nbconvert_exporter": "python",
   "pygments_lexer": "ipython3",
   "version": "3.13.2"
  }
 },
 "nbformat": 4,
 "nbformat_minor": 2
}
