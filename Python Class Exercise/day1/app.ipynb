{
 "cells": [
  {
   "cell_type": "markdown",
   "metadata": {
    "notebookRunGroups": {
     "groupValue": "2"
    }
   },
   "source": [
    "***Welcome to class***"
   ]
  },
  {
   "cell_type": "code",
   "execution_count": 1,
   "metadata": {},
   "outputs": [
    {
     "name": "stdout",
     "output_type": "stream",
     "text": [
      "welcome to class\n"
     ]
    }
   ],
   "source": [
    "print(\"welcome to class\")"
   ]
  },
  {
   "cell_type": "code",
   "execution_count": 1,
   "metadata": {},
   "outputs": [
    {
     "name": "stdout",
     "output_type": "stream",
     "text": [
      "i love:sulaimon\n"
     ]
    }
   ],
   "source": [
    "a = 'jone'\n",
    "def myname():\n",
    "    global a\n",
    "    a = 'sulaimon'\n",
    "    # print(\"my name is:\" + a)\n",
    "myname()\n",
    "print(\"i love:\" + a)\n",
    "    \n",
    "    \n"
   ]
  },
  {
   "cell_type": "code",
   "execution_count": 24,
   "metadata": {},
   "outputs": [
    {
     "name": "stdout",
     "output_type": "stream",
     "text": [
      "ove co\n",
      "i lo\n",
      "love coding\n",
      "ve cod\n"
     ]
    }
   ],
   "source": [
    "#string slicing range\n",
    "\n",
    "a = \"i love coding\"\n",
    "\n",
    "print(a[3:9])\n",
    "\n",
    "#string slice from start\n",
    "\n",
    "print(a[:4])\n",
    "\n",
    "#slice to end\n",
    "\n",
    "print(a[2:])\n",
    "\n",
    "#negative slicing\n",
    "print(a[-9:-3])\n",
    "\n"
   ]
  },
  {
   "cell_type": "code",
   "execution_count": null,
   "metadata": {},
   "outputs": [
    {
     "name": "stdout",
     "output_type": "stream",
     "text": [
      "I LOVE CODING\n",
      "i luv coding\n"
     ]
    }
   ],
   "source": [
    "#how to modify string\n",
    "\n",
    "a = \"i love coding\"\n",
    "\n",
    "print(a.upper())\n",
    "\n",
    "#replace\n",
    "\n",
    "print(a.replace(\"ove\",\"uv\"))"
   ]
  },
  {
   "cell_type": "markdown",
   "metadata": {},
   "source": [
    "Removing white space from a string"
   ]
  },
  {
   "cell_type": "code",
   "execution_count": 27,
   "metadata": {},
   "outputs": [
    {
     "name": "stdout",
     "output_type": "stream",
     "text": [
      " i love coding\n",
      "i love coding\n"
     ]
    }
   ],
   "source": [
    "a = \" i love coding\"\n",
    "print(a)\n",
    "print(a.strip())"
   ]
  },
  {
   "cell_type": "code",
   "execution_count": null,
   "metadata": {},
   "outputs": [
    {
     "name": "stdout",
     "output_type": "stream",
     "text": [
      "i am 25 years old\n"
     ]
    }
   ],
   "source": [
    "a = \"i love coding at age\"\n",
    "\n",
    "b = 25\n",
    "\n",
    "c = f\"i am {b} years old\"\n",
    "\n",
    "print(c)\n",
    "\n"
   ]
  },
  {
   "cell_type": "code",
   "execution_count": null,
   "metadata": {},
   "outputs": [
    {
     "name": "stdout",
     "output_type": "stream",
     "text": [
      "True\n"
     ]
    }
   ],
   "source": [
    "# print(7>9)\n",
    "\n",
    "a = 5\n",
    "b = 10\n",
    "\n",
    "# if a < b:\n",
    "#    print(\"correct\")\n",
    "# else:\n",
    "#    print(\"wrong\")\n",
    "    \n",
    "def myfunc():\n",
    "    if a < b:\n",
    "        return True\n",
    "    else:\n",
    "        return False\n",
    "myfunc()\n",
    "print(myfunc())\n",
    "    \n",
    "    \n"
   ]
  },
  {
   "cell_type": "markdown",
   "metadata": {},
   "source": [
    "Operators"
   ]
  },
  {
   "cell_type": "code",
   "execution_count": null,
   "metadata": {},
   "outputs": [
    {
     "name": "stdout",
     "output_type": "stream",
     "text": [
      "25\n"
     ]
    }
   ],
   "source": [
    "#arithmetic operators\n",
    "\n",
    "a = 5\n",
    "b = 2\n",
    "c = a ** b\n",
    "print(c)\n"
   ]
  },
  {
   "cell_type": "markdown",
   "metadata": {},
   "source": [
    "Assignment operators"
   ]
  },
  {
   "cell_type": "code",
   "execution_count": 73,
   "metadata": {},
   "outputs": [],
   "source": [
    "a +=3    # a = a + 3\n",
    "b -=3    # b = b - 3\n",
    "c *=3    # c = c * 3\n"
   ]
  },
  {
   "cell_type": "markdown",
   "metadata": {},
   "source": [
    "SET"
   ]
  },
  {
   "cell_type": "code",
   "execution_count": 14,
   "metadata": {},
   "outputs": [
    {
     "name": "stdout",
     "output_type": "stream",
     "text": [
      "<class 'tuple'>\n",
      "<class 'list'>\n",
      "<class 'set'>\n",
      "<class 'dict'>\n"
     ]
    }
   ],
   "source": [
    "a = (\"love\", \"me\", \"bad\")\n",
    "b = [\"love\", \"me\", \"bad\"]\n",
    "d = {\"love\",\"me\",\"bad\"}\n",
    "c = {\"loveme\":\"mebad\"}\n",
    "print(type(a))\n",
    "print(type(b))\n",
    "print(type(d))\n",
    "print(type(c))\n"
   ]
  },
  {
   "cell_type": "code",
   "execution_count": 80,
   "metadata": {},
   "outputs": [
    {
     "name": "stdout",
     "output_type": "stream",
     "text": [
      "0\n",
      "1\n",
      "2\n",
      "3\n"
     ]
    }
   ],
   "source": [
    "a = 0\n",
    "while(a <= 5):\n",
    "    print(a)\n",
    "    if a==3:\n",
    "        break\n",
    "    a +=1"
   ]
  },
  {
   "cell_type": "code",
   "execution_count": null,
   "metadata": {},
   "outputs": [],
   "source": [
    "x = 5\n",
    "y = \"Hello\"\n",
    "print(x)\n",
    "print(y)"
   ]
  },
  {
   "cell_type": "code",
   "execution_count": null,
   "metadata": {},
   "outputs": [
    {
     "name": "stdout",
     "output_type": "stream",
     "text": [
      "Hello\n"
     ]
    }
   ],
   "source": [
    "\"\"\"\n",
    "this is a comment\n",
    "\"\"\"\n",
    "#tripple string can also be used for comment/ multiline string\n",
    "print(\"Hello\")"
   ]
  },
  {
   "cell_type": "code",
   "execution_count": 30,
   "metadata": {},
   "outputs": [
    {
     "name": "stdout",
     "output_type": "stream",
     "text": [
      "Wale\n"
     ]
    }
   ],
   "source": [
    "x = 5 # x is of type int\n",
    "x = \"Wale\" # y is of type str\n",
    "print(x)\n",
    "\n"
   ]
  },
  {
   "cell_type": "code",
   "execution_count": 31,
   "metadata": {},
   "outputs": [
    {
     "name": "stdout",
     "output_type": "stream",
     "text": [
      "3\n",
      "3\n",
      "3.0\n"
     ]
    }
   ],
   "source": [
    "x = str(3)    # x will be '3'\n",
    "y = int(3)    # y will be 3\n",
    "z = float(3)  # z will be 3.0 \n",
    "print(x)\n",
    "print(y)\n",
    "print(z)"
   ]
  },
  {
   "cell_type": "markdown",
   "metadata": {
    "notebookRunGroups": {
     "groupValue": "2"
    }
   },
   "source": [
    "1. What is a correct way to declare a python variable?\n",
    "var x = 5\n",
    "#x = 5\n",
    "$x = 5\n",
    "x = 5\n",
    "Ans: x = 5 \n",
    "\n"
   ]
  },
  {
   "cell_type": "code",
   "execution_count": null,
   "metadata": {},
   "outputs": [],
   "source": [
    "#3. "
   ]
  },
  {
   "cell_type": "code",
   "execution_count": null,
   "metadata": {},
   "outputs": [],
   "source": [
    "#4. Which is not a legal variable name ANS: my-var\n",
    "my-var = 20\n",
    "my_var = 20\n",
    "Myvar = 20\n",
    "_myvar = 20\n"
   ]
  },
  {
   "cell_type": "code",
   "execution_count": 43,
   "metadata": {},
   "outputs": [
    {
     "name": "stdout",
     "output_type": "stream",
     "text": [
      "Volvo\n"
     ]
    }
   ],
   "source": [
    "#5. Create a variable named carname and assign a value Volvo for it\n",
    "carname = 'Volvo'\n",
    "print(carname)"
   ]
  },
  {
   "cell_type": "code",
   "execution_count": 42,
   "metadata": {},
   "outputs": [
    {
     "name": "stdout",
     "output_type": "stream",
     "text": [
      "50\n"
     ]
    }
   ],
   "source": [
    "#6. Create a variable named x and assign a value 50 for it\n",
    "x = 50\n",
    "print(x)"
   ]
  },
  {
   "cell_type": "code",
   "execution_count": 44,
   "metadata": {},
   "outputs": [
    {
     "name": "stdout",
     "output_type": "stream",
     "text": [
      "Hello World\n",
      "Hello World\n",
      "Hello World\n"
     ]
    }
   ],
   "source": [
    "#7. What is a correct syntac to add the value 'Hello World', to 3 variables in one statement\n",
    "x = y = z = 'Hello World'\n",
    "print(x)\n",
    "print(y)\n",
    "print(z)\n"
   ]
  },
  {
   "cell_type": "code",
   "execution_count": 34,
   "metadata": {},
   "outputs": [
    {
     "name": "stdout",
     "output_type": "stream",
     "text": [
      "apple\n"
     ]
    }
   ],
   "source": [
    "#8. Consider the following code\n",
    "\n",
    "fruits = ['apple', 'banana', 'cherry']\n",
    "a, b, c = fruits\n",
    "print(a)"
   ]
  },
  {
   "cell_type": "code",
   "execution_count": null,
   "metadata": {},
   "outputs": [
    {
     "name": "stdout",
     "output_type": "stream",
     "text": [
      "Hello World\n"
     ]
    }
   ],
   "source": [
    "#9. Consider the following code\n",
    "\n",
    "print('Hello', 'World')"
   ]
  },
  {
   "cell_type": "code",
   "execution_count": 8,
   "metadata": {},
   "outputs": [
    {
     "name": "stdout",
     "output_type": "stream",
     "text": [
      "HelloWorld\n"
     ]
    }
   ],
   "source": [
    "#10. Consider the following code ANS: HelloWorld\n",
    "\n",
    "a = 'Hello'\n",
    "b = 'World'\n",
    "print(a + b)\n"
   ]
  },
  {
   "cell_type": "code",
   "execution_count": null,
   "metadata": {},
   "outputs": [
    {
     "name": "stdout",
     "output_type": "stream",
     "text": [
      "9\n"
     ]
    }
   ],
   "source": [
    "#11. Consider the following code ANS: 9\n",
    "\n",
    "a = 4\n",
    "b = 5\n",
    "print(a + b)\n"
   ]
  },
  {
   "cell_type": "code",
   "execution_count": null,
   "metadata": {},
   "outputs": [
    {
     "name": "stdout",
     "output_type": "stream",
     "text": [
      "Python is awesome\n"
     ]
    }
   ],
   "source": [
    "#11b. Consider the following code ANS: Python is awesome\n",
    "\n",
    "x = 'awesome'\n",
    "def myfunc():\n",
    "    x = 'fantastic'\n",
    "myfunc()\n",
    "print('Python is ' + x)\n"
   ]
  },
  {
   "cell_type": "code",
   "execution_count": 65,
   "metadata": {},
   "outputs": [
    {
     "name": "stdout",
     "output_type": "stream",
     "text": [
      "Adewole is Peju\n",
      "Python is Wale\n"
     ]
    }
   ],
   "source": [
    "x = 'Wale'\n",
    "\n",
    "def myfunc():\n",
    "    \n",
    "    x = 'Peju'\n",
    "    \n",
    "    print('Adewole is ' + x)\n",
    "myfunc()\n",
    "\n",
    "print('Python is ' + x)\n",
    "\n",
    "      \n"
   ]
  },
  {
   "cell_type": "code",
   "execution_count": 67,
   "metadata": {},
   "outputs": [
    {
     "name": "stdout",
     "output_type": "stream",
     "text": [
      "Python is Adepeju\n",
      "Python is Ayoola\n"
     ]
    }
   ],
   "source": [
    "x = 'Ayoola'\n",
    "def myfunc():\n",
    "    x = 'Adepeju'\n",
    "    print('Python is ' + x)\n",
    "myfunc()\n",
    "print('Python is ' + x)\n",
    "          "
   ]
  },
  {
   "cell_type": "code",
   "execution_count": 68,
   "metadata": {},
   "outputs": [
    {
     "name": "stdout",
     "output_type": "stream",
     "text": [
      "Python is fantastic\n"
     ]
    }
   ],
   "source": [
    "x = \"awesome\"\n",
    "\n",
    "def myfunc():\n",
    "  global x\n",
    "  x = \"fantastic\"\n",
    "\n",
    "myfunc()\n",
    "\n",
    "print(\"Python is \" + x)"
   ]
  },
  {
   "cell_type": "code",
   "execution_count": 69,
   "metadata": {},
   "outputs": [
    {
     "name": "stdout",
     "output_type": "stream",
     "text": [
      "Python is awesome\n"
     ]
    }
   ],
   "source": [
    "x = 'awesome'\n",
    "def myfunc():\n",
    "  x = 'fantastic'\n",
    "myfunc()\n",
    "print('Python is ' + x)"
   ]
  },
  {
   "cell_type": "code",
   "execution_count": 75,
   "metadata": {},
   "outputs": [
    {
     "name": "stdout",
     "output_type": "stream",
     "text": [
      "<class 'float'>\n"
     ]
    }
   ],
   "source": [
    "x = 1.5\n",
    "print(type(x))\n"
   ]
  }
 ],
 "metadata": {
  "kernelspec": {
   "display_name": "Python 3",
   "language": "python",
   "name": "python3"
  },
  "language_info": {
   "codemirror_mode": {
    "name": "ipython",
    "version": 3
   },
   "file_extension": ".py",
   "mimetype": "text/x-python",
   "name": "python",
   "nbconvert_exporter": "python",
   "pygments_lexer": "ipython3",
   "version": "3.8.2"
  }
 },
 "nbformat": 4,
 "nbformat_minor": 2
}
