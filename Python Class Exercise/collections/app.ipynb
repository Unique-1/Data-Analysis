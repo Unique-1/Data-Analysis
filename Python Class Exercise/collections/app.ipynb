{
 "cells": [
  {
   "cell_type": "markdown",
   "metadata": {},
   "source": [
    "python collections\n",
    "basically, there are four collections in python.\n",
    "which are;\n",
    "list, set, tuple, adn dictionaries"
   ]
  },
  {
   "cell_type": "markdown",
   "metadata": {},
   "source": [
    "list xteristics: ordered, mutable, allow duplicate\n",
    "list operations: append, insert,remove,pop,sort"
   ]
  },
  {
   "cell_type": "code",
   "execution_count": 13,
   "metadata": {},
   "outputs": [
    {
     "name": "stdout",
     "output_type": "stream",
     "text": [
      "['ade', 'sola', 'sule']\n"
     ]
    }
   ],
   "source": [
    "name = [\"ade\",\"sola\",\"sule\"]\n",
    "print(name)"
   ]
  },
  {
   "cell_type": "code",
   "execution_count": null,
   "metadata": {},
   "outputs": [
    {
     "name": "stdout",
     "output_type": "stream",
     "text": [
      "['ade', 'sola', 'sule', 'moses']\n"
     ]
    }
   ],
   "source": [
    "#append will an element to the last element on the list\n",
    "name.append(\"moses\")\n",
    "print(name)"
   ]
  },
  {
   "cell_type": "code",
   "execution_count": null,
   "metadata": {},
   "outputs": [
    {
     "name": "stdout",
     "output_type": "stream",
     "text": [
      "['ade', 'kolade', 'sola', 'sule', 'moses']\n"
     ]
    }
   ],
   "source": [
    "#insert will an element from ascending order with an index i.e at the beginning of the element\n",
    "name.insert(1, \"kolade\")\n",
    "print(name)"
   ]
  },
  {
   "cell_type": "code",
   "execution_count": null,
   "metadata": {},
   "outputs": [
    {
     "name": "stdout",
     "output_type": "stream",
     "text": [
      "['ade', 'kolade', 'sule', 'moses']\n"
     ]
    }
   ],
   "source": [
    "#remove is used to remove/eleminate an element from the list\n",
    "name.remove(\"sola\")\n",
    "print(name)"
   ]
  },
  {
   "cell_type": "code",
   "execution_count": null,
   "metadata": {},
   "outputs": [
    {
     "name": "stdout",
     "output_type": "stream",
     "text": [
      "['ade', 'kolade', 'sule']\n"
     ]
    }
   ],
   "source": [
    "#pop is used to remove last element from the list \n",
    "name.pop()\n",
    "print(name)"
   ]
  },
  {
   "cell_type": "code",
   "execution_count": 21,
   "metadata": {},
   "outputs": [
    {
     "name": "stdout",
     "output_type": "stream",
     "text": [
      "['ade', 'kolade', 'sule']\n",
      "3\n"
     ]
    }
   ],
   "source": [
    "name.sort()\n",
    "print(name)\n",
    "print(len(name))"
   ]
  },
  {
   "cell_type": "markdown",
   "metadata": {},
   "source": [
    "tuples xteristics: ordered, immutable, allow duplicate value\n",
    "tuple operations: coordinate"
   ]
  },
  {
   "cell_type": "code",
   "execution_count": 26,
   "metadata": {},
   "outputs": [
    {
     "name": "stdout",
     "output_type": "stream",
     "text": [
      "('intel', 'core', 'pentium')\n",
      "3\n",
      "core\n"
     ]
    }
   ],
   "source": [
    "processor = (\"intel\",\"core\",\"pentium\")\n",
    "print(processor)\n",
    "print(len(processor))\n",
    "print(processor[1])"
   ]
  },
  {
   "cell_type": "markdown",
   "metadata": {},
   "source": [
    "set xteristics: unordered, mutable, no duplicate value\n",
    "set operations: add, remove, discard"
   ]
  },
  {
   "cell_type": "code",
   "execution_count": 53,
   "metadata": {},
   "outputs": [
    {
     "name": "stdout",
     "output_type": "stream",
     "text": [
      "{'toyotal', 'lexus', 'BMW'}\n"
     ]
    }
   ],
   "source": [
    "car = {\"toyotal\",\"lexus\",\"BMW\",\"toyotal\"}\n",
    "print(car)"
   ]
  },
  {
   "cell_type": "code",
   "execution_count": 36,
   "metadata": {},
   "outputs": [
    {
     "name": "stdout",
     "output_type": "stream",
     "text": [
      "{'lexus', 'Benz'}\n"
     ]
    }
   ],
   "source": [
    "car.add(\"Benz\")\n",
    "print(car)"
   ]
  },
  {
   "cell_type": "code",
   "execution_count": 37,
   "metadata": {},
   "outputs": [
    {
     "name": "stdout",
     "output_type": "stream",
     "text": [
      "{'lexus'}\n"
     ]
    }
   ],
   "source": [
    "car.remove(\"Benz\")\n",
    "print(car)"
   ]
  },
  {
   "cell_type": "code",
   "execution_count": 38,
   "metadata": {},
   "outputs": [
    {
     "name": "stdout",
     "output_type": "stream",
     "text": [
      "{'lexus'}\n",
      "1\n"
     ]
    }
   ],
   "source": [
    "car.discard(\"ford\")\n",
    "print(car)\n",
    "print(len(car))"
   ]
  },
  {
   "cell_type": "markdown",
   "metadata": {},
   "source": [
    "dictionary xteristics: each item has key and value, ordered, mutable, no duplicate\n",
    "operatins of dictionary:pop, keys, values,"
   ]
  },
  {
   "cell_type": "code",
   "execution_count": 46,
   "metadata": {},
   "outputs": [
    {
     "name": "stdout",
     "output_type": "stream",
     "text": [
      "{'name': 'sule', 'age': 25, 'level': 'NYSC'}\n"
     ]
    }
   ],
   "source": [
    "student = {\"name\":\"sule\",\"age\":25,\"level\":\"NYSC\"}\n",
    "print(student)"
   ]
  },
  {
   "cell_type": "code",
   "execution_count": 48,
   "metadata": {},
   "outputs": [
    {
     "name": "stdout",
     "output_type": "stream",
     "text": [
      "{'name': 'sule', 'level': 'NYSC'}\n"
     ]
    }
   ],
   "source": [
    "student.pop(\"age\")\n",
    "print(student)"
   ]
  },
  {
   "cell_type": "code",
   "execution_count": 51,
   "metadata": {},
   "outputs": [
    {
     "name": "stdout",
     "output_type": "stream",
     "text": [
      "dict_keys(['name', 'level'])\n",
      "dict_values(['sule', 'NYSC'])\n"
     ]
    }
   ],
   "source": [
    "print(student.keys())\n",
    "print(student.values())"
   ]
  },
  {
   "cell_type": "markdown",
   "metadata": {},
   "source": [
    "***comparison table***"
   ]
  },
  {
   "cell_type": "markdown",
   "metadata": {},
   "source": [
    "                |    list   tuple   set    dict\n",
    "oredered        |   yes     yes     no      yes\n",
    "mutable         |   yes     no      yes     yes\n",
    "allow duplicate |   yes     yes     no      no\n"
   ]
  }
 ],
 "metadata": {
  "kernelspec": {
   "display_name": "Python 3",
   "language": "python",
   "name": "python3"
  },
  "language_info": {
   "codemirror_mode": {
    "name": "ipython",
    "version": 3
   },
   "file_extension": ".py",
   "mimetype": "text/x-python",
   "name": "python",
   "nbconvert_exporter": "python",
   "pygments_lexer": "ipython3",
   "version": "3.13.2"
  }
 },
 "nbformat": 4,
 "nbformat_minor": 2
}
