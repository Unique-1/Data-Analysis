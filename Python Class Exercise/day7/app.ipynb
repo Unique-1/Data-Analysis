{
 "cells": [
  {
   "cell_type": "markdown",
   "metadata": {},
   "source": [
    "***Analysing Messi and Ronaldo Record***"
   ]
  },
  {
   "cell_type": "code",
   "execution_count": 59,
   "metadata": {},
   "outputs": [],
   "source": [
    "import pandas as pd\n",
    "import matplotlib.pyplot as plt"
   ]
  },
  {
   "cell_type": "code",
   "execution_count": 60,
   "metadata": {},
   "outputs": [
    {
     "data": {
      "application/vnd.microsoft.datawrangler.viewer.v0+json": {
       "columns": [
        {
         "name": "index",
         "rawType": "int64",
         "type": "integer"
        },
        {
         "name": "Season",
         "rawType": "object",
         "type": "string"
        },
        {
         "name": "Player",
         "rawType": "object",
         "type": "string"
        },
        {
         "name": "Liga_Goals",
         "rawType": "int64",
         "type": "integer"
        },
        {
         "name": "Liga_Asts",
         "rawType": "int64",
         "type": "integer"
        },
        {
         "name": "Liga_Aps",
         "rawType": "int64",
         "type": "integer"
        },
        {
         "name": "Liga_Mins",
         "rawType": "int64",
         "type": "integer"
        },
        {
         "name": "CL_Goals",
         "rawType": "int64",
         "type": "integer"
        },
        {
         "name": "CL_Asts",
         "rawType": "int64",
         "type": "integer"
        },
        {
         "name": "CL_Aps",
         "rawType": "int64",
         "type": "integer"
        },
        {
         "name": "CL_Mins",
         "rawType": "int64",
         "type": "integer"
        }
       ],
       "conversionMethod": "pd.DataFrame",
       "ref": "f7a99e64-5cfe-49df-857a-da81da80b2bd",
       "rows": [
        [
         "0",
         "2017-18",
         "Messi",
         "34",
         "12",
         "36",
         "2996",
         "6",
         "2",
         "10",
         "783"
        ],
        [
         "1",
         "2017-18",
         "Ronaldo",
         "26",
         "5",
         "27",
         "2297",
         "15",
         "3",
         "13",
         "1170"
        ],
        [
         "2",
         "2016-17",
         "Messi",
         "37",
         "9",
         "34",
         "2832",
         "11",
         "2",
         "9",
         "810"
        ],
        [
         "3",
         "2016-17",
         "Ronaldo",
         "25",
         "6",
         "29",
         "2544",
         "12",
         "5",
         "13",
         "1200"
        ],
        [
         "4",
         "2015-16",
         "Messi",
         "26",
         "16",
         "33",
         "2729",
         "6",
         "1",
         "7",
         "630"
        ]
       ],
       "shape": {
        "columns": 10,
        "rows": 5
       }
      },
      "text/html": [
       "<div>\n",
       "<style scoped>\n",
       "    .dataframe tbody tr th:only-of-type {\n",
       "        vertical-align: middle;\n",
       "    }\n",
       "\n",
       "    .dataframe tbody tr th {\n",
       "        vertical-align: top;\n",
       "    }\n",
       "\n",
       "    .dataframe thead th {\n",
       "        text-align: right;\n",
       "    }\n",
       "</style>\n",
       "<table border=\"1\" class=\"dataframe\">\n",
       "  <thead>\n",
       "    <tr style=\"text-align: right;\">\n",
       "      <th></th>\n",
       "      <th>Season</th>\n",
       "      <th>Player</th>\n",
       "      <th>Liga_Goals</th>\n",
       "      <th>Liga_Asts</th>\n",
       "      <th>Liga_Aps</th>\n",
       "      <th>Liga_Mins</th>\n",
       "      <th>CL_Goals</th>\n",
       "      <th>CL_Asts</th>\n",
       "      <th>CL_Aps</th>\n",
       "      <th>CL_Mins</th>\n",
       "    </tr>\n",
       "  </thead>\n",
       "  <tbody>\n",
       "    <tr>\n",
       "      <th>0</th>\n",
       "      <td>2017-18</td>\n",
       "      <td>Messi</td>\n",
       "      <td>34</td>\n",
       "      <td>12</td>\n",
       "      <td>36</td>\n",
       "      <td>2996</td>\n",
       "      <td>6</td>\n",
       "      <td>2</td>\n",
       "      <td>10</td>\n",
       "      <td>783</td>\n",
       "    </tr>\n",
       "    <tr>\n",
       "      <th>1</th>\n",
       "      <td>2017-18</td>\n",
       "      <td>Ronaldo</td>\n",
       "      <td>26</td>\n",
       "      <td>5</td>\n",
       "      <td>27</td>\n",
       "      <td>2297</td>\n",
       "      <td>15</td>\n",
       "      <td>3</td>\n",
       "      <td>13</td>\n",
       "      <td>1170</td>\n",
       "    </tr>\n",
       "    <tr>\n",
       "      <th>2</th>\n",
       "      <td>2016-17</td>\n",
       "      <td>Messi</td>\n",
       "      <td>37</td>\n",
       "      <td>9</td>\n",
       "      <td>34</td>\n",
       "      <td>2832</td>\n",
       "      <td>11</td>\n",
       "      <td>2</td>\n",
       "      <td>9</td>\n",
       "      <td>810</td>\n",
       "    </tr>\n",
       "    <tr>\n",
       "      <th>3</th>\n",
       "      <td>2016-17</td>\n",
       "      <td>Ronaldo</td>\n",
       "      <td>25</td>\n",
       "      <td>6</td>\n",
       "      <td>29</td>\n",
       "      <td>2544</td>\n",
       "      <td>12</td>\n",
       "      <td>5</td>\n",
       "      <td>13</td>\n",
       "      <td>1200</td>\n",
       "    </tr>\n",
       "    <tr>\n",
       "      <th>4</th>\n",
       "      <td>2015-16</td>\n",
       "      <td>Messi</td>\n",
       "      <td>26</td>\n",
       "      <td>16</td>\n",
       "      <td>33</td>\n",
       "      <td>2729</td>\n",
       "      <td>6</td>\n",
       "      <td>1</td>\n",
       "      <td>7</td>\n",
       "      <td>630</td>\n",
       "    </tr>\n",
       "  </tbody>\n",
       "</table>\n",
       "</div>"
      ],
      "text/plain": [
       "    Season   Player  Liga_Goals  Liga_Asts  Liga_Aps  Liga_Mins  CL_Goals  \\\n",
       "0  2017-18    Messi          34         12        36       2996         6   \n",
       "1  2017-18  Ronaldo          26          5        27       2297        15   \n",
       "2  2016-17    Messi          37          9        34       2832        11   \n",
       "3  2016-17  Ronaldo          25          6        29       2544        12   \n",
       "4  2015-16    Messi          26         16        33       2729         6   \n",
       "\n",
       "   CL_Asts  CL_Aps  CL_Mins  \n",
       "0        2      10      783  \n",
       "1        3      13     1170  \n",
       "2        2       9      810  \n",
       "3        5      13     1200  \n",
       "4        1       7      630  "
      ]
     },
     "execution_count": 60,
     "metadata": {},
     "output_type": "execute_result"
    }
   ],
   "source": [
    "df = pd.read_csv('data/MessiRonaldo.csv')\n",
    "df.head()\n",
    "# df.tail(2)"
   ]
  },
  {
   "cell_type": "code",
   "execution_count": 61,
   "metadata": {},
   "outputs": [
    {
     "data": {
      "text/plain": [
       "Index(['Season', 'Player', 'Liga_Goals', 'Liga_Asts', 'Liga_Aps', 'Liga_Mins',\n",
       "       'CL_Goals', 'CL_Asts', 'CL_Aps', 'CL_Mins'],\n",
       "      dtype='object')"
      ]
     },
     "execution_count": 61,
     "metadata": {},
     "output_type": "execute_result"
    }
   ],
   "source": [
    "df.columns"
   ]
  },
  {
   "cell_type": "code",
   "execution_count": 62,
   "metadata": {},
   "outputs": [
    {
     "data": {
      "text/plain": [
       "(18, 10)"
      ]
     },
     "execution_count": 62,
     "metadata": {},
     "output_type": "execute_result"
    }
   ],
   "source": [
    "df.shape"
   ]
  },
  {
   "cell_type": "code",
   "execution_count": 63,
   "metadata": {},
   "outputs": [
    {
     "name": "stdout",
     "output_type": "stream",
     "text": [
      "<class 'pandas.core.frame.DataFrame'>\n",
      "RangeIndex: 18 entries, 0 to 17\n",
      "Data columns (total 10 columns):\n",
      " #   Column      Non-Null Count  Dtype \n",
      "---  ------      --------------  ----- \n",
      " 0   Season      18 non-null     object\n",
      " 1   Player      18 non-null     object\n",
      " 2   Liga_Goals  18 non-null     int64 \n",
      " 3   Liga_Asts   18 non-null     int64 \n",
      " 4   Liga_Aps    18 non-null     int64 \n",
      " 5   Liga_Mins   18 non-null     int64 \n",
      " 6   CL_Goals    18 non-null     int64 \n",
      " 7   CL_Asts     18 non-null     int64 \n",
      " 8   CL_Aps      18 non-null     int64 \n",
      " 9   CL_Mins     18 non-null     int64 \n",
      "dtypes: int64(8), object(2)\n",
      "memory usage: 1.5+ KB\n"
     ]
    }
   ],
   "source": [
    "df.info()"
   ]
  },
  {
   "cell_type": "code",
   "execution_count": 64,
   "metadata": {},
   "outputs": [
    {
     "data": {
      "application/vnd.microsoft.datawrangler.viewer.v0+json": {
       "columns": [
        {
         "name": "index",
         "rawType": "object",
         "type": "string"
        },
        {
         "name": "Liga_Goals",
         "rawType": "float64",
         "type": "float"
        },
        {
         "name": "Liga_Asts",
         "rawType": "float64",
         "type": "float"
        },
        {
         "name": "Liga_Aps",
         "rawType": "float64",
         "type": "float"
        },
        {
         "name": "Liga_Mins",
         "rawType": "float64",
         "type": "float"
        },
        {
         "name": "CL_Goals",
         "rawType": "float64",
         "type": "float"
        },
        {
         "name": "CL_Asts",
         "rawType": "float64",
         "type": "float"
        },
        {
         "name": "CL_Aps",
         "rawType": "float64",
         "type": "float"
        },
        {
         "name": "CL_Mins",
         "rawType": "float64",
         "type": "float"
        }
       ],
       "conversionMethod": "pd.DataFrame",
       "ref": "4825ca03-358e-4954-9e82-577e07d11529",
       "rows": [
        [
         "count",
         "18.0",
         "18.0",
         "18.0",
         "18.0",
         "18.0",
         "18.0",
         "18.0",
         "18.0"
        ],
        [
         "mean",
         "35.55555555555556",
         "13.055555555555555",
         "33.388888888888886",
         "2840.8333333333335",
         "10.444444444444445",
         "3.388888888888889",
         "10.722222222222221",
         "936.7777777777778"
        ],
        [
         "std",
         "8.226372384859507",
         "4.491458851462305",
         "3.2018172944326637",
         "321.28917705723865",
         "3.4678730932445716",
         "2.2265480771520028",
         "2.1910393868598623",
         "208.34122338000498"
        ],
        [
         "min",
         "25.0",
         "5.0",
         "27.0",
         "2297.0",
         "6.0",
         "0.0",
         "6.0",
         "450.0"
        ],
        [
         "25%",
         "28.75",
         "11.0",
         "31.25",
         "2565.25",
         "8.0",
         "2.0",
         "10.0",
         "814.25"
        ],
        [
         "50%",
         "34.0",
         "12.5",
         "34.0",
         "2836.5",
         "10.0",
         "3.5",
         "11.0",
         "990.5"
        ],
        [
         "75%",
         "42.25",
         "15.5",
         "35.75",
         "3071.0",
         "12.0",
         "4.0",
         "12.0",
         "1076.0"
        ],
        [
         "max",
         "50.0",
         "21.0",
         "38.0",
         "3375.0",
         "17.0",
         "9.0",
         "13.0",
         "1200.0"
        ]
       ],
       "shape": {
        "columns": 8,
        "rows": 8
       }
      },
      "text/html": [
       "<div>\n",
       "<style scoped>\n",
       "    .dataframe tbody tr th:only-of-type {\n",
       "        vertical-align: middle;\n",
       "    }\n",
       "\n",
       "    .dataframe tbody tr th {\n",
       "        vertical-align: top;\n",
       "    }\n",
       "\n",
       "    .dataframe thead th {\n",
       "        text-align: right;\n",
       "    }\n",
       "</style>\n",
       "<table border=\"1\" class=\"dataframe\">\n",
       "  <thead>\n",
       "    <tr style=\"text-align: right;\">\n",
       "      <th></th>\n",
       "      <th>Liga_Goals</th>\n",
       "      <th>Liga_Asts</th>\n",
       "      <th>Liga_Aps</th>\n",
       "      <th>Liga_Mins</th>\n",
       "      <th>CL_Goals</th>\n",
       "      <th>CL_Asts</th>\n",
       "      <th>CL_Aps</th>\n",
       "      <th>CL_Mins</th>\n",
       "    </tr>\n",
       "  </thead>\n",
       "  <tbody>\n",
       "    <tr>\n",
       "      <th>count</th>\n",
       "      <td>18.000000</td>\n",
       "      <td>18.000000</td>\n",
       "      <td>18.000000</td>\n",
       "      <td>18.000000</td>\n",
       "      <td>18.000000</td>\n",
       "      <td>18.000000</td>\n",
       "      <td>18.000000</td>\n",
       "      <td>18.000000</td>\n",
       "    </tr>\n",
       "    <tr>\n",
       "      <th>mean</th>\n",
       "      <td>35.555556</td>\n",
       "      <td>13.055556</td>\n",
       "      <td>33.388889</td>\n",
       "      <td>2840.833333</td>\n",
       "      <td>10.444444</td>\n",
       "      <td>3.388889</td>\n",
       "      <td>10.722222</td>\n",
       "      <td>936.777778</td>\n",
       "    </tr>\n",
       "    <tr>\n",
       "      <th>std</th>\n",
       "      <td>8.226372</td>\n",
       "      <td>4.491459</td>\n",
       "      <td>3.201817</td>\n",
       "      <td>321.289177</td>\n",
       "      <td>3.467873</td>\n",
       "      <td>2.226548</td>\n",
       "      <td>2.191039</td>\n",
       "      <td>208.341223</td>\n",
       "    </tr>\n",
       "    <tr>\n",
       "      <th>min</th>\n",
       "      <td>25.000000</td>\n",
       "      <td>5.000000</td>\n",
       "      <td>27.000000</td>\n",
       "      <td>2297.000000</td>\n",
       "      <td>6.000000</td>\n",
       "      <td>0.000000</td>\n",
       "      <td>6.000000</td>\n",
       "      <td>450.000000</td>\n",
       "    </tr>\n",
       "    <tr>\n",
       "      <th>25%</th>\n",
       "      <td>28.750000</td>\n",
       "      <td>11.000000</td>\n",
       "      <td>31.250000</td>\n",
       "      <td>2565.250000</td>\n",
       "      <td>8.000000</td>\n",
       "      <td>2.000000</td>\n",
       "      <td>10.000000</td>\n",
       "      <td>814.250000</td>\n",
       "    </tr>\n",
       "    <tr>\n",
       "      <th>50%</th>\n",
       "      <td>34.000000</td>\n",
       "      <td>12.500000</td>\n",
       "      <td>34.000000</td>\n",
       "      <td>2836.500000</td>\n",
       "      <td>10.000000</td>\n",
       "      <td>3.500000</td>\n",
       "      <td>11.000000</td>\n",
       "      <td>990.500000</td>\n",
       "    </tr>\n",
       "    <tr>\n",
       "      <th>75%</th>\n",
       "      <td>42.250000</td>\n",
       "      <td>15.500000</td>\n",
       "      <td>35.750000</td>\n",
       "      <td>3071.000000</td>\n",
       "      <td>12.000000</td>\n",
       "      <td>4.000000</td>\n",
       "      <td>12.000000</td>\n",
       "      <td>1076.000000</td>\n",
       "    </tr>\n",
       "    <tr>\n",
       "      <th>max</th>\n",
       "      <td>50.000000</td>\n",
       "      <td>21.000000</td>\n",
       "      <td>38.000000</td>\n",
       "      <td>3375.000000</td>\n",
       "      <td>17.000000</td>\n",
       "      <td>9.000000</td>\n",
       "      <td>13.000000</td>\n",
       "      <td>1200.000000</td>\n",
       "    </tr>\n",
       "  </tbody>\n",
       "</table>\n",
       "</div>"
      ],
      "text/plain": [
       "       Liga_Goals  Liga_Asts   Liga_Aps    Liga_Mins   CL_Goals    CL_Asts  \\\n",
       "count   18.000000  18.000000  18.000000    18.000000  18.000000  18.000000   \n",
       "mean    35.555556  13.055556  33.388889  2840.833333  10.444444   3.388889   \n",
       "std      8.226372   4.491459   3.201817   321.289177   3.467873   2.226548   \n",
       "min     25.000000   5.000000  27.000000  2297.000000   6.000000   0.000000   \n",
       "25%     28.750000  11.000000  31.250000  2565.250000   8.000000   2.000000   \n",
       "50%     34.000000  12.500000  34.000000  2836.500000  10.000000   3.500000   \n",
       "75%     42.250000  15.500000  35.750000  3071.000000  12.000000   4.000000   \n",
       "max     50.000000  21.000000  38.000000  3375.000000  17.000000   9.000000   \n",
       "\n",
       "          CL_Aps      CL_Mins  \n",
       "count  18.000000    18.000000  \n",
       "mean   10.722222   936.777778  \n",
       "std     2.191039   208.341223  \n",
       "min     6.000000   450.000000  \n",
       "25%    10.000000   814.250000  \n",
       "50%    11.000000   990.500000  \n",
       "75%    12.000000  1076.000000  \n",
       "max    13.000000  1200.000000  "
      ]
     },
     "execution_count": 64,
     "metadata": {},
     "output_type": "execute_result"
    }
   ],
   "source": [
    "df.describe()"
   ]
  },
  {
   "cell_type": "code",
   "execution_count": 65,
   "metadata": {},
   "outputs": [
    {
     "data": {
      "text/plain": [
       "Season        object\n",
       "Player        object\n",
       "Liga_Goals     int64\n",
       "Liga_Asts      int64\n",
       "Liga_Aps       int64\n",
       "Liga_Mins      int64\n",
       "CL_Goals       int64\n",
       "CL_Asts        int64\n",
       "CL_Aps         int64\n",
       "CL_Mins        int64\n",
       "dtype: object"
      ]
     },
     "execution_count": 65,
     "metadata": {},
     "output_type": "execute_result"
    }
   ],
   "source": [
    "df.dtypes"
   ]
  },
  {
   "cell_type": "code",
   "execution_count": 73,
   "metadata": {},
   "outputs": [
    {
     "name": "stdout",
     "output_type": "stream",
     "text": [
      "     Player  Liga_Goals  Liga_Asts\n",
      "0     Messi          34         12\n",
      "1   Ronaldo          26          5\n",
      "2     Messi          37          9\n",
      "3   Ronaldo          25          6\n",
      "4     Messi          26         16\n",
      "5   Ronaldo          35         11\n",
      "6     Messi          43         21\n",
      "7   Ronaldo          48         16\n",
      "8     Messi          28         12\n",
      "9   Ronaldo          31         11\n",
      "10    Messi          46         14\n",
      "11  Ronaldo          34         11\n",
      "12    Messi          50         20\n",
      "13  Ronaldo          46         13\n",
      "14    Messi          31         21\n",
      "15  Ronaldo          40         13\n",
      "16    Messi          34         13\n",
      "17  Ronaldo          26         11\n"
     ]
    },
    {
     "data": {
      "application/vnd.microsoft.datawrangler.viewer.v0+json": {
       "columns": [
        {
         "name": "index",
         "rawType": "int64",
         "type": "integer"
        },
        {
         "name": "Player",
         "rawType": "object",
         "type": "string"
        },
        {
         "name": "Liga_Goals",
         "rawType": "int64",
         "type": "integer"
        },
        {
         "name": "Liga_Asts",
         "rawType": "int64",
         "type": "integer"
        }
       ],
       "conversionMethod": "pd.DataFrame",
       "ref": "682b692c-a79d-41a9-b93c-62062073ac5a",
       "rows": [
        [
         "0",
         "Messi",
         "34",
         "12"
        ],
        [
         "1",
         "Ronaldo",
         "26",
         "5"
        ]
       ],
       "shape": {
        "columns": 3,
        "rows": 2
       }
      },
      "text/html": [
       "<div>\n",
       "<style scoped>\n",
       "    .dataframe tbody tr th:only-of-type {\n",
       "        vertical-align: middle;\n",
       "    }\n",
       "\n",
       "    .dataframe tbody tr th {\n",
       "        vertical-align: top;\n",
       "    }\n",
       "\n",
       "    .dataframe thead th {\n",
       "        text-align: right;\n",
       "    }\n",
       "</style>\n",
       "<table border=\"1\" class=\"dataframe\">\n",
       "  <thead>\n",
       "    <tr style=\"text-align: right;\">\n",
       "      <th></th>\n",
       "      <th>Player</th>\n",
       "      <th>Liga_Goals</th>\n",
       "      <th>Liga_Asts</th>\n",
       "    </tr>\n",
       "  </thead>\n",
       "  <tbody>\n",
       "    <tr>\n",
       "      <th>0</th>\n",
       "      <td>Messi</td>\n",
       "      <td>34</td>\n",
       "      <td>12</td>\n",
       "    </tr>\n",
       "    <tr>\n",
       "      <th>1</th>\n",
       "      <td>Ronaldo</td>\n",
       "      <td>26</td>\n",
       "      <td>5</td>\n",
       "    </tr>\n",
       "  </tbody>\n",
       "</table>\n",
       "</div>"
      ],
      "text/plain": [
       "    Player  Liga_Goals  Liga_Asts\n",
       "0    Messi          34         12\n",
       "1  Ronaldo          26          5"
      ]
     },
     "execution_count": 73,
     "metadata": {},
     "output_type": "execute_result"
    }
   ],
   "source": [
    "goals1 = df[['Player','Liga_Goals','Liga_Asts']]\n",
    "print(goals1)\n",
    "goals1.head(2)"
   ]
  },
  {
   "cell_type": "code",
   "execution_count": 67,
   "metadata": {},
   "outputs": [
    {
     "name": "stdout",
     "output_type": "stream",
     "text": [
      "Player\n",
      "Messi      9\n",
      "Ronaldo    9\n",
      "Name: count, dtype: int64\n"
     ]
    },
    {
     "data": {
      "image/png": "[encoded data removed]",
      "text/plain": [
       "<Figure size 640x480 with 1 Axes>"
      ]
     },
     "metadata": {},
     "output_type": "display_data"
    }
   ],
   "source": [
    "print((df['Player']).value_counts())\n",
    "goals2 = df['Player'].value_counts().plot(kind='bar', title='Players Name')\n",
    "# plt.show()"
   ]
  },
  {
   "cell_type": "markdown",
   "metadata": {},
   "source": [
    "***Filtering a column***"
   ]
  },
  {
   "cell_type": "code",
   "execution_count": 70,
   "metadata": {},
   "outputs": [
    {
     "name": "stdout",
     "output_type": "stream",
     "text": [
      "     Season Player  Liga_Goals  Liga_Asts  Liga_Aps  Liga_Mins  CL_Goals  \\\n",
      "0   2017-18  Messi          34         12        36       2996         6   \n",
      "2   2016-17  Messi          37          9        34       2832        11   \n",
      "4   2015-16  Messi          26         16        33       2729         6   \n",
      "6   2014-15  Messi          43         21        38       3375        10   \n",
      "8   2013-14  Messi          28         12        31       2498         8   \n",
      "10  2012-13  Messi          46         14        32       2629         8   \n",
      "12  2011-12  Messi          50         20        37       3270        14   \n",
      "14  2010-11  Messi          31         21        33       2862        12   \n",
      "16  2009-10  Messi          34         13        35       2841         8   \n",
      "\n",
      "    CL_Asts  CL_Aps  CL_Mins  \n",
      "0         2      10      783  \n",
      "2         2       9      810  \n",
      "4         1       7      630  \n",
      "6         6      13     1145  \n",
      "8         1       7      630  \n",
      "10        3      11      827  \n",
      "12        9      11      990  \n",
      "14        4      13     1050  \n",
      "16        0      11      985  \n"
     ]
    }
   ],
   "source": [
    "# names = df['Player'] = 'Skills'\n",
    "print(df[df['Player']=='Messi'])\n",
    "df.to_csv('data/output.csv', index=False)\n",
    "# print(df[df['Liga_Goals']>40])"
   ]
  },
  {
   "cell_type": "markdown",
   "metadata": {},
   "source": [
    "***Data Cleaning***"
   ]
  },
  {
   "cell_type": "code",
   "execution_count": 42,
   "metadata": {},
   "outputs": [
    {
     "name": "stdout",
     "output_type": "stream",
     "text": [
      "    Season  Player  Liga_Goals  Liga_Asts  Liga_Aps  Liga_Mins  CL_Goals  \\\n",
      "0    False   False       False      False     False      False     False   \n",
      "1    False   False       False      False     False      False     False   \n",
      "2    False   False       False      False     False      False     False   \n",
      "3    False   False       False      False     False      False     False   \n",
      "4    False   False       False      False     False      False     False   \n",
      "5    False   False       False      False     False      False     False   \n",
      "6    False   False       False      False     False      False     False   \n",
      "7    False   False       False      False     False      False     False   \n",
      "8    False   False       False      False     False      False     False   \n",
      "9    False   False       False      False     False      False     False   \n",
      "10   False   False       False      False     False      False     False   \n",
      "11   False   False       False      False     False      False     False   \n",
      "12   False   False       False      False     False      False     False   \n",
      "13   False   False       False      False     False      False     False   \n",
      "14   False   False       False      False     False      False     False   \n",
      "15   False   False       False      False     False      False     False   \n",
      "16   False   False       False      False     False      False     False   \n",
      "17   False   False       False      False     False      False     False   \n",
      "\n",
      "    CL_Asts  CL_Aps  CL_Mins  \n",
      "0     False   False    False  \n",
      "1     False   False    False  \n",
      "2     False   False    False  \n",
      "3     False   False    False  \n",
      "4     False   False    False  \n",
      "5     False   False    False  \n",
      "6     False   False    False  \n",
      "7     False   False    False  \n",
      "8     False   False    False  \n",
      "9     False   False    False  \n",
      "10    False   False    False  \n",
      "11    False   False    False  \n",
      "12    False   False    False  \n",
      "13    False   False    False  \n",
      "14    False   False    False  \n",
      "15    False   False    False  \n",
      "16    False   False    False  \n",
      "17    False   False    False  \n"
     ]
    }
   ],
   "source": [
    "print(df.isna()) # to check for a missing value\n",
    "# print(df.dropna())  # to drop a rows with NAN value \n",
    "# print(df.fillna(0)) # to replace Nan with 0\n"
   ]
  },
  {
   "cell_type": "markdown",
   "metadata": {},
   "source": [
    "***How to rename a column in Dataframe***"
   ]
  },
  {
   "cell_type": "code",
   "execution_count": 4,
   "metadata": {},
   "outputs": [],
   "source": [
    "df = pd.DataFrame({\"col1\":[1,2,3],\"col2\":[4,5,6]})"
   ]
  },
  {
   "cell_type": "code",
   "execution_count": null,
   "metadata": {},
   "outputs": [
    {
     "name": "stdout",
     "output_type": "stream",
     "text": [
      "   col1  col2\n",
      "0     1     4\n",
      "1     2     5\n",
      "2     3     6\n"
     ]
    }
   ],
   "source": [
    "print(df)"
   ]
  },
  {
   "cell_type": "code",
   "execution_count": 10,
   "metadata": {},
   "outputs": [
    {
     "name": "stdout",
     "output_type": "stream",
     "text": [
      "   ID  value\n",
      "0   1      4\n",
      "1   2      5\n",
      "2   3      6\n"
     ]
    }
   ],
   "source": [
    "nwcol = df.rename(columns={\"col1\":\"ID\",\"col2\":\"value\"})\n",
    "print(nwcol)"
   ]
  }
 ],
 "metadata": {
  "kernelspec": {
   "display_name": "venv",
   "language": "python",
   "name": "python3"
  },
  "language_info": {
   "codemirror_mode": {
    "name": "ipython",
    "version": 3
   },
   "file_extension": ".py",
   "mimetype": "text/x-python",
   "name": "python",
   "nbconvert_exporter": "python",
   "pygments_lexer": "ipython3",
   "version": "3.13.2"
  }
 },
 "nbformat": 4,
 "nbformat_minor": 2
}
